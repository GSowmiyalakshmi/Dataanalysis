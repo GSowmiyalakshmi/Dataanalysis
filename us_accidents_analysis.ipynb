{
  "nbformat": 4,
  "nbformat_minor": 0,
  "metadata": {
    "colab": {
      "name": "us-accidents-analysis.ipynb",
      "provenance": [],
      "collapsed_sections": []
    },
    "kernelspec": {
      "display_name": "Python 3",
      "language": "python",
      "name": "python3"
    },
    "language_info": {
      "codemirror_mode": {
        "name": "ipython",
        "version": 3
      },
      "file_extension": ".py",
      "mimetype": "text/x-python",
      "name": "python",
      "nbconvert_exporter": "python",
      "pygments_lexer": "ipython3",
      "version": "3.7.6"
    }
  },
  "cells": [
    {
      "cell_type": "code",
      "metadata": {
        "id": "fJ-4SijFTC2Q"
      },
      "source": [
        "# Jovian Commit Essentials\n",
        "# Please retain and execute this cell without modifying the contents for `jovian.commit` to work\n",
        "!pip install jovian --upgrade -q\n",
        "import jovian\n",
        "jovian.set_project('us-accidents-analysis')\n",
        "jovian.set_colab_id('1b3yMZ4AHtphLAKREuwMpfrITf8B4zKpf')"
      ],
      "execution_count": null,
      "outputs": []
    },
    {
      "cell_type": "code",
      "metadata": {
        "colab": {
          "base_uri": "https://localhost:8080/",
          "height": 180
        },
        "id": "T21HKJQs8eNX",
        "outputId": "11e81173-cc55-4937-87fb-49e0a463ced7"
      },
      "source": [
        "jovian.commit(message=\"jovian version commit message\",\n",
        "              git_message=\"git commit message\")"
      ],
      "execution_count": null,
      "outputs": [
        {
          "ename": "NameError",
          "evalue": "ignored",
          "output_type": "error",
          "traceback": [
            "\u001b[0;31m---------------------------------------------------------------------------\u001b[0m",
            "\u001b[0;31mNameError\u001b[0m                                 Traceback (most recent call last)",
            "\u001b[0;32m<ipython-input-1-24cedfedaad3>\u001b[0m in \u001b[0;36m<module>\u001b[0;34m()\u001b[0m\n\u001b[0;32m----> 1\u001b[0;31m jovian.commit(message=\"jovian version commit message\",\n\u001b[0m\u001b[1;32m      2\u001b[0m               git_message=\"git commit message\")\n",
            "\u001b[0;31mNameError\u001b[0m: name 'jovian' is not defined"
          ]
        }
      ]
    },
    {
      "cell_type": "markdown",
      "metadata": {
        "id": "3JegWH_4xSVE"
      },
      "source": [
        "# us-accidents-analysis\n",
        "\n",
        "Use the \"Run\" button to execute the code."
      ]
    },
    {
      "cell_type": "code",
      "metadata": {
        "id": "UfpTMS7sxSVO"
      },
      "source": [
        "!pip install jovian --upgrade --quiet"
      ],
      "execution_count": null,
      "outputs": []
    },
    {
      "cell_type": "code",
      "metadata": {
        "id": "gK2yBGtzxSVP"
      },
      "source": [
        "import jovian"
      ],
      "execution_count": null,
      "outputs": []
    },
    {
      "cell_type": "code",
      "metadata": {
        "colab": {
          "base_uri": "https://localhost:8080/",
          "height": 120
        },
        "id": "oHJtcsnNxSVP",
        "outputId": "e2a2670b-4aa2-4abc-b979-9c3515d73048"
      },
      "source": [
        "# Execute this to save new versions of the notebook\n",
        "jovian.commit(project=\"us-accidents-analysis\")"
      ],
      "execution_count": null,
      "outputs": [
        {
          "name": "stdout",
          "output_type": "stream",
          "text": [
            "[jovian] Detected Colab notebook...\u001b[0m\n",
            "[jovian] Please enter your API key ( from https://jovian.ai/ ):\u001b[0m\n",
            "API KEY: ··········\n",
            "[jovian] Uploading colab notebook to Jovian...\u001b[0m\n",
            "Committed successfully! https://jovian.ai/iamsowmiya16/us-accidents-analysis\n"
          ]
        },
        {
          "data": {
            "application/vnd.google.colaboratory.intrinsic+json": {
              "type": "string"
            },
            "text/plain": [
              "'https://jovian.ai/iamsowmiya16/us-accidents-analysis'"
            ]
          },
          "execution_count": 4,
          "metadata": {},
          "output_type": "execute_result"
        }
      ]
    },
    {
      "cell_type": "markdown",
      "metadata": {
        "id": "f4z9bbk50Iz8"
      },
      "source": [
        "# #US Accident exploratory data analysis\n",
        "To do : To talk about the EDA\n",
        "To do : To talk about the data sets(sources, what it contains, how it will be useful)\n",
        "\n",
        "*   Kaggle information\n",
        "*   Information about the accidents\n",
        "*   Useful to prevent accidents\n",
        "*   No data for New york\n",
        "\n",
        "\n",
        "\n",
        "\n",
        "\n",
        "\n",
        "\n",
        "\n",
        "\n"
      ]
    },
    {
      "cell_type": "markdown",
      "metadata": {
        "id": "SSzTUdgVzlM6"
      },
      "source": [
        "#download the data"
      ]
    },
    {
      "cell_type": "code",
      "metadata": {
        "id": "_LpfvQyPxSVQ"
      },
      "source": [
        "pip install opendatasets --upgrade --quiet"
      ],
      "execution_count": null,
      "outputs": []
    },
    {
      "cell_type": "code",
      "metadata": {
        "id": "9t79nDdr2yl8"
      },
      "source": [
        "import opendatasets as od"
      ],
      "execution_count": null,
      "outputs": []
    },
    {
      "cell_type": "code",
      "metadata": {
        "colab": {
          "base_uri": "https://localhost:8080/"
        },
        "id": "R6hZW-s-2914",
        "outputId": "3b08d7af-24c2-4928-d613-a277a6596cd5"
      },
      "source": [
        "download_url = 'https://www.kaggle.com/sobhanmoosavi/us-accidents'\n",
        "od.download(download_url)"
      ],
      "execution_count": null,
      "outputs": [
        {
          "name": "stdout",
          "output_type": "stream",
          "text": [
            "Please provide your Kaggle credentials to download this dataset. Learn more: http://bit.ly/kaggle-creds\n",
            "Your Kaggle username: sowmiyalakshmi\n",
            "Your Kaggle Key: ··········\n",
            "Downloading us-accidents.zip to ./us-accidents\n"
          ]
        },
        {
          "name": "stderr",
          "output_type": "stream",
          "text": [
            "100%|██████████| 117M/117M [00:00<00:00, 207MB/s]\n"
          ]
        },
        {
          "name": "stdout",
          "output_type": "stream",
          "text": [
            "\n"
          ]
        }
      ]
    },
    {
      "cell_type": "code",
      "metadata": {
        "id": "iJvPZFRB22e4"
      },
      "source": [
        "data_filename = './us-accidents/US_Accidents_Dec20_updated.csv'"
      ],
      "execution_count": null,
      "outputs": []
    },
    {
      "cell_type": "markdown",
      "metadata": {
        "id": "xu5rGTefzvuF"
      },
      "source": [
        "#Data preparation and cleaning\n",
        "\n",
        "1.   Load the file using pandas\n",
        "2.   Look at some information about the file\n",
        "3.   Fix any missing or incorrect values\n",
        "\n",
        "\n",
        "\n",
        "\n",
        "\n",
        "\n",
        "\n"
      ]
    },
    {
      "cell_type": "code",
      "metadata": {
        "id": "0RCbXx3y5EZl"
      },
      "source": [
        "import pandas as pd"
      ],
      "execution_count": null,
      "outputs": []
    },
    {
      "cell_type": "code",
      "metadata": {
        "id": "avAxKz6BxVw7"
      },
      "source": [
        "df = pd.read_csv(data_filename)"
      ],
      "execution_count": null,
      "outputs": []
    },
    {
      "cell_type": "code",
      "metadata": {
        "colab": {
          "base_uri": "https://localhost:8080/",
          "height": 881
        },
        "id": "eahZt87sz3tv",
        "outputId": "4930ce94-b930-4e45-bdf5-b6d341b36029"
      },
      "source": [
        "df"
      ],
      "execution_count": null,
      "outputs": [
        {
          "data": {
            "text/html": [
              "<div>\n",
              "<style scoped>\n",
              "    .dataframe tbody tr th:only-of-type {\n",
              "        vertical-align: middle;\n",
              "    }\n",
              "\n",
              "    .dataframe tbody tr th {\n",
              "        vertical-align: top;\n",
              "    }\n",
              "\n",
              "    .dataframe thead th {\n",
              "        text-align: right;\n",
              "    }\n",
              "</style>\n",
              "<table border=\"1\" class=\"dataframe\">\n",
              "  <thead>\n",
              "    <tr style=\"text-align: right;\">\n",
              "      <th></th>\n",
              "      <th>ID</th>\n",
              "      <th>Severity</th>\n",
              "      <th>Start_Time</th>\n",
              "      <th>End_Time</th>\n",
              "      <th>Start_Lat</th>\n",
              "      <th>Start_Lng</th>\n",
              "      <th>End_Lat</th>\n",
              "      <th>End_Lng</th>\n",
              "      <th>Distance(mi)</th>\n",
              "      <th>Description</th>\n",
              "      <th>Number</th>\n",
              "      <th>Street</th>\n",
              "      <th>Side</th>\n",
              "      <th>City</th>\n",
              "      <th>County</th>\n",
              "      <th>State</th>\n",
              "      <th>Zipcode</th>\n",
              "      <th>Country</th>\n",
              "      <th>Timezone</th>\n",
              "      <th>Airport_Code</th>\n",
              "      <th>Weather_Timestamp</th>\n",
              "      <th>Temperature(F)</th>\n",
              "      <th>Wind_Chill(F)</th>\n",
              "      <th>Humidity(%)</th>\n",
              "      <th>Pressure(in)</th>\n",
              "      <th>Visibility(mi)</th>\n",
              "      <th>Wind_Direction</th>\n",
              "      <th>Wind_Speed(mph)</th>\n",
              "      <th>Precipitation(in)</th>\n",
              "      <th>Weather_Condition</th>\n",
              "      <th>Amenity</th>\n",
              "      <th>Bump</th>\n",
              "      <th>Crossing</th>\n",
              "      <th>Give_Way</th>\n",
              "      <th>Junction</th>\n",
              "      <th>No_Exit</th>\n",
              "      <th>Railway</th>\n",
              "      <th>Roundabout</th>\n",
              "      <th>Station</th>\n",
              "      <th>Stop</th>\n",
              "      <th>Traffic_Calming</th>\n",
              "      <th>Traffic_Signal</th>\n",
              "      <th>Turning_Loop</th>\n",
              "      <th>Sunrise_Sunset</th>\n",
              "      <th>Civil_Twilight</th>\n",
              "      <th>Nautical_Twilight</th>\n",
              "      <th>Astronomical_Twilight</th>\n",
              "    </tr>\n",
              "  </thead>\n",
              "  <tbody>\n",
              "    <tr>\n",
              "      <th>0</th>\n",
              "      <td>A-2716600</td>\n",
              "      <td>3</td>\n",
              "      <td>2016-02-08 00:37:08</td>\n",
              "      <td>2016-02-08 06:37:08</td>\n",
              "      <td>40.10891</td>\n",
              "      <td>-83.09286</td>\n",
              "      <td>40.11206</td>\n",
              "      <td>-83.03187</td>\n",
              "      <td>3.230</td>\n",
              "      <td>Between Sawmill Rd/Exit 20 and OH-315/Olentang...</td>\n",
              "      <td>NaN</td>\n",
              "      <td>Outerbelt E</td>\n",
              "      <td>R</td>\n",
              "      <td>Dublin</td>\n",
              "      <td>Franklin</td>\n",
              "      <td>OH</td>\n",
              "      <td>43017</td>\n",
              "      <td>US</td>\n",
              "      <td>US/Eastern</td>\n",
              "      <td>KOSU</td>\n",
              "      <td>2016-02-08 00:53:00</td>\n",
              "      <td>42.1</td>\n",
              "      <td>36.1</td>\n",
              "      <td>58.0</td>\n",
              "      <td>29.76</td>\n",
              "      <td>10.0</td>\n",
              "      <td>SW</td>\n",
              "      <td>10.4</td>\n",
              "      <td>0.00</td>\n",
              "      <td>Light Rain</td>\n",
              "      <td>False</td>\n",
              "      <td>False</td>\n",
              "      <td>False</td>\n",
              "      <td>False</td>\n",
              "      <td>False</td>\n",
              "      <td>False</td>\n",
              "      <td>False</td>\n",
              "      <td>False</td>\n",
              "      <td>False</td>\n",
              "      <td>False</td>\n",
              "      <td>False</td>\n",
              "      <td>False</td>\n",
              "      <td>False</td>\n",
              "      <td>Night</td>\n",
              "      <td>Night</td>\n",
              "      <td>Night</td>\n",
              "      <td>Night</td>\n",
              "    </tr>\n",
              "    <tr>\n",
              "      <th>1</th>\n",
              "      <td>A-2716601</td>\n",
              "      <td>2</td>\n",
              "      <td>2016-02-08 05:56:20</td>\n",
              "      <td>2016-02-08 11:56:20</td>\n",
              "      <td>39.86542</td>\n",
              "      <td>-84.06280</td>\n",
              "      <td>39.86501</td>\n",
              "      <td>-84.04873</td>\n",
              "      <td>0.747</td>\n",
              "      <td>At OH-4/OH-235/Exit 41 - Accident.</td>\n",
              "      <td>NaN</td>\n",
              "      <td>I-70 E</td>\n",
              "      <td>R</td>\n",
              "      <td>Dayton</td>\n",
              "      <td>Montgomery</td>\n",
              "      <td>OH</td>\n",
              "      <td>45424</td>\n",
              "      <td>US</td>\n",
              "      <td>US/Eastern</td>\n",
              "      <td>KFFO</td>\n",
              "      <td>2016-02-08 05:58:00</td>\n",
              "      <td>36.9</td>\n",
              "      <td>NaN</td>\n",
              "      <td>91.0</td>\n",
              "      <td>29.68</td>\n",
              "      <td>10.0</td>\n",
              "      <td>Calm</td>\n",
              "      <td>NaN</td>\n",
              "      <td>0.02</td>\n",
              "      <td>Light Rain</td>\n",
              "      <td>False</td>\n",
              "      <td>False</td>\n",
              "      <td>False</td>\n",
              "      <td>False</td>\n",
              "      <td>False</td>\n",
              "      <td>False</td>\n",
              "      <td>False</td>\n",
              "      <td>False</td>\n",
              "      <td>False</td>\n",
              "      <td>False</td>\n",
              "      <td>False</td>\n",
              "      <td>False</td>\n",
              "      <td>False</td>\n",
              "      <td>Night</td>\n",
              "      <td>Night</td>\n",
              "      <td>Night</td>\n",
              "      <td>Night</td>\n",
              "    </tr>\n",
              "    <tr>\n",
              "      <th>2</th>\n",
              "      <td>A-2716602</td>\n",
              "      <td>2</td>\n",
              "      <td>2016-02-08 06:15:39</td>\n",
              "      <td>2016-02-08 12:15:39</td>\n",
              "      <td>39.10266</td>\n",
              "      <td>-84.52468</td>\n",
              "      <td>39.10209</td>\n",
              "      <td>-84.52396</td>\n",
              "      <td>0.055</td>\n",
              "      <td>At I-71/US-50/Exit 1 - Accident.</td>\n",
              "      <td>NaN</td>\n",
              "      <td>I-75 S</td>\n",
              "      <td>R</td>\n",
              "      <td>Cincinnati</td>\n",
              "      <td>Hamilton</td>\n",
              "      <td>OH</td>\n",
              "      <td>45203</td>\n",
              "      <td>US</td>\n",
              "      <td>US/Eastern</td>\n",
              "      <td>KLUK</td>\n",
              "      <td>2016-02-08 05:53:00</td>\n",
              "      <td>36.0</td>\n",
              "      <td>NaN</td>\n",
              "      <td>97.0</td>\n",
              "      <td>29.70</td>\n",
              "      <td>10.0</td>\n",
              "      <td>Calm</td>\n",
              "      <td>NaN</td>\n",
              "      <td>0.02</td>\n",
              "      <td>Overcast</td>\n",
              "      <td>False</td>\n",
              "      <td>False</td>\n",
              "      <td>False</td>\n",
              "      <td>False</td>\n",
              "      <td>True</td>\n",
              "      <td>False</td>\n",
              "      <td>False</td>\n",
              "      <td>False</td>\n",
              "      <td>False</td>\n",
              "      <td>False</td>\n",
              "      <td>False</td>\n",
              "      <td>False</td>\n",
              "      <td>False</td>\n",
              "      <td>Night</td>\n",
              "      <td>Night</td>\n",
              "      <td>Night</td>\n",
              "      <td>Day</td>\n",
              "    </tr>\n",
              "    <tr>\n",
              "      <th>3</th>\n",
              "      <td>A-2716603</td>\n",
              "      <td>2</td>\n",
              "      <td>2016-02-08 06:15:39</td>\n",
              "      <td>2016-02-08 12:15:39</td>\n",
              "      <td>39.10148</td>\n",
              "      <td>-84.52341</td>\n",
              "      <td>39.09841</td>\n",
              "      <td>-84.52241</td>\n",
              "      <td>0.219</td>\n",
              "      <td>At I-71/US-50/Exit 1 - Accident.</td>\n",
              "      <td>NaN</td>\n",
              "      <td>US-50 E</td>\n",
              "      <td>R</td>\n",
              "      <td>Cincinnati</td>\n",
              "      <td>Hamilton</td>\n",
              "      <td>OH</td>\n",
              "      <td>45202</td>\n",
              "      <td>US</td>\n",
              "      <td>US/Eastern</td>\n",
              "      <td>KLUK</td>\n",
              "      <td>2016-02-08 05:53:00</td>\n",
              "      <td>36.0</td>\n",
              "      <td>NaN</td>\n",
              "      <td>97.0</td>\n",
              "      <td>29.70</td>\n",
              "      <td>10.0</td>\n",
              "      <td>Calm</td>\n",
              "      <td>NaN</td>\n",
              "      <td>0.02</td>\n",
              "      <td>Overcast</td>\n",
              "      <td>False</td>\n",
              "      <td>False</td>\n",
              "      <td>False</td>\n",
              "      <td>False</td>\n",
              "      <td>True</td>\n",
              "      <td>False</td>\n",
              "      <td>False</td>\n",
              "      <td>False</td>\n",
              "      <td>False</td>\n",
              "      <td>False</td>\n",
              "      <td>False</td>\n",
              "      <td>False</td>\n",
              "      <td>False</td>\n",
              "      <td>Night</td>\n",
              "      <td>Night</td>\n",
              "      <td>Night</td>\n",
              "      <td>Day</td>\n",
              "    </tr>\n",
              "    <tr>\n",
              "      <th>4</th>\n",
              "      <td>A-2716604</td>\n",
              "      <td>2</td>\n",
              "      <td>2016-02-08 06:51:45</td>\n",
              "      <td>2016-02-08 12:51:45</td>\n",
              "      <td>41.06213</td>\n",
              "      <td>-81.53784</td>\n",
              "      <td>41.06217</td>\n",
              "      <td>-81.53547</td>\n",
              "      <td>0.123</td>\n",
              "      <td>At Dart Ave/Exit 21 - Accident.</td>\n",
              "      <td>NaN</td>\n",
              "      <td>I-77 N</td>\n",
              "      <td>R</td>\n",
              "      <td>Akron</td>\n",
              "      <td>Summit</td>\n",
              "      <td>OH</td>\n",
              "      <td>44311</td>\n",
              "      <td>US</td>\n",
              "      <td>US/Eastern</td>\n",
              "      <td>KAKR</td>\n",
              "      <td>2016-02-08 06:54:00</td>\n",
              "      <td>39.0</td>\n",
              "      <td>NaN</td>\n",
              "      <td>55.0</td>\n",
              "      <td>29.65</td>\n",
              "      <td>10.0</td>\n",
              "      <td>Calm</td>\n",
              "      <td>NaN</td>\n",
              "      <td>NaN</td>\n",
              "      <td>Overcast</td>\n",
              "      <td>False</td>\n",
              "      <td>False</td>\n",
              "      <td>False</td>\n",
              "      <td>False</td>\n",
              "      <td>False</td>\n",
              "      <td>False</td>\n",
              "      <td>False</td>\n",
              "      <td>False</td>\n",
              "      <td>False</td>\n",
              "      <td>False</td>\n",
              "      <td>False</td>\n",
              "      <td>False</td>\n",
              "      <td>False</td>\n",
              "      <td>Night</td>\n",
              "      <td>Night</td>\n",
              "      <td>Day</td>\n",
              "      <td>Day</td>\n",
              "    </tr>\n",
              "    <tr>\n",
              "      <th>...</th>\n",
              "      <td>...</td>\n",
              "      <td>...</td>\n",
              "      <td>...</td>\n",
              "      <td>...</td>\n",
              "      <td>...</td>\n",
              "      <td>...</td>\n",
              "      <td>...</td>\n",
              "      <td>...</td>\n",
              "      <td>...</td>\n",
              "      <td>...</td>\n",
              "      <td>...</td>\n",
              "      <td>...</td>\n",
              "      <td>...</td>\n",
              "      <td>...</td>\n",
              "      <td>...</td>\n",
              "      <td>...</td>\n",
              "      <td>...</td>\n",
              "      <td>...</td>\n",
              "      <td>...</td>\n",
              "      <td>...</td>\n",
              "      <td>...</td>\n",
              "      <td>...</td>\n",
              "      <td>...</td>\n",
              "      <td>...</td>\n",
              "      <td>...</td>\n",
              "      <td>...</td>\n",
              "      <td>...</td>\n",
              "      <td>...</td>\n",
              "      <td>...</td>\n",
              "      <td>...</td>\n",
              "      <td>...</td>\n",
              "      <td>...</td>\n",
              "      <td>...</td>\n",
              "      <td>...</td>\n",
              "      <td>...</td>\n",
              "      <td>...</td>\n",
              "      <td>...</td>\n",
              "      <td>...</td>\n",
              "      <td>...</td>\n",
              "      <td>...</td>\n",
              "      <td>...</td>\n",
              "      <td>...</td>\n",
              "      <td>...</td>\n",
              "      <td>...</td>\n",
              "      <td>...</td>\n",
              "      <td>...</td>\n",
              "      <td>...</td>\n",
              "    </tr>\n",
              "    <tr>\n",
              "      <th>1516059</th>\n",
              "      <td>A-4239402</td>\n",
              "      <td>2</td>\n",
              "      <td>2019-08-23 18:03:25</td>\n",
              "      <td>2019-08-23 18:32:01</td>\n",
              "      <td>34.00248</td>\n",
              "      <td>-117.37936</td>\n",
              "      <td>33.99888</td>\n",
              "      <td>-117.37094</td>\n",
              "      <td>0.543</td>\n",
              "      <td>At Market St - Accident.</td>\n",
              "      <td>NaN</td>\n",
              "      <td>Pomona Fwy E</td>\n",
              "      <td>R</td>\n",
              "      <td>Riverside</td>\n",
              "      <td>Riverside</td>\n",
              "      <td>CA</td>\n",
              "      <td>92501</td>\n",
              "      <td>US</td>\n",
              "      <td>US/Pacific</td>\n",
              "      <td>KRAL</td>\n",
              "      <td>2019-08-23 17:53:00</td>\n",
              "      <td>86.0</td>\n",
              "      <td>86.0</td>\n",
              "      <td>40.0</td>\n",
              "      <td>28.92</td>\n",
              "      <td>10.0</td>\n",
              "      <td>W</td>\n",
              "      <td>13.0</td>\n",
              "      <td>0.00</td>\n",
              "      <td>Fair</td>\n",
              "      <td>False</td>\n",
              "      <td>False</td>\n",
              "      <td>False</td>\n",
              "      <td>False</td>\n",
              "      <td>False</td>\n",
              "      <td>False</td>\n",
              "      <td>False</td>\n",
              "      <td>False</td>\n",
              "      <td>False</td>\n",
              "      <td>False</td>\n",
              "      <td>False</td>\n",
              "      <td>False</td>\n",
              "      <td>False</td>\n",
              "      <td>Day</td>\n",
              "      <td>Day</td>\n",
              "      <td>Day</td>\n",
              "      <td>Day</td>\n",
              "    </tr>\n",
              "    <tr>\n",
              "      <th>1516060</th>\n",
              "      <td>A-4239403</td>\n",
              "      <td>2</td>\n",
              "      <td>2019-08-23 19:11:30</td>\n",
              "      <td>2019-08-23 19:38:23</td>\n",
              "      <td>32.76696</td>\n",
              "      <td>-117.14806</td>\n",
              "      <td>32.76555</td>\n",
              "      <td>-117.15363</td>\n",
              "      <td>0.338</td>\n",
              "      <td>At Camino Del Rio/Mission Center Rd - Accident.</td>\n",
              "      <td>NaN</td>\n",
              "      <td>I-8 W</td>\n",
              "      <td>R</td>\n",
              "      <td>San Diego</td>\n",
              "      <td>San Diego</td>\n",
              "      <td>CA</td>\n",
              "      <td>92108</td>\n",
              "      <td>US</td>\n",
              "      <td>US/Pacific</td>\n",
              "      <td>KMYF</td>\n",
              "      <td>2019-08-23 18:53:00</td>\n",
              "      <td>70.0</td>\n",
              "      <td>70.0</td>\n",
              "      <td>73.0</td>\n",
              "      <td>29.39</td>\n",
              "      <td>10.0</td>\n",
              "      <td>SW</td>\n",
              "      <td>6.0</td>\n",
              "      <td>0.00</td>\n",
              "      <td>Fair</td>\n",
              "      <td>False</td>\n",
              "      <td>False</td>\n",
              "      <td>False</td>\n",
              "      <td>False</td>\n",
              "      <td>False</td>\n",
              "      <td>False</td>\n",
              "      <td>False</td>\n",
              "      <td>False</td>\n",
              "      <td>False</td>\n",
              "      <td>False</td>\n",
              "      <td>False</td>\n",
              "      <td>False</td>\n",
              "      <td>False</td>\n",
              "      <td>Day</td>\n",
              "      <td>Day</td>\n",
              "      <td>Day</td>\n",
              "      <td>Day</td>\n",
              "    </tr>\n",
              "    <tr>\n",
              "      <th>1516061</th>\n",
              "      <td>A-4239404</td>\n",
              "      <td>2</td>\n",
              "      <td>2019-08-23 19:00:21</td>\n",
              "      <td>2019-08-23 19:28:49</td>\n",
              "      <td>33.77545</td>\n",
              "      <td>-117.84779</td>\n",
              "      <td>33.77740</td>\n",
              "      <td>-117.85727</td>\n",
              "      <td>0.561</td>\n",
              "      <td>At Glassell St/Grand Ave - Accident. in the ri...</td>\n",
              "      <td>NaN</td>\n",
              "      <td>Garden Grove Fwy</td>\n",
              "      <td>R</td>\n",
              "      <td>Orange</td>\n",
              "      <td>Orange</td>\n",
              "      <td>CA</td>\n",
              "      <td>92866</td>\n",
              "      <td>US</td>\n",
              "      <td>US/Pacific</td>\n",
              "      <td>KSNA</td>\n",
              "      <td>2019-08-23 18:53:00</td>\n",
              "      <td>73.0</td>\n",
              "      <td>73.0</td>\n",
              "      <td>64.0</td>\n",
              "      <td>29.74</td>\n",
              "      <td>10.0</td>\n",
              "      <td>SSW</td>\n",
              "      <td>10.0</td>\n",
              "      <td>0.00</td>\n",
              "      <td>Partly Cloudy</td>\n",
              "      <td>False</td>\n",
              "      <td>False</td>\n",
              "      <td>False</td>\n",
              "      <td>False</td>\n",
              "      <td>True</td>\n",
              "      <td>False</td>\n",
              "      <td>False</td>\n",
              "      <td>False</td>\n",
              "      <td>False</td>\n",
              "      <td>False</td>\n",
              "      <td>False</td>\n",
              "      <td>False</td>\n",
              "      <td>False</td>\n",
              "      <td>Day</td>\n",
              "      <td>Day</td>\n",
              "      <td>Day</td>\n",
              "      <td>Day</td>\n",
              "    </tr>\n",
              "    <tr>\n",
              "      <th>1516062</th>\n",
              "      <td>A-4239405</td>\n",
              "      <td>2</td>\n",
              "      <td>2019-08-23 19:00:21</td>\n",
              "      <td>2019-08-23 19:29:42</td>\n",
              "      <td>33.99246</td>\n",
              "      <td>-118.40302</td>\n",
              "      <td>33.98311</td>\n",
              "      <td>-118.39565</td>\n",
              "      <td>0.772</td>\n",
              "      <td>At CA-90/Marina Fwy/Jefferson Blvd - Accident.</td>\n",
              "      <td>NaN</td>\n",
              "      <td>San Diego Fwy S</td>\n",
              "      <td>R</td>\n",
              "      <td>Culver City</td>\n",
              "      <td>Los Angeles</td>\n",
              "      <td>CA</td>\n",
              "      <td>90230</td>\n",
              "      <td>US</td>\n",
              "      <td>US/Pacific</td>\n",
              "      <td>KSMO</td>\n",
              "      <td>2019-08-23 18:51:00</td>\n",
              "      <td>71.0</td>\n",
              "      <td>71.0</td>\n",
              "      <td>81.0</td>\n",
              "      <td>29.62</td>\n",
              "      <td>10.0</td>\n",
              "      <td>SW</td>\n",
              "      <td>8.0</td>\n",
              "      <td>0.00</td>\n",
              "      <td>Fair</td>\n",
              "      <td>False</td>\n",
              "      <td>False</td>\n",
              "      <td>False</td>\n",
              "      <td>False</td>\n",
              "      <td>False</td>\n",
              "      <td>False</td>\n",
              "      <td>False</td>\n",
              "      <td>False</td>\n",
              "      <td>False</td>\n",
              "      <td>False</td>\n",
              "      <td>False</td>\n",
              "      <td>False</td>\n",
              "      <td>False</td>\n",
              "      <td>Day</td>\n",
              "      <td>Day</td>\n",
              "      <td>Day</td>\n",
              "      <td>Day</td>\n",
              "    </tr>\n",
              "    <tr>\n",
              "      <th>1516063</th>\n",
              "      <td>A-4239406</td>\n",
              "      <td>2</td>\n",
              "      <td>2019-08-23 18:52:06</td>\n",
              "      <td>2019-08-23 19:21:31</td>\n",
              "      <td>34.13393</td>\n",
              "      <td>-117.23092</td>\n",
              "      <td>34.13736</td>\n",
              "      <td>-117.23934</td>\n",
              "      <td>0.537</td>\n",
              "      <td>At Highland Ave/Arden Ave - Accident.</td>\n",
              "      <td>NaN</td>\n",
              "      <td>CA-210 W</td>\n",
              "      <td>R</td>\n",
              "      <td>Highland</td>\n",
              "      <td>San Bernardino</td>\n",
              "      <td>CA</td>\n",
              "      <td>92346</td>\n",
              "      <td>US</td>\n",
              "      <td>US/Pacific</td>\n",
              "      <td>KSBD</td>\n",
              "      <td>2019-08-23 20:50:00</td>\n",
              "      <td>79.0</td>\n",
              "      <td>79.0</td>\n",
              "      <td>47.0</td>\n",
              "      <td>28.63</td>\n",
              "      <td>7.0</td>\n",
              "      <td>SW</td>\n",
              "      <td>7.0</td>\n",
              "      <td>0.00</td>\n",
              "      <td>Fair</td>\n",
              "      <td>False</td>\n",
              "      <td>False</td>\n",
              "      <td>False</td>\n",
              "      <td>False</td>\n",
              "      <td>False</td>\n",
              "      <td>False</td>\n",
              "      <td>False</td>\n",
              "      <td>False</td>\n",
              "      <td>False</td>\n",
              "      <td>False</td>\n",
              "      <td>False</td>\n",
              "      <td>False</td>\n",
              "      <td>False</td>\n",
              "      <td>Day</td>\n",
              "      <td>Day</td>\n",
              "      <td>Day</td>\n",
              "      <td>Day</td>\n",
              "    </tr>\n",
              "  </tbody>\n",
              "</table>\n",
              "<p>1516064 rows × 47 columns</p>\n",
              "</div>"
            ],
            "text/plain": [
              "                ID  Severity  ... Nautical_Twilight Astronomical_Twilight\n",
              "0        A-2716600         3  ...             Night                 Night\n",
              "1        A-2716601         2  ...             Night                 Night\n",
              "2        A-2716602         2  ...             Night                   Day\n",
              "3        A-2716603         2  ...             Night                   Day\n",
              "4        A-2716604         2  ...               Day                   Day\n",
              "...            ...       ...  ...               ...                   ...\n",
              "1516059  A-4239402         2  ...               Day                   Day\n",
              "1516060  A-4239403         2  ...               Day                   Day\n",
              "1516061  A-4239404         2  ...               Day                   Day\n",
              "1516062  A-4239405         2  ...               Day                   Day\n",
              "1516063  A-4239406         2  ...               Day                   Day\n",
              "\n",
              "[1516064 rows x 47 columns]"
            ]
          },
          "execution_count": 11,
          "metadata": {},
          "output_type": "execute_result"
        }
      ]
    },
    {
      "cell_type": "code",
      "metadata": {
        "colab": {
          "base_uri": "https://localhost:8080/"
        },
        "id": "r7jFks1Yz36V",
        "outputId": "36658d52-6689-4056-a7d6-520eacc7b0be"
      },
      "source": [
        "df.columns"
      ],
      "execution_count": null,
      "outputs": [
        {
          "data": {
            "text/plain": [
              "Index(['ID', 'Severity', 'Start_Time', 'End_Time', 'Start_Lat', 'Start_Lng',\n",
              "       'End_Lat', 'End_Lng', 'Distance(mi)', 'Description', 'Number', 'Street',\n",
              "       'Side', 'City', 'County', 'State', 'Zipcode', 'Country', 'Timezone',\n",
              "       'Airport_Code', 'Weather_Timestamp', 'Temperature(F)', 'Wind_Chill(F)',\n",
              "       'Humidity(%)', 'Pressure(in)', 'Visibility(mi)', 'Wind_Direction',\n",
              "       'Wind_Speed(mph)', 'Precipitation(in)', 'Weather_Condition', 'Amenity',\n",
              "       'Bump', 'Crossing', 'Give_Way', 'Junction', 'No_Exit', 'Railway',\n",
              "       'Roundabout', 'Station', 'Stop', 'Traffic_Calming', 'Traffic_Signal',\n",
              "       'Turning_Loop', 'Sunrise_Sunset', 'Civil_Twilight', 'Nautical_Twilight',\n",
              "       'Astronomical_Twilight'],\n",
              "      dtype='object')"
            ]
          },
          "execution_count": 12,
          "metadata": {},
          "output_type": "execute_result"
        }
      ]
    },
    {
      "cell_type": "code",
      "metadata": {
        "colab": {
          "base_uri": "https://localhost:8080/"
        },
        "id": "5IvejhWS6qST",
        "outputId": "bfdd2527-bf1d-4689-8bac-5ecfcacbab0b"
      },
      "source": [
        "len(df.columns)"
      ],
      "execution_count": null,
      "outputs": [
        {
          "data": {
            "text/plain": [
              "47"
            ]
          },
          "execution_count": 13,
          "metadata": {},
          "output_type": "execute_result"
        }
      ]
    },
    {
      "cell_type": "code",
      "metadata": {
        "colab": {
          "base_uri": "https://localhost:8080/"
        },
        "id": "e7lMcbPU6uVT",
        "outputId": "63c6f02b-f058-43c8-e02f-0c48742f31b1"
      },
      "source": [
        "df.info()"
      ],
      "execution_count": null,
      "outputs": [
        {
          "name": "stdout",
          "output_type": "stream",
          "text": [
            "<class 'pandas.core.frame.DataFrame'>\n",
            "RangeIndex: 1516064 entries, 0 to 1516063\n",
            "Data columns (total 47 columns):\n",
            " #   Column                 Non-Null Count    Dtype  \n",
            "---  ------                 --------------    -----  \n",
            " 0   ID                     1516064 non-null  object \n",
            " 1   Severity               1516064 non-null  int64  \n",
            " 2   Start_Time             1516064 non-null  object \n",
            " 3   End_Time               1516064 non-null  object \n",
            " 4   Start_Lat              1516064 non-null  float64\n",
            " 5   Start_Lng              1516064 non-null  float64\n",
            " 6   End_Lat                1516064 non-null  float64\n",
            " 7   End_Lng                1516064 non-null  float64\n",
            " 8   Distance(mi)           1516064 non-null  float64\n",
            " 9   Description            1516064 non-null  object \n",
            " 10  Number                 469969 non-null   float64\n",
            " 11  Street                 1516064 non-null  object \n",
            " 12  Side                   1516064 non-null  object \n",
            " 13  City                   1515981 non-null  object \n",
            " 14  County                 1516064 non-null  object \n",
            " 15  State                  1516064 non-null  object \n",
            " 16  Zipcode                1515129 non-null  object \n",
            " 17  Country                1516064 non-null  object \n",
            " 18  Timezone               1513762 non-null  object \n",
            " 19  Airport_Code           1511816 non-null  object \n",
            " 20  Weather_Timestamp      1485800 non-null  object \n",
            " 21  Temperature(F)         1473031 non-null  float64\n",
            " 22  Wind_Chill(F)          1066748 non-null  float64\n",
            " 23  Humidity(%)            1470555 non-null  float64\n",
            " 24  Pressure(in)           1479790 non-null  float64\n",
            " 25  Visibility(mi)         1471853 non-null  float64\n",
            " 26  Wind_Direction         1474206 non-null  object \n",
            " 27  Wind_Speed(mph)        1387202 non-null  float64\n",
            " 28  Precipitation(in)      1005515 non-null  float64\n",
            " 29  Weather_Condition      1472057 non-null  object \n",
            " 30  Amenity                1516064 non-null  bool   \n",
            " 31  Bump                   1516064 non-null  bool   \n",
            " 32  Crossing               1516064 non-null  bool   \n",
            " 33  Give_Way               1516064 non-null  bool   \n",
            " 34  Junction               1516064 non-null  bool   \n",
            " 35  No_Exit                1516064 non-null  bool   \n",
            " 36  Railway                1516064 non-null  bool   \n",
            " 37  Roundabout             1516064 non-null  bool   \n",
            " 38  Station                1516064 non-null  bool   \n",
            " 39  Stop                   1516064 non-null  bool   \n",
            " 40  Traffic_Calming        1516064 non-null  bool   \n",
            " 41  Traffic_Signal         1516064 non-null  bool   \n",
            " 42  Turning_Loop           1516064 non-null  bool   \n",
            " 43  Sunrise_Sunset         1515981 non-null  object \n",
            " 44  Civil_Twilight         1515981 non-null  object \n",
            " 45  Nautical_Twilight      1515981 non-null  object \n",
            " 46  Astronomical_Twilight  1515981 non-null  object \n",
            "dtypes: bool(13), float64(13), int64(1), object(20)\n",
            "memory usage: 412.1+ MB\n"
          ]
        }
      ]
    },
    {
      "cell_type": "code",
      "metadata": {
        "colab": {
          "base_uri": "https://localhost:8080/",
          "height": 317
        },
        "id": "WPepn9iJ7CWT",
        "outputId": "bc0f1731-1491-4f72-b320-af878f1a1158"
      },
      "source": [
        "df.describe()"
      ],
      "execution_count": null,
      "outputs": [
        {
          "data": {
            "text/html": [
              "<div>\n",
              "<style scoped>\n",
              "    .dataframe tbody tr th:only-of-type {\n",
              "        vertical-align: middle;\n",
              "    }\n",
              "\n",
              "    .dataframe tbody tr th {\n",
              "        vertical-align: top;\n",
              "    }\n",
              "\n",
              "    .dataframe thead th {\n",
              "        text-align: right;\n",
              "    }\n",
              "</style>\n",
              "<table border=\"1\" class=\"dataframe\">\n",
              "  <thead>\n",
              "    <tr style=\"text-align: right;\">\n",
              "      <th></th>\n",
              "      <th>Severity</th>\n",
              "      <th>Start_Lat</th>\n",
              "      <th>Start_Lng</th>\n",
              "      <th>End_Lat</th>\n",
              "      <th>End_Lng</th>\n",
              "      <th>Distance(mi)</th>\n",
              "      <th>Number</th>\n",
              "      <th>Temperature(F)</th>\n",
              "      <th>Wind_Chill(F)</th>\n",
              "      <th>Humidity(%)</th>\n",
              "      <th>Pressure(in)</th>\n",
              "      <th>Visibility(mi)</th>\n",
              "      <th>Wind_Speed(mph)</th>\n",
              "      <th>Precipitation(in)</th>\n",
              "    </tr>\n",
              "  </thead>\n",
              "  <tbody>\n",
              "    <tr>\n",
              "      <th>count</th>\n",
              "      <td>1.516064e+06</td>\n",
              "      <td>1.516064e+06</td>\n",
              "      <td>1.516064e+06</td>\n",
              "      <td>1.516064e+06</td>\n",
              "      <td>1.516064e+06</td>\n",
              "      <td>1.516064e+06</td>\n",
              "      <td>4.699690e+05</td>\n",
              "      <td>1.473031e+06</td>\n",
              "      <td>1.066748e+06</td>\n",
              "      <td>1.470555e+06</td>\n",
              "      <td>1.479790e+06</td>\n",
              "      <td>1.471853e+06</td>\n",
              "      <td>1.387202e+06</td>\n",
              "      <td>1.005515e+06</td>\n",
              "    </tr>\n",
              "    <tr>\n",
              "      <th>mean</th>\n",
              "      <td>2.238630e+00</td>\n",
              "      <td>3.690056e+01</td>\n",
              "      <td>-9.859919e+01</td>\n",
              "      <td>3.690061e+01</td>\n",
              "      <td>-9.859901e+01</td>\n",
              "      <td>5.872617e-01</td>\n",
              "      <td>8.907533e+03</td>\n",
              "      <td>5.958460e+01</td>\n",
              "      <td>5.510976e+01</td>\n",
              "      <td>6.465960e+01</td>\n",
              "      <td>2.955495e+01</td>\n",
              "      <td>9.131755e+00</td>\n",
              "      <td>7.630812e+00</td>\n",
              "      <td>8.477855e-03</td>\n",
              "    </tr>\n",
              "    <tr>\n",
              "      <th>std</th>\n",
              "      <td>6.081481e-01</td>\n",
              "      <td>5.165653e+00</td>\n",
              "      <td>1.849602e+01</td>\n",
              "      <td>5.165629e+00</td>\n",
              "      <td>1.849590e+01</td>\n",
              "      <td>1.632659e+00</td>\n",
              "      <td>2.242190e+04</td>\n",
              "      <td>1.827316e+01</td>\n",
              "      <td>2.112735e+01</td>\n",
              "      <td>2.325986e+01</td>\n",
              "      <td>1.016756e+00</td>\n",
              "      <td>2.889112e+00</td>\n",
              "      <td>5.637364e+00</td>\n",
              "      <td>1.293168e-01</td>\n",
              "    </tr>\n",
              "    <tr>\n",
              "      <th>min</th>\n",
              "      <td>1.000000e+00</td>\n",
              "      <td>2.457022e+01</td>\n",
              "      <td>-1.244976e+02</td>\n",
              "      <td>2.457011e+01</td>\n",
              "      <td>-1.244978e+02</td>\n",
              "      <td>0.000000e+00</td>\n",
              "      <td>0.000000e+00</td>\n",
              "      <td>-8.900000e+01</td>\n",
              "      <td>-8.900000e+01</td>\n",
              "      <td>1.000000e+00</td>\n",
              "      <td>0.000000e+00</td>\n",
              "      <td>0.000000e+00</td>\n",
              "      <td>0.000000e+00</td>\n",
              "      <td>0.000000e+00</td>\n",
              "    </tr>\n",
              "    <tr>\n",
              "      <th>25%</th>\n",
              "      <td>2.000000e+00</td>\n",
              "      <td>3.385422e+01</td>\n",
              "      <td>-1.182076e+02</td>\n",
              "      <td>3.385420e+01</td>\n",
              "      <td>-1.182077e+02</td>\n",
              "      <td>0.000000e+00</td>\n",
              "      <td>1.212000e+03</td>\n",
              "      <td>4.700000e+01</td>\n",
              "      <td>4.080000e+01</td>\n",
              "      <td>4.800000e+01</td>\n",
              "      <td>2.944000e+01</td>\n",
              "      <td>1.000000e+01</td>\n",
              "      <td>4.600000e+00</td>\n",
              "      <td>0.000000e+00</td>\n",
              "    </tr>\n",
              "    <tr>\n",
              "      <th>50%</th>\n",
              "      <td>2.000000e+00</td>\n",
              "      <td>3.735113e+01</td>\n",
              "      <td>-9.438100e+01</td>\n",
              "      <td>3.735134e+01</td>\n",
              "      <td>-9.437987e+01</td>\n",
              "      <td>1.780000e-01</td>\n",
              "      <td>4.000000e+03</td>\n",
              "      <td>6.100000e+01</td>\n",
              "      <td>5.700000e+01</td>\n",
              "      <td>6.800000e+01</td>\n",
              "      <td>2.988000e+01</td>\n",
              "      <td>1.000000e+01</td>\n",
              "      <td>7.000000e+00</td>\n",
              "      <td>0.000000e+00</td>\n",
              "    </tr>\n",
              "    <tr>\n",
              "      <th>75%</th>\n",
              "      <td>2.000000e+00</td>\n",
              "      <td>4.072593e+01</td>\n",
              "      <td>-8.087469e+01</td>\n",
              "      <td>4.072593e+01</td>\n",
              "      <td>-8.087449e+01</td>\n",
              "      <td>5.940000e-01</td>\n",
              "      <td>1.010000e+04</td>\n",
              "      <td>7.300000e+01</td>\n",
              "      <td>7.100000e+01</td>\n",
              "      <td>8.400000e+01</td>\n",
              "      <td>3.004000e+01</td>\n",
              "      <td>1.000000e+01</td>\n",
              "      <td>1.040000e+01</td>\n",
              "      <td>0.000000e+00</td>\n",
              "    </tr>\n",
              "    <tr>\n",
              "      <th>max</th>\n",
              "      <td>4.000000e+00</td>\n",
              "      <td>4.900058e+01</td>\n",
              "      <td>-6.711317e+01</td>\n",
              "      <td>4.907500e+01</td>\n",
              "      <td>-6.710924e+01</td>\n",
              "      <td>1.551860e+02</td>\n",
              "      <td>9.999997e+06</td>\n",
              "      <td>1.706000e+02</td>\n",
              "      <td>1.130000e+02</td>\n",
              "      <td>1.000000e+02</td>\n",
              "      <td>5.804000e+01</td>\n",
              "      <td>1.400000e+02</td>\n",
              "      <td>9.840000e+02</td>\n",
              "      <td>2.400000e+01</td>\n",
              "    </tr>\n",
              "  </tbody>\n",
              "</table>\n",
              "</div>"
            ],
            "text/plain": [
              "           Severity     Start_Lat  ...  Wind_Speed(mph)  Precipitation(in)\n",
              "count  1.516064e+06  1.516064e+06  ...     1.387202e+06       1.005515e+06\n",
              "mean   2.238630e+00  3.690056e+01  ...     7.630812e+00       8.477855e-03\n",
              "std    6.081481e-01  5.165653e+00  ...     5.637364e+00       1.293168e-01\n",
              "min    1.000000e+00  2.457022e+01  ...     0.000000e+00       0.000000e+00\n",
              "25%    2.000000e+00  3.385422e+01  ...     4.600000e+00       0.000000e+00\n",
              "50%    2.000000e+00  3.735113e+01  ...     7.000000e+00       0.000000e+00\n",
              "75%    2.000000e+00  4.072593e+01  ...     1.040000e+01       0.000000e+00\n",
              "max    4.000000e+00  4.900058e+01  ...     9.840000e+02       2.400000e+01\n",
              "\n",
              "[8 rows x 14 columns]"
            ]
          },
          "execution_count": 15,
          "metadata": {},
          "output_type": "execute_result"
        }
      ]
    },
    {
      "cell_type": "markdown",
      "metadata": {
        "id": "3j9NKB7n8qe8"
      },
      "source": [
        "To check how many columns has a numeric data"
      ]
    },
    {
      "cell_type": "code",
      "metadata": {
        "colab": {
          "base_uri": "https://localhost:8080/"
        },
        "id": "4QHkqJVJ7CJT",
        "outputId": "dfbdf886-5337-4f60-f801-61cb3ad73028"
      },
      "source": [
        "numerics = ['int16', 'int32', 'int64', 'float16', 'float32', 'float64']\n",
        "\n",
        "numeric_df = df.select_dtypes(include=numerics)\n",
        "len(numeric_df.columns)"
      ],
      "execution_count": null,
      "outputs": [
        {
          "data": {
            "text/plain": [
              "14"
            ]
          },
          "execution_count": 16,
          "metadata": {},
          "output_type": "execute_result"
        }
      ]
    },
    {
      "cell_type": "markdown",
      "metadata": {
        "id": "cxSvrdHQ812k"
      },
      "source": [
        "To find the Missing values/ incorrect values\n"
      ]
    },
    {
      "cell_type": "markdown",
      "metadata": {
        "id": "oxzx2atW9keZ"
      },
      "source": [
        "Percentage of missing values per column"
      ]
    },
    {
      "cell_type": "code",
      "metadata": {
        "id": "1aG0-f_q7CAj"
      },
      "source": [
        "missing_percentages = df.isna().sum().sort_values(ascending = False)/len(df)"
      ],
      "execution_count": null,
      "outputs": []
    },
    {
      "cell_type": "code",
      "metadata": {
        "colab": {
          "base_uri": "https://localhost:8080/"
        },
        "id": "LtTiK-wx7B-I",
        "outputId": "a7b787af-3743-4e92-883f-a133120e7f8c"
      },
      "source": [
        "missing_percentages"
      ],
      "execution_count": null,
      "outputs": [
        {
          "data": {
            "text/plain": [
              "Number                   0.690007\n",
              "Precipitation(in)        0.336760\n",
              "Wind_Chill(F)            0.296370\n",
              "Wind_Speed(mph)          0.084998\n",
              "Humidity(%)              0.030018\n",
              "Visibility(mi)           0.029162\n",
              "Weather_Condition        0.029027\n",
              "Temperature(F)           0.028385\n",
              "Wind_Direction           0.027610\n",
              "Pressure(in)             0.023926\n",
              "Weather_Timestamp        0.019962\n",
              "Airport_Code             0.002802\n",
              "Timezone                 0.001518\n",
              "Zipcode                  0.000617\n",
              "City                     0.000055\n",
              "Nautical_Twilight        0.000055\n",
              "Astronomical_Twilight    0.000055\n",
              "Civil_Twilight           0.000055\n",
              "Sunrise_Sunset           0.000055\n",
              "Amenity                  0.000000\n",
              "Bump                     0.000000\n",
              "Severity                 0.000000\n",
              "Start_Time               0.000000\n",
              "End_Time                 0.000000\n",
              "Start_Lat                0.000000\n",
              "Start_Lng                0.000000\n",
              "End_Lat                  0.000000\n",
              "End_Lng                  0.000000\n",
              "Distance(mi)             0.000000\n",
              "Description              0.000000\n",
              "Street                   0.000000\n",
              "Side                     0.000000\n",
              "County                   0.000000\n",
              "State                    0.000000\n",
              "Turning_Loop             0.000000\n",
              "Country                  0.000000\n",
              "Traffic_Signal           0.000000\n",
              "Traffic_Calming          0.000000\n",
              "Stop                     0.000000\n",
              "Station                  0.000000\n",
              "Roundabout               0.000000\n",
              "Railway                  0.000000\n",
              "No_Exit                  0.000000\n",
              "Junction                 0.000000\n",
              "Give_Way                 0.000000\n",
              "Crossing                 0.000000\n",
              "ID                       0.000000\n",
              "dtype: float64"
            ]
          },
          "execution_count": 18,
          "metadata": {},
          "output_type": "execute_result"
        }
      ]
    },
    {
      "cell_type": "code",
      "metadata": {
        "colab": {
          "base_uri": "https://localhost:8080/"
        },
        "id": "JYjK9ZSE-c9n",
        "outputId": "711ec27a-75db-49e7-bb69-5441377ed468"
      },
      "source": [
        "type(missing_percentages)"
      ],
      "execution_count": null,
      "outputs": [
        {
          "data": {
            "text/plain": [
              "pandas.core.series.Series"
            ]
          },
          "execution_count": 19,
          "metadata": {},
          "output_type": "execute_result"
        }
      ]
    },
    {
      "cell_type": "code",
      "metadata": {
        "colab": {
          "base_uri": "https://localhost:8080/",
          "height": 284
        },
        "id": "EwQ8StHi7B57",
        "outputId": "2d07fcb9-6293-4078-8a80-bc09eeb33ff9"
      },
      "source": [
        "missing_percentages.plot(kind ='barh')"
      ],
      "execution_count": null,
      "outputs": [
        {
          "data": {
            "text/plain": [
              "<matplotlib.axes._subplots.AxesSubplot at 0x7f8b89926310>"
            ]
          },
          "execution_count": 20,
          "metadata": {},
          "output_type": "execute_result"
        },
        {
          "data": {
            "image/png": "[encoded data removed]",
            "text/plain": [
              "<Figure size 432x288 with 1 Axes>"
            ]
          },
          "metadata": {
            "needs_background": "light"
          },
          "output_type": "display_data"
        }
      ]
    },
    {
      "cell_type": "markdown",
      "metadata": {
        "id": "rg-hsRK9_FrM"
      },
      "source": [
        "Since we don;t need the zeros we can remove by the following way (i.e) having missing_percentage 1=0 and then indexing it with []"
      ]
    },
    {
      "cell_type": "code",
      "metadata": {
        "colab": {
          "base_uri": "https://localhost:8080/"
        },
        "id": "5Frnu3fx7Bwy",
        "outputId": "97b6ca27-53b2-4635-c065-dd8d1d27f7f9"
      },
      "source": [
        "missing_percentages[missing_percentages != 0]"
      ],
      "execution_count": null,
      "outputs": [
        {
          "data": {
            "text/plain": [
              "Number                   0.690007\n",
              "Precipitation(in)        0.336760\n",
              "Wind_Chill(F)            0.296370\n",
              "Wind_Speed(mph)          0.084998\n",
              "Humidity(%)              0.030018\n",
              "Visibility(mi)           0.029162\n",
              "Weather_Condition        0.029027\n",
              "Temperature(F)           0.028385\n",
              "Wind_Direction           0.027610\n",
              "Pressure(in)             0.023926\n",
              "Weather_Timestamp        0.019962\n",
              "Airport_Code             0.002802\n",
              "Timezone                 0.001518\n",
              "Zipcode                  0.000617\n",
              "City                     0.000055\n",
              "Nautical_Twilight        0.000055\n",
              "Astronomical_Twilight    0.000055\n",
              "Civil_Twilight           0.000055\n",
              "Sunrise_Sunset           0.000055\n",
              "dtype: float64"
            ]
          },
          "execution_count": 21,
          "metadata": {},
          "output_type": "execute_result"
        }
      ]
    },
    {
      "cell_type": "code",
      "metadata": {
        "colab": {
          "base_uri": "https://localhost:8080/",
          "height": 282
        },
        "id": "W_2w9YlE_UcN",
        "outputId": "28a205db-2ee0-4382-f2fc-d86849b15569"
      },
      "source": [
        "missing_percentages[missing_percentages != 0].plot(kind = 'barh')"
      ],
      "execution_count": null,
      "outputs": [
        {
          "data": {
            "text/plain": [
              "<matplotlib.axes._subplots.AxesSubplot at 0x7f8b89345f90>"
            ]
          },
          "execution_count": 22,
          "metadata": {},
          "output_type": "execute_result"
        },
        {
          "data": {
            "image/png": "[encoded data removed]",
            "text/plain": [
              "<Figure size 432x288 with 1 Axes>"
            ]
          },
          "metadata": {
            "needs_background": "light"
          },
          "output_type": "display_data"
        }
      ]
    },
    {
      "cell_type": "markdown",
      "metadata": {
        "id": "uGrsS6qq_5kN"
      },
      "source": [
        "Remove columns that we don't want to use"
      ]
    },
    {
      "cell_type": "code",
      "metadata": {
        "id": "27WeZS2J_TyR"
      },
      "source": [
        ""
      ],
      "execution_count": null,
      "outputs": []
    },
    {
      "cell_type": "markdown",
      "metadata": {
        "id": "4CVTuE33z4QK"
      },
      "source": [
        "##Exploratory analysis and visualization\n",
        "Columns we will analyse\n",
        "\n",
        "\n",
        "*   City\n",
        "*   Start_time, \n",
        "*   Temperature\n",
        "*   Start-Lng, Start long\n",
        "*   Weather condition\n",
        "  \n",
        "\n",
        "\n",
        "\n"
      ]
    },
    {
      "cell_type": "code",
      "metadata": {
        "colab": {
          "base_uri": "https://localhost:8080/"
        },
        "id": "r9NbNgQcBLNo",
        "outputId": "5dd9cae3-d827-4549-f5cc-044ed5a79c0d"
      },
      "source": [
        "df.columns"
      ],
      "execution_count": null,
      "outputs": [
        {
          "data": {
            "text/plain": [
              "Index(['ID', 'Severity', 'Start_Time', 'End_Time', 'Start_Lat', 'Start_Lng',\n",
              "       'End_Lat', 'End_Lng', 'Distance(mi)', 'Description', 'Number', 'Street',\n",
              "       'Side', 'City', 'County', 'State', 'Zipcode', 'Country', 'Timezone',\n",
              "       'Airport_Code', 'Weather_Timestamp', 'Temperature(F)', 'Wind_Chill(F)',\n",
              "       'Humidity(%)', 'Pressure(in)', 'Visibility(mi)', 'Wind_Direction',\n",
              "       'Wind_Speed(mph)', 'Precipitation(in)', 'Weather_Condition', 'Amenity',\n",
              "       'Bump', 'Crossing', 'Give_Way', 'Junction', 'No_Exit', 'Railway',\n",
              "       'Roundabout', 'Station', 'Stop', 'Traffic_Calming', 'Traffic_Signal',\n",
              "       'Turning_Loop', 'Sunrise_Sunset', 'Civil_Twilight', 'Nautical_Twilight',\n",
              "       'Astronomical_Twilight'],\n",
              "      dtype='object')"
            ]
          },
          "execution_count": 23,
          "metadata": {},
          "output_type": "execute_result"
        }
      ]
    },
    {
      "cell_type": "markdown",
      "metadata": {
        "id": "OOYrdaLIHb53"
      },
      "source": [
        "###City"
      ]
    },
    {
      "cell_type": "code",
      "metadata": {
        "colab": {
          "base_uri": "https://localhost:8080/"
        },
        "id": "ewrLv8_Hz8wv",
        "outputId": "adb68db2-7054-4250-f2dd-29111aeaacd0"
      },
      "source": [
        "cities = (df.City.unique())\n",
        "cities"
      ],
      "execution_count": null,
      "outputs": [
        {
          "data": {
            "text/plain": [
              "array(['Dublin', 'Dayton', 'Cincinnati', ..., 'Succasunna', 'Valleyford',\n",
              "       'American Fork-Pleasant Grove'], dtype=object)"
            ]
          },
          "execution_count": 36,
          "metadata": {},
          "output_type": "execute_result"
        }
      ]
    },
    {
      "cell_type": "markdown",
      "metadata": {
        "id": "bWiT8a12GzW3"
      },
      "source": [
        "To count unique occurances of values in the column (use .value_counts())\n",
        "\n"
      ]
    },
    {
      "cell_type": "code",
      "metadata": {
        "colab": {
          "base_uri": "https://localhost:8080/"
        },
        "id": "2ezIJSZ6z9Ab",
        "outputId": "25828cfb-22b5-4a2f-8f92-305d4c15c587"
      },
      "source": [
        "cites_by_accident = df.City.value_counts()\n",
        "cites_by_accident"
      ],
      "execution_count": null,
      "outputs": [
        {
          "data": {
            "text/plain": [
              "Los Angeles     39984\n",
              "Miami           36233\n",
              "Charlotte       22203\n",
              "Houston         20843\n",
              "Dallas          19497\n",
              "                ...  \n",
              "Bakerstown          1\n",
              "Stotts City         1\n",
              "Lobelville          1\n",
              "Waverly Hall        1\n",
              "South Euclid        1\n",
              "Name: City, Length: 10657, dtype: int64"
            ]
          },
          "execution_count": 25,
          "metadata": {},
          "output_type": "execute_result"
        }
      ]
    },
    {
      "cell_type": "markdown",
      "metadata": {
        "id": "htZ__8aLHkoi"
      },
      "source": [
        "Top 20 cities by accident"
      ]
    },
    {
      "cell_type": "code",
      "metadata": {
        "colab": {
          "base_uri": "https://localhost:8080/"
        },
        "id": "Ts2lfFivHfpU",
        "outputId": "62c5a102-236c-4e48-d411-314493dcfb52"
      },
      "source": [
        "cites_by_accident[:20]"
      ],
      "execution_count": null,
      "outputs": [
        {
          "data": {
            "text/plain": [
              "Los Angeles     39984\n",
              "Miami           36233\n",
              "Charlotte       22203\n",
              "Houston         20843\n",
              "Dallas          19497\n",
              "Sacramento      18431\n",
              "Orlando         16169\n",
              "Portland        14805\n",
              "San Diego       14090\n",
              "Minneapolis     12653\n",
              "Atlanta         11854\n",
              "Chicago         11507\n",
              "Saint Paul      10084\n",
              "Phoenix          9934\n",
              "Raleigh          9516\n",
              "San Jose         9362\n",
              "Richmond         8472\n",
              "Nashville        8381\n",
              "Riverside        8201\n",
              "Jacksonville     7815\n",
              "Name: City, dtype: int64"
            ]
          },
          "execution_count": 26,
          "metadata": {},
          "output_type": "execute_result"
        }
      ]
    },
    {
      "cell_type": "markdown",
      "metadata": {
        "id": "87fTLH8OILSS"
      },
      "source": [
        "To check whether the value (New york)exist in the column ('New york in df.City)\n",
        "\n",
        "\n"
      ]
    },
    {
      "cell_type": "markdown",
      "metadata": {
        "id": "_XHGaWG7JbVz"
      },
      "source": [
        "Plotting this visually will tell us more about the data\n",
        "\n",
        "-Plotting the top 20 city\n"
      ]
    },
    {
      "cell_type": "code",
      "metadata": {
        "colab": {
          "base_uri": "https://localhost:8080/",
          "height": 282
        },
        "id": "3Ghmt5A-JZXf",
        "outputId": "3446c525-4dbc-4010-ec72-2125ca40c2c8"
      },
      "source": [
        "cites_by_accident[:20].plot(kind = 'barh')"
      ],
      "execution_count": null,
      "outputs": [
        {
          "data": {
            "text/plain": [
              "<matplotlib.axes._subplots.AxesSubplot at 0x7f8b892a9690>"
            ]
          },
          "execution_count": 27,
          "metadata": {},
          "output_type": "execute_result"
        },
        {
          "data": {
            "image/png": "[encoded data removed]",
            "text/plain": [
              "<Figure size 432x288 with 1 Axes>"
            ]
          },
          "metadata": {
            "needs_background": "light"
          },
          "output_type": "display_data"
        }
      ]
    },
    {
      "cell_type": "code",
      "metadata": {
        "colab": {
          "base_uri": "https://localhost:8080/"
        },
        "id": "GGlCWL_sIRZG",
        "outputId": "9fa03db0-b7e1-46ae-8f93-163ee76377f9"
      },
      "source": [
        "'New York' in df.City"
      ],
      "execution_count": null,
      "outputs": [
        {
          "data": {
            "text/plain": [
              "False"
            ]
          },
          "execution_count": 28,
          "metadata": {},
          "output_type": "execute_result"
        }
      ]
    },
    {
      "cell_type": "markdown",
      "metadata": {
        "id": "ujhMmRfnJDC4"
      },
      "source": [
        "No data about the New york"
      ]
    },
    {
      "cell_type": "code",
      "metadata": {
        "colab": {
          "base_uri": "https://localhost:8080/",
          "height": 86
        },
        "id": "DSzB6VorIRWb",
        "outputId": "e99423ae-6276-4e74-b81c-148ea21828bb"
      },
      "source": [
        "jovian.commit(project=\"us-accidents-analysis\")"
      ],
      "execution_count": null,
      "outputs": [
        {
          "name": "stdout",
          "output_type": "stream",
          "text": [
            "[jovian] Detected Colab notebook...\u001b[0m\n",
            "[jovian] Uploading colab notebook to Jovian...\u001b[0m\n",
            "Committed successfully! https://jovian.ai/iamsowmiya16/us-accidents-analysis\n"
          ]
        },
        {
          "data": {
            "application/vnd.google.colaboratory.intrinsic+json": {
              "type": "string"
            },
            "text/plain": [
              "'https://jovian.ai/iamsowmiya16/us-accidents-analysis'"
            ]
          },
          "execution_count": 29,
          "metadata": {},
          "output_type": "execute_result"
        }
      ]
    },
    {
      "cell_type": "code",
      "metadata": {
        "id": "lsnef7V2Ivht"
      },
      "source": [
        "import seaborn as sns\n",
        "sns.set_style(\"darkgrid\")"
      ],
      "execution_count": null,
      "outputs": []
    },
    {
      "cell_type": "code",
      "metadata": {
        "colab": {
          "base_uri": "https://localhost:8080/",
          "height": 300
        },
        "id": "nHmaiYD5IvcY",
        "outputId": "68d3b073-6368-4826-fe36-96bab82270a1"
      },
      "source": [
        "sns.histplot(cites_by_accident, log_scale = True)"
      ],
      "execution_count": null,
      "outputs": [
        {
          "data": {
            "text/plain": [
              "<matplotlib.axes._subplots.AxesSubplot at 0x7f8b6f9c1d50>"
            ]
          },
          "execution_count": 44,
          "metadata": {},
          "output_type": "execute_result"
        },
        {
          "data": {
            "image/png": "[encoded data removed]",
            "text/plain": [
              "<Figure size 432x288 with 1 Axes>"
            ]
          },
          "metadata": {},
          "output_type": "display_data"
        }
      ]
    },
    {
      "cell_type": "markdown",
      "metadata": {
        "id": "exeOTB7VF-M7"
      },
      "source": [
        "Cites where the accidents happened only once"
      ]
    },
    {
      "cell_type": "code",
      "metadata": {
        "colab": {
          "base_uri": "https://localhost:8080/"
        },
        "id": "gR9_x8-3F9kE",
        "outputId": "a933feb6-b662-4036-80ea-a1bfeeed354a"
      },
      "source": [
        "cites_by_accident[cites_by_accident == 1]"
      ],
      "execution_count": null,
      "outputs": [
        {
          "data": {
            "text/plain": [
              "Letts            1\n",
              "Kulpmont         1\n",
              "Codyville Plt    1\n",
              "Fairbank         1\n",
              "Irondale         1\n",
              "                ..\n",
              "Bakerstown       1\n",
              "Stotts City      1\n",
              "Lobelville       1\n",
              "Waverly Hall     1\n",
              "South Euclid     1\n",
              "Name: City, Length: 1167, dtype: int64"
            ]
          },
          "execution_count": 45,
          "metadata": {},
          "output_type": "execute_result"
        }
      ]
    },
    {
      "cell_type": "code",
      "metadata": {
        "id": "VtOGX0oeIuIo"
      },
      "source": [
        "high_accident_cites = cites_by_accident[cites_by_accident >=1000]\n",
        "low_accident_cites = cites_by_accident[cites_by_accident<1000]"
      ],
      "execution_count": null,
      "outputs": []
    },
    {
      "cell_type": "code",
      "metadata": {
        "colab": {
          "base_uri": "https://localhost:8080/"
        },
        "id": "C8SWhBD9W5La",
        "outputId": "46896d7b-40f6-4932-e34c-43f044c91d6e"
      },
      "source": [
        "len(high_accident_cites) / len(cities)"
      ],
      "execution_count": null,
      "outputs": [
        {
          "data": {
            "text/plain": [
              "0.023550384687558643"
            ]
          },
          "execution_count": 37,
          "metadata": {},
          "output_type": "execute_result"
        }
      ]
    },
    {
      "cell_type": "code",
      "metadata": {
        "colab": {
          "base_uri": "https://localhost:8080/",
          "height": 350
        },
        "id": "xzsXekUsW5D0",
        "outputId": "6f243374-85fa-47cf-e653-987c64e6895e"
      },
      "source": [
        "sns.distplot(high_accident_cites)"
      ],
      "execution_count": null,
      "outputs": [
        {
          "name": "stderr",
          "output_type": "stream",
          "text": [
            "/usr/local/lib/python3.7/dist-packages/seaborn/distributions.py:2619: FutureWarning: `distplot` is a deprecated function and will be removed in a future version. Please adapt your code to use either `displot` (a figure-level function with similar flexibility) or `histplot` (an axes-level function for histograms).\n",
            "  warnings.warn(msg, FutureWarning)\n"
          ]
        },
        {
          "data": {
            "text/plain": [
              "<matplotlib.axes._subplots.AxesSubplot at 0x7f8b6fc3bb10>"
            ]
          },
          "execution_count": 39,
          "metadata": {},
          "output_type": "execute_result"
        },
        {
          "data": {
            "image/png": "[encoded data removed]",
            "text/plain": [
              "<Figure size 432x288 with 1 Axes>"
            ]
          },
          "metadata": {},
          "output_type": "display_data"
        }
      ]
    },
    {
      "cell_type": "code",
      "metadata": {
        "colab": {
          "base_uri": "https://localhost:8080/",
          "height": 350
        },
        "id": "t6ZfxtSAW3s8",
        "outputId": "6c99eab0-25bb-4459-8d89-222a6ec2b576"
      },
      "source": [
        "sns.distplot(low_accident_cites)"
      ],
      "execution_count": null,
      "outputs": [
        {
          "name": "stderr",
          "output_type": "stream",
          "text": [
            "/usr/local/lib/python3.7/dist-packages/seaborn/distributions.py:2619: FutureWarning: `distplot` is a deprecated function and will be removed in a future version. Please adapt your code to use either `displot` (a figure-level function with similar flexibility) or `histplot` (an axes-level function for histograms).\n",
            "  warnings.warn(msg, FutureWarning)\n"
          ]
        },
        {
          "data": {
            "text/plain": [
              "<matplotlib.axes._subplots.AxesSubplot at 0x7f8b6fb5cb10>"
            ]
          },
          "execution_count": 40,
          "metadata": {},
          "output_type": "execute_result"
        },
        {
          "data": {
            "image/png": "[encoded data removed]",
            "text/plain": [
              "<Figure size 432x288 with 1 Axes>"
            ]
          },
          "metadata": {},
          "output_type": "display_data"
        }
      ]
    },
    {
      "cell_type": "markdown",
      "metadata": {
        "id": "miJK78NBHmnh"
      },
      "source": [
        "###Start Time"
      ]
    },
    {
      "cell_type": "code",
      "metadata": {
        "colab": {
          "base_uri": "https://localhost:8080/"
        },
        "id": "cqRl83v_Em7R",
        "outputId": "8af3b64d-f91d-48fb-d343-3a0ff0a48eef"
      },
      "source": [
        "df.Start_Time[0]"
      ],
      "execution_count": null,
      "outputs": [
        {
          "data": {
            "text/plain": [
              "Timestamp('2016-02-08 00:37:08')"
            ]
          },
          "execution_count": 52,
          "metadata": {},
          "output_type": "execute_result"
        }
      ]
    },
    {
      "cell_type": "markdown",
      "metadata": {
        "id": "79Z41Y4CH3P9"
      },
      "source": [
        "To parse date in pandas (convert the date)"
      ]
    },
    {
      "cell_type": "code",
      "metadata": {
        "id": "chfH8_9XEmzh"
      },
      "source": [
        "df.Start_Time = pd.to_datetime(df.Start_Time)"
      ],
      "execution_count": null,
      "outputs": []
    },
    {
      "cell_type": "code",
      "metadata": {
        "colab": {
          "base_uri": "https://localhost:8080/"
        },
        "id": "ssdeND8uEmpn",
        "outputId": "db0fa804-6a26-4613-bccb-93f3baf3ec34"
      },
      "source": [
        "df.Start_Time[0]"
      ],
      "execution_count": null,
      "outputs": [
        {
          "data": {
            "text/plain": [
              "Timestamp('2016-02-08 00:37:08')"
            ]
          },
          "execution_count": 53,
          "metadata": {},
          "output_type": "execute_result"
        }
      ]
    },
    {
      "cell_type": "markdown",
      "metadata": {
        "id": "X-t_KZFCJgXI"
      },
      "source": [
        "To take the hour from the time stamp using (.dt.hour)"
      ]
    },
    {
      "cell_type": "code",
      "metadata": {
        "colab": {
          "base_uri": "https://localhost:8080/"
        },
        "id": "soiAhvE1JcK5",
        "outputId": "da5b4748-7e16-47a7-a5ee-711cd55b1fc3"
      },
      "source": [
        "df.Start_Time.dt.hour"
      ],
      "execution_count": null,
      "outputs": [
        {
          "data": {
            "text/plain": [
              "0           0\n",
              "1           5\n",
              "2           6\n",
              "3           6\n",
              "4           6\n",
              "           ..\n",
              "1516059    18\n",
              "1516060    19\n",
              "1516061    19\n",
              "1516062    19\n",
              "1516063    18\n",
              "Name: Start_Time, Length: 1516064, dtype: int64"
            ]
          },
          "execution_count": 56,
          "metadata": {},
          "output_type": "execute_result"
        }
      ]
    },
    {
      "cell_type": "markdown",
      "metadata": {
        "id": "drA4BMVpMHzy"
      },
      "source": [
        "we use bins 24 for 24 hours a day\n",
        "We use norm_hist to bring the y axis in percentage"
      ]
    },
    {
      "cell_type": "code",
      "metadata": {
        "colab": {
          "base_uri": "https://localhost:8080/",
          "height": 351
        },
        "id": "jt2U4JdOJNf9",
        "outputId": "c41e0bce-18b7-485f-a3ae-bb6d0eead41f"
      },
      "source": [
        "sns.distplot(df.Start_Time.dt.hour, bins = 24, norm_hist =True, kde=False)"
      ],
      "execution_count": null,
      "outputs": [
        {
          "name": "stderr",
          "output_type": "stream",
          "text": [
            "/usr/local/lib/python3.7/dist-packages/seaborn/distributions.py:2619: FutureWarning: `distplot` is a deprecated function and will be removed in a future version. Please adapt your code to use either `displot` (a figure-level function with similar flexibility) or `histplot` (an axes-level function for histograms).\n",
            "  warnings.warn(msg, FutureWarning)\n"
          ]
        },
        {
          "data": {
            "text/plain": [
              "<matplotlib.axes._subplots.AxesSubplot at 0x7f8b6a72c7d0>"
            ]
          },
          "execution_count": 62,
          "metadata": {},
          "output_type": "execute_result"
        },
        {
          "data": {
            "image/png": "[encoded data removed]",
            "text/plain": [
              "<Figure size 432x288 with 1 Axes>"
            ]
          },
          "metadata": {},
          "output_type": "display_data"
        }
      ]
    },
    {
      "cell_type": "markdown",
      "metadata": {
        "id": "0fdHVQr_NRKh"
      },
      "source": [
        "- A percentage of accident occures between 2p.m to 5p.m\n",
        "- Next highest percentage is between 6 am.m to 9 a.m "
      ]
    },
    {
      "cell_type": "markdown",
      "metadata": {
        "id": "UJcIjxTQOZot"
      },
      "source": [
        "To find the day of the week"
      ]
    },
    {
      "cell_type": "code",
      "metadata": {
        "colab": {
          "base_uri": "https://localhost:8080/",
          "height": 351
        },
        "id": "he9iiMtFJNXC",
        "outputId": "6b30c791-cddf-46b6-b6f0-8e132fc191b5"
      },
      "source": [
        "sns.distplot(df.Start_Time.dt.dayofweek, bins = 7, norm_hist =True, kde=False)"
      ],
      "execution_count": null,
      "outputs": [
        {
          "name": "stderr",
          "output_type": "stream",
          "text": [
            "/usr/local/lib/python3.7/dist-packages/seaborn/distributions.py:2619: FutureWarning: `distplot` is a deprecated function and will be removed in a future version. Please adapt your code to use either `displot` (a figure-level function with similar flexibility) or `histplot` (an axes-level function for histograms).\n",
            "  warnings.warn(msg, FutureWarning)\n"
          ]
        },
        {
          "data": {
            "text/plain": [
              "<matplotlib.axes._subplots.AxesSubplot at 0x7f8b6a5b9a10>"
            ]
          },
          "execution_count": 64,
          "metadata": {},
          "output_type": "execute_result"
        },
        {
          "data": {
            "image/png": "[encoded data removed]",
            "text/plain": [
              "<Figure size 432x288 with 1 Axes>"
            ]
          },
          "metadata": {},
          "output_type": "display_data"
        }
      ]
    },
    {
      "cell_type": "markdown",
      "metadata": {
        "id": "X0Vr_EkYOvoh"
      },
      "source": [
        "Is the distribution of accidents by hour the same on the weekends as on weekdays\n",
        "\n",
        "We are plotting for sunday so the dayod week = 6"
      ]
    },
    {
      "cell_type": "code",
      "metadata": {
        "colab": {
          "base_uri": "https://localhost:8080/",
          "height": 351
        },
        "id": "9imZMenpOvW8",
        "outputId": "20869d96-cd0f-41a5-cb20-63c38dd11441"
      },
      "source": [
        "sunday_start_time = df.Start_Time[df.Start_Time.dt.dayofweek == 6 ]\n",
        "sns.distplot(sunday_start_time.dt.hour, bins = 24, norm_hist =True, kde=False)"
      ],
      "execution_count": null,
      "outputs": [
        {
          "name": "stderr",
          "output_type": "stream",
          "text": [
            "/usr/local/lib/python3.7/dist-packages/seaborn/distributions.py:2619: FutureWarning: `distplot` is a deprecated function and will be removed in a future version. Please adapt your code to use either `displot` (a figure-level function with similar flexibility) or `histplot` (an axes-level function for histograms).\n",
            "  warnings.warn(msg, FutureWarning)\n"
          ]
        },
        {
          "data": {
            "text/plain": [
              "<matplotlib.axes._subplots.AxesSubplot at 0x7f8b6a459b10>"
            ]
          },
          "execution_count": 69,
          "metadata": {},
          "output_type": "execute_result"
        },
        {
          "data": {
            "image/png": "[encoded data removed]",
            "text/plain": [
              "<Figure size 432x288 with 1 Axes>"
            ]
          },
          "metadata": {},
          "output_type": "display_data"
        }
      ]
    },
    {
      "cell_type": "markdown",
      "metadata": {
        "id": "sOry1js_QiZZ"
      },
      "source": [
        "On Sunday the peak occurs between 5p.m to 9 p.m"
      ]
    },
    {
      "cell_type": "code",
      "metadata": {
        "colab": {
          "base_uri": "https://localhost:8080/",
          "height": 353
        },
        "id": "WA0N7cOrJNMC",
        "outputId": "e948e4ed-7de8-43a1-b8c1-fa923bb99402"
      },
      "source": [
        "Monday_start_time = df.Start_Time[df.Start_Time.dt.dayofweek == 0 ]\n",
        "sns.distplot(Monday_start_time.dt.hour, bins = 24, norm_hist =True, kde=False)"
      ],
      "execution_count": null,
      "outputs": [
        {
          "name": "stderr",
          "output_type": "stream",
          "text": [
            "/usr/local/lib/python3.7/dist-packages/seaborn/distributions.py:2619: FutureWarning: `distplot` is a deprecated function and will be removed in a future version. Please adapt your code to use either `displot` (a figure-level function with similar flexibility) or `histplot` (an axes-level function for histograms).\n",
            "  warnings.warn(msg, FutureWarning)\n"
          ]
        },
        {
          "data": {
            "text/plain": [
              "<matplotlib.axes._subplots.AxesSubplot at 0x7f8b6a356b90>"
            ]
          },
          "execution_count": 70,
          "metadata": {},
          "output_type": "execute_result"
        },
        {
          "data": {
            "image/png": "[encoded data removed]",
            "text/plain": [
              "<Figure size 432x288 with 1 Axes>"
            ]
          },
          "metadata": {},
          "output_type": "display_data"
        }
      ]
    },
    {
      "cell_type": "markdown",
      "metadata": {
        "id": "DwHPlgWvQ00i"
      },
      "source": [
        "\n",
        "\n",
        "This is for months\n",
        "\n",
        "\n"
      ]
    },
    {
      "cell_type": "code",
      "metadata": {
        "colab": {
          "base_uri": "https://localhost:8080/",
          "height": 351
        },
        "id": "wepvlfBZQ0jC",
        "outputId": "b8708a81-18d5-44b9-cdbb-42d481b6eee8"
      },
      "source": [
        "sns.distplot(df.Start_Time.dt.month, bins = 12, norm_hist =True, kde=False)"
      ],
      "execution_count": null,
      "outputs": [
        {
          "name": "stderr",
          "output_type": "stream",
          "text": [
            "/usr/local/lib/python3.7/dist-packages/seaborn/distributions.py:2619: FutureWarning: `distplot` is a deprecated function and will be removed in a future version. Please adapt your code to use either `displot` (a figure-level function with similar flexibility) or `histplot` (an axes-level function for histograms).\n",
            "  warnings.warn(msg, FutureWarning)\n"
          ]
        },
        {
          "data": {
            "text/plain": [
              "<matplotlib.axes._subplots.AxesSubplot at 0x7f8b6a2dded0>"
            ]
          },
          "execution_count": 74,
          "metadata": {},
          "output_type": "execute_result"
        },
        {
          "data": {
            "image/png": "[encoded data removed]",
            "text/plain": [
              "<Figure size 432x288 with 1 Axes>"
            ]
          },
          "metadata": {},
          "output_type": "display_data"
        }
      ]
    },
    {
      "cell_type": "markdown",
      "metadata": {
        "id": "igGsf2jcT0hQ"
      },
      "source": [
        "Can you explain the month wise trend of the accident? There are more accidents in the winter\n",
        "-Much data is missing  for 2016. Maybe for 2017"
      ]
    },
    {
      "cell_type": "markdown",
      "metadata": {
        "id": "lhN6eSDnURAw"
      },
      "source": [
        "To find the data for the particular year"
      ]
    },
    {
      "cell_type": "code",
      "metadata": {
        "id": "l2Oy_gkFQ0MG"
      },
      "source": [
        "df_2019 = df[df.Start_Time.dt.year == 2019]"
      ],
      "execution_count": null,
      "outputs": []
    },
    {
      "cell_type": "code",
      "metadata": {
        "colab": {
          "base_uri": "https://localhost:8080/",
          "height": 351
        },
        "id": "1bS5IxyKUhzI",
        "outputId": "3fe3bd89-b6d1-446e-bfcf-ac053e376a04"
      },
      "source": [
        "sns.distplot(df_2019.Start_Time.dt.month, bins=12, kde=False, norm_hist=True)\n"
      ],
      "execution_count": null,
      "outputs": [
        {
          "name": "stderr",
          "output_type": "stream",
          "text": [
            "/usr/local/lib/python3.7/dist-packages/seaborn/distributions.py:2619: FutureWarning: `distplot` is a deprecated function and will be removed in a future version. Please adapt your code to use either `displot` (a figure-level function with similar flexibility) or `histplot` (an axes-level function for histograms).\n",
            "  warnings.warn(msg, FutureWarning)\n"
          ]
        },
        {
          "data": {
            "text/plain": [
              "<matplotlib.axes._subplots.AxesSubplot at 0x7f8b6fa4b610>"
            ]
          },
          "execution_count": 85,
          "metadata": {},
          "output_type": "execute_result"
        },
        {
          "data": {
            "image/png": "[encoded data removed]",
            "text/plain": [
              "<Figure size 432x288 with 1 Axes>"
            ]
          },
          "metadata": {},
          "output_type": "display_data"
        }
      ]
    },
    {
      "cell_type": "markdown",
      "metadata": {
        "id": "CYr_IaeIadst"
      },
      "source": [
        "###Start Latitude & Longitude\n"
      ]
    },
    {
      "cell_type": "code",
      "metadata": {
        "colab": {
          "base_uri": "https://localhost:8080/"
        },
        "id": "LQCaBpMVUhv4",
        "outputId": "de85442c-6ba4-40c2-fbd3-f02a174cf437"
      },
      "source": [
        "df.Start_Lat\n"
      ],
      "execution_count": null,
      "outputs": [
        {
          "data": {
            "text/plain": [
              "0          40.10891\n",
              "1          39.86542\n",
              "2          39.10266\n",
              "3          39.10148\n",
              "4          41.06213\n",
              "             ...   \n",
              "1516059    34.00248\n",
              "1516060    32.76696\n",
              "1516061    33.77545\n",
              "1516062    33.99246\n",
              "1516063    34.13393\n",
              "Name: Start_Lat, Length: 1516064, dtype: float64"
            ]
          },
          "execution_count": 91,
          "metadata": {},
          "output_type": "execute_result"
        }
      ]
    },
    {
      "cell_type": "code",
      "metadata": {
        "colab": {
          "base_uri": "https://localhost:8080/"
        },
        "id": "5DAe8JOsUhgM",
        "outputId": "2851909a-a2f1-4cbb-d424-99b7b2fd73f2"
      },
      "source": [
        "df.Start_Lng\n"
      ],
      "execution_count": null,
      "outputs": [
        {
          "data": {
            "text/plain": [
              "0          -83.09286\n",
              "1          -84.06280\n",
              "2          -84.52468\n",
              "3          -84.52341\n",
              "4          -81.53784\n",
              "             ...    \n",
              "1516059   -117.37936\n",
              "1516060   -117.14806\n",
              "1516061   -117.84779\n",
              "1516062   -118.40302\n",
              "1516063   -117.23092\n",
              "Name: Start_Lng, Length: 1516064, dtype: float64"
            ]
          },
          "execution_count": 92,
          "metadata": {},
          "output_type": "execute_result"
        }
      ]
    },
    {
      "cell_type": "markdown",
      "metadata": {
        "id": "ARYE1pW3btZJ"
      },
      "source": [
        "We are creating the 1% sample from the whole population"
      ]
    },
    {
      "cell_type": "code",
      "metadata": {
        "colab": {
          "base_uri": "https://localhost:8080/",
          "height": 297
        },
        "id": "7GUWCgbQUhdJ",
        "outputId": "356b8d69-3ed5-44d7-e736-d32492194aea"
      },
      "source": [
        "sample_df = df.sample(int(0.001 * len(df)))\n",
        "sns.scatterplot(x = sample_df.Start_Lng, y = sample_df.Start_Lat, size = 0.001)"
      ],
      "execution_count": null,
      "outputs": [
        {
          "data": {
            "text/plain": [
              "<matplotlib.axes._subplots.AxesSubplot at 0x7f8b68823a10>"
            ]
          },
          "execution_count": 97,
          "metadata": {},
          "output_type": "execute_result"
        },
        {
          "data": {
            "image/png": "[encoded data removed]",
            "text/plain": [
              "<Figure size 432x288 with 1 Axes>"
            ]
          },
          "metadata": {},
          "output_type": "display_data"
        }
      ]
    },
    {
      "cell_type": "markdown",
      "metadata": {
        "id": "tXNvCDbhb-zQ"
      },
      "source": [
        "To map a point with folium"
      ]
    },
    {
      "cell_type": "code",
      "metadata": {
        "id": "xLmZvXEgUhTy"
      },
      "source": [
        "import folium"
      ],
      "execution_count": null,
      "outputs": []
    },
    {
      "cell_type": "code",
      "metadata": {
        "colab": {
          "base_uri": "https://localhost:8080/"
        },
        "id": "3DVr6TrpcUpA",
        "outputId": "9d46c6b4-67c0-43be-8a53-706f05e4a543"
      },
      "source": [
        "lat , lng = df.Start_Lat[0], df.Start_Lng[0]\n",
        "lat, lng"
      ],
      "execution_count": null,
      "outputs": [
        {
          "data": {
            "text/plain": [
              "(40.108909999999995, -83.09286)"
            ]
          },
          "execution_count": 103,
          "metadata": {},
          "output_type": "execute_result"
        }
      ]
    },
    {
      "cell_type": "code",
      "metadata": {
        "colab": {
          "base_uri": "https://localhost:8080/",
          "height": 712
        },
        "id": "rYo7PmJscC_Y",
        "outputId": "e6528ce8-bc72-470a-c6d6-8e9a96e2dc96"
      },
      "source": [
        "map = folium.Map()\n",
        "marker = folium.Marker((lat,lng))\n",
        "marker.add_to(map)\n",
        "map"
      ],
      "execution_count": null,
      "outputs": [
        {
          "data": {
            "text/html": [
              "<div style=\"width:100%;\"><div style=\"position:relative;width:100%;height:0;padding-bottom:60%;\"><span style=\"color:#565656\">Make this Notebook Trusted to load map: File -> Trust Notebook</span><iframe src=\"about:blank\" style=\"position:absolute;width:100%;height:100%;left:0;top:0;border:none !important;\" data-html=%3C%21DOCTYPE%20html%3E%0A%3Chead%3E%20%20%20%20%0A%20%20%20%20%3Cmeta%20http-equiv%3D%22content-type%22%20content%3D%22text/html%3B%20charset%3DUTF-8%22%20/%3E%0A%20%20%20%20%3Cscript%3EL_PREFER_CANVAS%3Dfalse%3B%20L_NO_TOUCH%3Dfalse%3B%20L_DISABLE_3D%3Dfalse%3B%3C/script%3E%0A%20%20%20%20%3Cscript%20src%3D%22https%3A//cdn.jsdelivr.net/npm/leaflet%401.4.0/dist/leaflet.js%22%3E%3C/script%3E%0A%20%20%20%20%3Cscript%20src%3D%22https%3A//code.jquery.com/jquery-1.12.4.min.js%22%3E%3C/script%3E%0A%20%20%20%20%3Cscript%20src%3D%22https%3A//maxcdn.bootstrapcdn.com/bootstrap/3.2.0/js/bootstrap.min.js%22%3E%3C/script%3E%0A%20%20%20%20%3Cscript%20src%3D%22https%3A//cdnjs.cloudflare.com/ajax/libs/Leaflet.awesome-markers/2.0.2/leaflet.awesome-markers.js%22%3E%3C/script%3E%0A%20%20%20%20%3Clink%20rel%3D%22stylesheet%22%20href%3D%22https%3A//cdn.jsdelivr.net/npm/leaflet%401.4.0/dist/leaflet.css%22/%3E%0A%20%20%20%20%3Clink%20rel%3D%22stylesheet%22%20href%3D%22https%3A//maxcdn.bootstrapcdn.com/bootstrap/3.2.0/css/bootstrap.min.css%22/%3E%0A%20%20%20%20%3Clink%20rel%3D%22stylesheet%22%20href%3D%22https%3A//maxcdn.bootstrapcdn.com/bootstrap/3.2.0/css/bootstrap-theme.min.css%22/%3E%0A%20%20%20%20%3Clink%20rel%3D%22stylesheet%22%20href%3D%22https%3A//maxcdn.bootstrapcdn.com/font-awesome/4.6.3/css/font-awesome.min.css%22/%3E%0A%20%20%20%20%3Clink%20rel%3D%22stylesheet%22%20href%3D%22https%3A//cdnjs.cloudflare.com/ajax/libs/Leaflet.awesome-markers/2.0.2/leaflet.awesome-markers.css%22/%3E%0A%20%20%20%20%3Clink%20rel%3D%22stylesheet%22%20href%3D%22https%3A//rawcdn.githack.com/python-visualization/folium/master/folium/templates/leaflet.awesome.rotate.css%22/%3E%0A%20%20%20%20%3Cstyle%3Ehtml%2C%20body%20%7Bwidth%3A%20100%25%3Bheight%3A%20100%25%3Bmargin%3A%200%3Bpadding%3A%200%3B%7D%3C/style%3E%0A%20%20%20%20%3Cstyle%3E%23map%20%7Bposition%3Aabsolute%3Btop%3A0%3Bbottom%3A0%3Bright%3A0%3Bleft%3A0%3B%7D%3C/style%3E%0A%20%20%20%20%0A%20%20%20%20%3Cmeta%20name%3D%22viewport%22%20content%3D%22width%3Ddevice-width%2C%0A%20%20%20%20%20%20%20%20initial-scale%3D1.0%2C%20maximum-scale%3D1.0%2C%20user-scalable%3Dno%22%20/%3E%0A%20%20%20%20%3Cstyle%3E%23map_33792c80d4ec4c0299638e6716e8baa6%20%7B%0A%20%20%20%20%20%20%20%20position%3A%20relative%3B%0A%20%20%20%20%20%20%20%20width%3A%20100.0%25%3B%0A%20%20%20%20%20%20%20%20height%3A%20100.0%25%3B%0A%20%20%20%20%20%20%20%20left%3A%200.0%25%3B%0A%20%20%20%20%20%20%20%20top%3A%200.0%25%3B%0A%20%20%20%20%20%20%20%20%7D%0A%20%20%20%20%3C/style%3E%0A%3C/head%3E%0A%3Cbody%3E%20%20%20%20%0A%20%20%20%20%0A%20%20%20%20%3Cdiv%20class%3D%22folium-map%22%20id%3D%22map_33792c80d4ec4c0299638e6716e8baa6%22%20%3E%3C/div%3E%0A%3C/body%3E%0A%3Cscript%3E%20%20%20%20%0A%20%20%20%20%0A%20%20%20%20%0A%20%20%20%20%20%20%20%20var%20bounds%20%3D%20null%3B%0A%20%20%20%20%0A%0A%20%20%20%20var%20map_33792c80d4ec4c0299638e6716e8baa6%20%3D%20L.map%28%0A%20%20%20%20%20%20%20%20%27map_33792c80d4ec4c0299638e6716e8baa6%27%2C%20%7B%0A%20%20%20%20%20%20%20%20center%3A%20%5B0%2C%200%5D%2C%0A%20%20%20%20%20%20%20%20zoom%3A%201%2C%0A%20%20%20%20%20%20%20%20maxBounds%3A%20bounds%2C%0A%20%20%20%20%20%20%20%20layers%3A%20%5B%5D%2C%0A%20%20%20%20%20%20%20%20worldCopyJump%3A%20false%2C%0A%20%20%20%20%20%20%20%20crs%3A%20L.CRS.EPSG3857%2C%0A%20%20%20%20%20%20%20%20zoomControl%3A%20true%2C%0A%20%20%20%20%20%20%20%20%7D%29%3B%0A%0A%0A%20%20%20%20%0A%20%20%20%20var%20tile_layer_511e8731f9db404c843962237896836b%20%3D%20L.tileLayer%28%0A%20%20%20%20%20%20%20%20%27https%3A//%7Bs%7D.tile.openstreetmap.org/%7Bz%7D/%7Bx%7D/%7By%7D.png%27%2C%0A%20%20%20%20%20%20%20%20%7B%0A%20%20%20%20%20%20%20%20%22attribution%22%3A%20null%2C%0A%20%20%20%20%20%20%20%20%22detectRetina%22%3A%20false%2C%0A%20%20%20%20%20%20%20%20%22maxNativeZoom%22%3A%2018%2C%0A%20%20%20%20%20%20%20%20%22maxZoom%22%3A%2018%2C%0A%20%20%20%20%20%20%20%20%22minZoom%22%3A%200%2C%0A%20%20%20%20%20%20%20%20%22noWrap%22%3A%20false%2C%0A%20%20%20%20%20%20%20%20%22opacity%22%3A%201%2C%0A%20%20%20%20%20%20%20%20%22subdomains%22%3A%20%22abc%22%2C%0A%20%20%20%20%20%20%20%20%22tms%22%3A%20false%0A%7D%29.addTo%28map_33792c80d4ec4c0299638e6716e8baa6%29%3B%0A%20%20%20%20%0A%20%20%20%20%20%20%20%20var%20marker_76e136665ffc427f828a002704b0cc2e%20%3D%20L.marker%28%0A%20%20%20%20%20%20%20%20%20%20%20%20%5B40.108909999999995%2C%20-83.09286%5D%2C%0A%20%20%20%20%20%20%20%20%20%20%20%20%7B%0A%20%20%20%20%20%20%20%20%20%20%20%20%20%20%20%20icon%3A%20new%20L.Icon.Default%28%29%2C%0A%20%20%20%20%20%20%20%20%20%20%20%20%20%20%20%20%7D%0A%20%20%20%20%20%20%20%20%20%20%20%20%29.addTo%28map_33792c80d4ec4c0299638e6716e8baa6%29%3B%0A%20%20%20%20%20%20%20%20%0A%3C/script%3E onload=\"this.contentDocument.open();this.contentDocument.write(    decodeURIComponent(this.getAttribute('data-html')));this.contentDocument.close();\" allowfullscreen webkitallowfullscreen mozallowfullscreen></iframe></div></div>"
            ],
            "text/plain": [
              "<folium.folium.Map at 0x7f8b685a8850>"
            ]
          },
          "execution_count": 108,
          "metadata": {},
          "output_type": "execute_result"
        }
      ]
    },
    {
      "cell_type": "markdown",
      "metadata": {
        "id": "orUhEfySdf9k"
      },
      "source": [
        "Let's plot it for 1000 cities"
      ]
    },
    {
      "cell_type": "code",
      "metadata": {
        "colab": {
          "base_uri": "https://localhost:8080/"
        },
        "id": "eWGymlmIdmSm",
        "outputId": "d4befcb9-7500-4ba0-c398-657b6efc48fa"
      },
      "source": [
        "for x in df[['Start_Lat', 'Start_Lng']].sample(100).iteritems():\n",
        "    print(x[1])"
      ],
      "execution_count": null,
      "outputs": [
        {
          "name": "stdout",
          "output_type": "stream",
          "text": [
            "539996     39.863982\n",
            "503941     39.298149\n",
            "238110     33.652982\n",
            "344683     27.300548\n",
            "626553     36.160222\n",
            "             ...    \n",
            "247688     38.819238\n",
            "645750     34.036620\n",
            "1077835    35.446403\n",
            "456076     28.032566\n",
            "590739     33.876932\n",
            "Name: Start_Lat, Length: 100, dtype: float64\n",
            "539996     -75.416560\n",
            "503941     -77.829519\n",
            "238110    -117.599446\n",
            "344683     -82.497627\n",
            "626553     -86.773077\n",
            "              ...    \n",
            "247688     -76.917875\n",
            "645750    -118.270128\n",
            "1077835   -118.927258\n",
            "456076     -82.738329\n",
            "590739    -118.185478\n",
            "Name: Start_Lng, Length: 100, dtype: float64\n"
          ]
        }
      ]
    },
    {
      "cell_type": "code",
      "metadata": {
        "id": "DweWi2tXhl5n"
      },
      "source": [
        "from folium.plugins import HeatMap\n"
      ],
      "execution_count": null,
      "outputs": []
    },
    {
      "cell_type": "markdown",
      "metadata": {
        "id": "o36ksoIOhxeS"
      },
      "source": [
        "Creating the heat map"
      ]
    },
    {
      "cell_type": "code",
      "metadata": {
        "colab": {
          "base_uri": "https://localhost:8080/"
        },
        "id": "qpA0Bo2Qh3lf",
        "outputId": "6b2483d5-9fe0-4d10-d239-72ce54dd3ba5"
      },
      "source": [
        "zip(list(df.Start_Lat), list(df.Start_Lng))\n"
      ],
      "execution_count": null,
      "outputs": [
        {
          "data": {
            "text/plain": [
              "<zip at 0x7f8b6852d4b0>"
            ]
          },
          "execution_count": 112,
          "metadata": {},
          "output_type": "execute_result"
        }
      ]
    },
    {
      "cell_type": "code",
      "metadata": {
        "id": "-Po0tW1UcCzg"
      },
      "source": [
        "sample_df = df.sample(int(0.001 * len(df)))\n",
        "lat_lon_pairs = list(zip(list(sample_df.Start_Lat), list(sample_df.Start_Lng)))"
      ],
      "execution_count": null,
      "outputs": []
    },
    {
      "cell_type": "code",
      "metadata": {
        "colab": {
          "base_uri": "https://localhost:8080/",
          "height": 712
        },
        "id": "cknTdhphiOw-",
        "outputId": "a9cd6b8e-ec60-4414-fb2a-6596c88c223d"
      },
      "source": [
        "map = folium.Map()\n",
        "HeatMap(lat_lon_pairs).add_to(map)\n",
        "map"
      ],
      "execution_count": null,
      "outputs": [
        {
          "data": {
            "text/html": [
              "<div style=\"width:100%;\"><div style=\"position:relative;width:100%;height:0;padding-bottom:60%;\"><span style=\"color:#565656\">Make this Notebook Trusted to load map: File -> Trust Notebook</span><iframe src=\"about:blank\" style=\"position:absolute;width:100%;height:100%;left:0;top:0;border:none !important;\" data-html=%3C%21DOCTYPE%20html%3E%0A%3Chead%3E%20%20%20%20%0A%20%20%20%20%3Cmeta%20http-equiv%3D%22content-type%22%20content%3D%22text/html%3B%20charset%3DUTF-8%22%20/%3E%0A%20%20%20%20%3Cscript%3EL_PREFER_CANVAS%3Dfalse%3B%20L_NO_TOUCH%3Dfalse%3B%20L_DISABLE_3D%3Dfalse%3B%3C/script%3E%0A%20%20%20%20%3Cscript%20src%3D%22https%3A//cdn.jsdelivr.net/npm/leaflet%401.4.0/dist/leaflet.js%22%3E%3C/script%3E%0A%20%20%20%20%3Cscript%20src%3D%22https%3A//code.jquery.com/jquery-1.12.4.min.js%22%3E%3C/script%3E%0A%20%20%20%20%3Cscript%20src%3D%22https%3A//maxcdn.bootstrapcdn.com/bootstrap/3.2.0/js/bootstrap.min.js%22%3E%3C/script%3E%0A%20%20%20%20%3Cscript%20src%3D%22https%3A//cdnjs.cloudflare.com/ajax/libs/Leaflet.awesome-markers/2.0.2/leaflet.awesome-markers.js%22%3E%3C/script%3E%0A%20%20%20%20%3Clink%20rel%3D%22stylesheet%22%20href%3D%22https%3A//cdn.jsdelivr.net/npm/leaflet%401.4.0/dist/leaflet.css%22/%3E%0A%20%20%20%20%3Clink%20rel%3D%22stylesheet%22%20href%3D%22https%3A//maxcdn.bootstrapcdn.com/bootstrap/3.2.0/css/bootstrap.min.css%22/%3E%0A%20%20%20%20%3Clink%20rel%3D%22stylesheet%22%20href%3D%22https%3A//maxcdn.bootstrapcdn.com/bootstrap/3.2.0/css/bootstrap-theme.min.css%22/%3E%0A%20%20%20%20%3Clink%20rel%3D%22stylesheet%22%20href%3D%22https%3A//maxcdn.bootstrapcdn.com/font-awesome/4.6.3/css/font-awesome.min.css%22/%3E%0A%20%20%20%20%3Clink%20rel%3D%22stylesheet%22%20href%3D%22https%3A//cdnjs.cloudflare.com/ajax/libs/Leaflet.awesome-markers/2.0.2/leaflet.awesome-markers.css%22/%3E%0A%20%20%20%20%3Clink%20rel%3D%22stylesheet%22%20href%3D%22https%3A//rawcdn.githack.com/python-visualization/folium/master/folium/templates/leaflet.awesome.rotate.css%22/%3E%0A%20%20%20%20%3Cstyle%3Ehtml%2C%20body%20%7Bwidth%3A%20100%25%3Bheight%3A%20100%25%3Bmargin%3A%200%3Bpadding%3A%200%3B%7D%3C/style%3E%0A%20%20%20%20%3Cstyle%3E%23map%20%7Bposition%3Aabsolute%3Btop%3A0%3Bbottom%3A0%3Bright%3A0%3Bleft%3A0%3B%7D%3C/style%3E%0A%20%20%20%20%0A%20%20%20%20%3Cmeta%20name%3D%22viewport%22%20content%3D%22width%3Ddevice-width%2C%0A%20%20%20%20%20%20%20%20initial-scale%3D1.0%2C%20maximum-scale%3D1.0%2C%20user-scalable%3Dno%22%20/%3E%0A%20%20%20%20%3Cstyle%3E%23map_2e286bb35cda4b0d99719f20254cb988%20%7B%0A%20%20%20%20%20%20%20%20position%3A%20relative%3B%0A%20%20%20%20%20%20%20%20width%3A%20100.0%25%3B%0A%20%20%20%20%20%20%20%20height%3A%20100.0%25%3B%0A%20%20%20%20%20%20%20%20left%3A%200.0%25%3B%0A%20%20%20%20%20%20%20%20top%3A%200.0%25%3B%0A%20%20%20%20%20%20%20%20%7D%0A%20%20%20%20%3C/style%3E%0A%20%20%20%20%3Cscript%20src%3D%22https%3A//leaflet.github.io/Leaflet.heat/dist/leaflet-heat.js%22%3E%3C/script%3E%0A%3C/head%3E%0A%3Cbody%3E%20%20%20%20%0A%20%20%20%20%0A%20%20%20%20%3Cdiv%20class%3D%22folium-map%22%20id%3D%22map_2e286bb35cda4b0d99719f20254cb988%22%20%3E%3C/div%3E%0A%3C/body%3E%0A%3Cscript%3E%20%20%20%20%0A%20%20%20%20%0A%20%20%20%20%0A%20%20%20%20%20%20%20%20var%20bounds%20%3D%20null%3B%0A%20%20%20%20%0A%0A%20%20%20%20var%20map_2e286bb35cda4b0d99719f20254cb988%20%3D%20L.map%28%0A%20%20%20%20%20%20%20%20%27map_2e286bb35cda4b0d99719f20254cb988%27%2C%20%7B%0A%20%20%20%20%20%20%20%20center%3A%20%5B0%2C%200%5D%2C%0A%20%20%20%20%20%20%20%20zoom%3A%201%2C%0A%20%20%20%20%20%20%20%20maxBounds%3A%20bounds%2C%0A%20%20%20%20%20%20%20%20layers%3A%20%5B%5D%2C%0A%20%20%20%20%20%20%20%20worldCopyJump%3A%20false%2C%0A%20%20%20%20%20%20%20%20crs%3A%20L.CRS.EPSG3857%2C%0A%20%20%20%20%20%20%20%20zoomControl%3A%20true%2C%0A%20%20%20%20%20%20%20%20%7D%29%3B%0A%0A%0A%20%20%20%20%0A%20%20%20%20var%20tile_layer_9c335cf41a234e958609035f52556f1d%20%3D%20L.tileLayer%28%0A%20%20%20%20%20%20%20%20%27https%3A//%7Bs%7D.tile.openstreetmap.org/%7Bz%7D/%7Bx%7D/%7By%7D.png%27%2C%0A%20%20%20%20%20%20%20%20%7B%0A%20%20%20%20%20%20%20%20%22attribution%22%3A%20null%2C%0A%20%20%20%20%20%20%20%20%22detectRetina%22%3A%20false%2C%0A%20%20%20%20%20%20%20%20%22maxNativeZoom%22%3A%2018%2C%0A%20%20%20%20%20%20%20%20%22maxZoom%22%3A%2018%2C%0A%20%20%20%20%20%20%20%20%22minZoom%22%3A%200%2C%0A%20%20%20%20%20%20%20%20%22noWrap%22%3A%20false%2C%0A%20%20%20%20%20%20%20%20%22opacity%22%3A%201%2C%0A%20%20%20%20%20%20%20%20%22subdomains%22%3A%20%22abc%22%2C%0A%20%20%20%20%20%20%20%20%22tms%22%3A%20false%0A%7D%29.addTo%28map_2e286bb35cda4b0d99719f20254cb988%29%3B%0A%20%20%20%20%0A%20%20%20%20%20%20%20%20%20%20%20%20var%20heat_map_682667e2c6424b45ae9cddcbff7751f8%20%3D%20L.heatLayer%28%0A%20%20%20%20%20%20%20%20%20%20%20%20%20%20%20%20%5B%5B38.37117%2C%20-121.47573999999999%5D%2C%20%5B39.110256%2C%20-84.53161%5D%2C%20%5B39.78513%2C%20-86.13866%5D%2C%20%5B32.77382%2C%20-96.79613%5D%2C%20%5B39.796795%2C%20-121.951824%5D%2C%20%5B28.196893%2C%20-80.708688%5D%2C%20%5B28.2577%2C%20-81.33155%5D%2C%20%5B41.675709999999995%2C%20-83.69385%5D%2C%20%5B34.005507%2C%20-117.248498%5D%2C%20%5B35.222752%2C%20-118.56283400000001%5D%2C%20%5B40.81555%2C%20-73.83626%5D%2C%20%5B45.533904%2C%20-122.6262%5D%2C%20%5B28.360167999999998%2C%20-81.364899%5D%2C%20%5B25.56628%2C%20-80.38174000000001%5D%2C%20%5B45.906034999999996%2C%20-122.81968300000001%5D%2C%20%5B35.059593%2C%20-85.066677%5D%2C%20%5B33.735440000000004%2C%20-117.8336%5D%2C%20%5B45.501926%2C%20-122.673602%5D%2C%20%5B30.42806%2C%20-90.07964%5D%2C%20%5B30.260597999999998%2C%20-97.734626%5D%2C%20%5B33.83368%2C%20-84.33232%5D%2C%20%5B33.971515999999994%2C%20-117.91157700000001%5D%2C%20%5B25.808505%2C%20-80.261162%5D%2C%20%5B40.991890000000005%2C%20-73.67716%5D%2C%20%5B27.877545%2C%20-82.63874799999999%5D%2C%20%5B40.396029999999996%2C%20-74.84484%5D%2C%20%5B38.46994%2C%20-121.41807%5D%2C%20%5B44.75693%2C%20-93.25301999999999%5D%2C%20%5B34.426721%2C%20-117.380482%5D%2C%20%5B37.85822%2C%20-121.21875%5D%2C%20%5B34.497138%2C%20-118.62301799999999%5D%2C%20%5B43.79925%2C%20-90.05924%5D%2C%20%5B35.98945%2C%20-83.97064%5D%2C%20%5B28.154559999999996%2C%20-82.15278%5D%2C%20%5B25.94772%2C%20-80.35163%5D%2C%20%5B43.61831%2C%20-116.24066%5D%2C%20%5B33.634654%2C%20-112.00405900000001%5D%2C%20%5B39.97426%2C%20-76.68008%5D%2C%20%5B33.11547%2C%20-117.0988%5D%2C%20%5B35.429930999999996%2C%20-119.07163700000001%5D%2C%20%5B33.912240000000004%2C%20-118.15433%5D%2C%20%5B34.087454%2C%20-117.65506599999999%5D%2C%20%5B44.38092%2C%20-123.06146000000001%5D%2C%20%5B37.573553000000004%2C%20-118.735352%5D%2C%20%5B29.745019%2C%20-95.36261999999999%5D%2C%20%5B37.84193%2C%20-122.29746000000002%5D%2C%20%5B37.44423%2C%20-122.26905%5D%2C%20%5B38.008878%2C%20-109.352455%5D%2C%20%5B33.744735%2C%20-117.98765800000001%5D%2C%20%5B47.23188%2C%20-122.4394%5D%2C%20%5B36.796601%2C%20-121.724571%5D%2C%20%5B37.370021%2C%20-121.912403%5D%2C%20%5B45.62356%2C%20-123.37593999999999%5D%2C%20%5B33.718744%2C%20-84.960673%5D%2C%20%5B41.89241%2C%20-87.63261%5D%2C%20%5B39.09847%2C%20-121.08508%5D%2C%20%5B33.753187%2C%20-118.015146%5D%2C%20%5B35.395802%2C%20-80.70070600000001%5D%2C%20%5B41.5559%2C%20-73.77878%5D%2C%20%5B32.7869%2C%20-117.20702%5D%2C%20%5B26.614411999999998%2C%20-80.068777%5D%2C%20%5B25.941566%2C%20-80.306811%5D%2C%20%5B45.905575%2C%20-123.878323%5D%2C%20%5B41.78652%2C%20-88.07423%5D%2C%20%5B45.823240000000006%2C%20-122.84617%5D%2C%20%5B29.777172999999998%2C%20-95.40622900000001%5D%2C%20%5B30.359561%2C%20-90.996323%5D%2C%20%5B43.3619%2C%20-73.70395%5D%2C%20%5B32.792316%2C%20-96.775049%5D%2C%20%5B37.240895%2C%20-121.777047%5D%2C%20%5B34.06492%2C%20-118.00078%5D%2C%20%5B26.007202%2C%20-80.167011%5D%2C%20%5B28.024202000000002%2C%20-82.23939200000001%5D%2C%20%5B25.76107%2C%20-80.391406%5D%2C%20%5B40.177606%2C%20-75.193912%5D%2C%20%5B37.249328000000006%2C%20-121.78249699999999%5D%2C%20%5B34.103458%2C%20-79.371696%5D%2C%20%5B44.711175%2C%20-123.026754%5D%2C%20%5B42.263040999999994%2C%20-84.709063%5D%2C%20%5B34.135566%2C%20-117.972252%5D%2C%20%5B39.620743%2C%20-77.779673%5D%2C%20%5B25.94119%2C%20-80.237363%5D%2C%20%5B29.759090000000004%2C%20-95.37414%5D%2C%20%5B33.327895%2C%20-117.162548%5D%2C%20%5B37.61146%2C%20-77.56359%5D%2C%20%5B27.92362%2C%20-82.33267%5D%2C%20%5B28.569090000000003%2C%20-81.24486999999999%5D%2C%20%5B42.649803000000006%2C%20-85.982537%5D%2C%20%5B40.919646%2C%20-74.067436%5D%2C%20%5B38.15413%2C%20-78.84276%5D%2C%20%5B33.42738%2C%20-112.04789%5D%2C%20%5B33.893370000000004%2C%20-84.45575%5D%2C%20%5B33.24108%2C%20-82.04573%5D%2C%20%5B38.340321%2C%20-77.492548%5D%2C%20%5B41.322979%2C%20-82.609448%5D%2C%20%5B37.95326%2C%20-122.32823%5D%2C%20%5B32.94852%2C%20-117.24359%5D%2C%20%5B37.724015%2C%20-122.401476%5D%2C%20%5B45.26175%2C%20-122.78488%5D%2C%20%5B29.813836%2C%20-95.378354%5D%2C%20%5B40.844731%2C%20-73.92514399999999%5D%2C%20%5B33.986670000000004%2C%20-117.906247%5D%2C%20%5B41.81878%2C%20-71.39434%5D%2C%20%5B42.452006%2C%20-123.30684699999999%5D%2C%20%5B40.143941999999996%2C%20-75.392004%5D%2C%20%5B34.235589000000004%2C%20-118.474148%5D%2C%20%5B37.83%2C%20-122.29404%5D%2C%20%5B37.766694%2C%20-122.395005%5D%2C%20%5B36.326535%2C%20-119.27288200000001%5D%2C%20%5B33.46573%2C%20-112.2205%5D%2C%20%5B39.02026%2C%20-94.50114%5D%2C%20%5B35.77302%2C%20-78.60045%5D%2C%20%5B38.32382%2C%20-121.326473%5D%2C%20%5B36.58882%2C%20-120.388645%5D%2C%20%5B33.802735%2C%20-118.117508%5D%2C%20%5B44.405807%2C%20-93.959968%5D%2C%20%5B42.635690000000004%2C%20-87.95246999999999%5D%2C%20%5B40.13767%2C%20-75.2886%5D%2C%20%5B36.84398%2C%20-76.2876%5D%2C%20%5B35.28282%2C%20-80.8573%5D%2C%20%5B28.45165%2C%20-81.40056%5D%2C%20%5B33.87345%2C%20-118.00971000000001%5D%2C%20%5B26.409329999999997%2C%20-80.090128%5D%2C%20%5B30.182648999999998%2C%20-91.98973199999999%5D%2C%20%5B37.310928000000004%2C%20-76.68933299999999%5D%2C%20%5B33.93503%2C%20-118.36828%5D%2C%20%5B33.88961%2C%20-84.46045%5D%2C%20%5B34.063288%2C%20-118.47231000000001%5D%2C%20%5B29.96487%2C%20-90.08612%5D%2C%20%5B33.663740000000004%2C%20-84.42219300000001%5D%2C%20%5B32.221084999999995%2C%20-110.978932%5D%2C%20%5B40.513484999999996%2C%20-124.01769399999999%5D%2C%20%5B30.32943%2C%20-97.70544%5D%2C%20%5B34.072038%2C%20-117.90750200000001%5D%2C%20%5B34.514658000000004%2C%20-117.320872%5D%2C%20%5B32.869789000000004%2C%20-117.19509099999999%5D%2C%20%5B25.903154%2C%20-80.324381%5D%2C%20%5B37.98393%2C%20-122.04133%5D%2C%20%5B39.80272%2C%20-86.07816%5D%2C%20%5B39.766527%2C%20-86.143262%5D%2C%20%5B39.24507%2C%20-104.87988%5D%2C%20%5B37.56149%2C%20-77.37557%5D%2C%20%5B33.952785%2C%20-118.17052199999999%5D%2C%20%5B30.476921%2C%20-83.896268%5D%2C%20%5B37.542344%2C%20-77.325978%5D%2C%20%5B45.58409%2C%20-122.67928%5D%2C%20%5B35.10083%2C%20-80.99280999999999%5D%2C%20%5B30.133575%2C%20-85.562393%5D%2C%20%5B38.510445000000004%2C%20-121.44886799999999%5D%2C%20%5B29.958423%2C%20-90.071573%5D%2C%20%5B45.241372999999996%2C%20-93.66337800000001%5D%2C%20%5B42.850026%2C%20-73.77287700000001%5D%2C%20%5B27.433729999999997%2C%20-82.68478%5D%2C%20%5B26.602331%2C%20-80.06890600000001%5D%2C%20%5B33.96014%2C%20-118.234669%5D%2C%20%5B33.746660999999996%2C%20-118.006922%5D%2C%20%5B41.67698%2C%20-87.70028%5D%2C%20%5B39.77969%2C%20-104.971915%5D%2C%20%5B39.47631%2C%20-83.89435%5D%2C%20%5B33.865592%2C%20-118.330175%5D%2C%20%5B45.02959%2C%20-92.96245%5D%2C%20%5B45.028175%2C%20-93.045514%5D%2C%20%5B34.144209000000004%2C%20-117.31891%5D%2C%20%5B38.204798%2C%20-120.697423%5D%2C%20%5B38.940474%2C%20-76.988295%5D%2C%20%5B29.700186%2C%20-95.476146%5D%2C%20%5B34.045204%2C%20-118.173602%5D%2C%20%5B39.757709999999996%2C%20-105.00953%5D%2C%20%5B34.22136%2C%20-118.47331000000001%5D%2C%20%5B41.286609999999996%2C%20-73.76326999999999%5D%2C%20%5B35.881787%2C%20-87.82799999999999%5D%2C%20%5B33.831589%2C%20-118.2887%5D%2C%20%5B32.65988%2C%20-117.07056000000001%5D%2C%20%5B34.100471999999996%2C%20-118.83939199999999%5D%2C%20%5B34.023348%2C%20-117.811733%5D%2C%20%5B39.814028%2C%20-78.189268%5D%2C%20%5B30.44098%2C%20-91.355234%5D%2C%20%5B33.99773%2C%20-117.93485%5D%2C%20%5B34.16154%2C%20-119.152227%5D%2C%20%5B30.44345%2C%20-91.182558%5D%2C%20%5B34.050362%2C%20-117.689399%5D%2C%20%5B35.412258%2C%20-119.030026%5D%2C%20%5B32.350181%2C%20-95.32623199999999%5D%2C%20%5B37.689285%2C%20-122.105928%5D%2C%20%5B33.85217%2C%20-117.971652%5D%2C%20%5B42.429004%2C%20-87.85491%5D%2C%20%5B30.16995%2C%20-90.87077%5D%2C%20%5B32.7786%2C%20-117.112466%5D%2C%20%5B39.16324%2C%20-84.43429%5D%2C%20%5B32.749975%2C%20-117.108603%5D%2C%20%5B34.181568%2C%20-118.88748000000001%5D%2C%20%5B40.79278%2C%20-73.47778000000001%5D%2C%20%5B27.955945%2C%20-82.465835%5D%2C%20%5B40.547317%2C%20-80.08467399999999%5D%2C%20%5B38.481432%2C%20-78.810884%5D%2C%20%5B34.398205%2C%20-119.48276200000001%5D%2C%20%5B45.42442%2C%20-122.59267%5D%2C%20%5B36.666553%2C%20-119.728334%5D%2C%20%5B38.43349%2C%20-122.72233999999999%5D%2C%20%5B34.690557%2C%20-82.222767%5D%2C%20%5B42.928933%2C%20-85.666752%5D%2C%20%5B38.656586%2C%20-120.99780600000001%5D%2C%20%5B40.93419%2C%20-73.80741%5D%2C%20%5B34.0031%2C%20-118.06523%5D%2C%20%5B34.206353%2C%20-118.34316799999999%5D%2C%20%5B35.246629999999996%2C%20-80.7879%5D%2C%20%5B30.249921%2C%20-81.541568%5D%2C%20%5B33.97862%2C%20-117.54903999999999%5D%2C%20%5B26.804440000000003%2C%20-80.09824%5D%2C%20%5B33.122673999999996%2C%20-111.84546499999999%5D%2C%20%5B37.72834%2C%20-121.10752%5D%2C%20%5B25.733116%2C%20-80.338192%5D%2C%20%5B33.88896%2C%20-117.06944299999999%5D%2C%20%5B29.856984999999998%2C%20-95.376264%5D%2C%20%5B33.82065%2C%20-84.361%5D%2C%20%5B33.927203000000006%2C%20-118.238974%5D%2C%20%5B42.983635%2C%20-83.713143%5D%2C%20%5B34.048658%2C%20-118.44818400000001%5D%2C%20%5B40.85002%2C%20-73.94399%5D%2C%20%5B34.36128%2C%20-118.50558000000001%5D%2C%20%5B42.39199%2C%20-87.85042%5D%2C%20%5B36.77262%2C%20-121.66911%5D%2C%20%5B35.412321999999996%2C%20-119.04858600000001%5D%2C%20%5B39.902029999999996%2C%20-82.89858000000001%5D%2C%20%5B38.79793%2C%20-77.58639000000001%5D%2C%20%5B44.926871000000006%2C%20-123.020645%5D%2C%20%5B26.464174%2C%20-81.828704%5D%2C%20%5B29.746603999999998%2C%20-95.454054%5D%2C%20%5B32.90849%2C%20-96.89541%5D%2C%20%5B40.58809%2C%20-111.89093999999999%5D%2C%20%5B44.98346%2C%20-93.45975%5D%2C%20%5B41.408747%2C%20-74.077409%5D%2C%20%5B27.35323%2C%20-82.51401%5D%2C%20%5B37.374689000000004%2C%20-121.93221100000001%5D%2C%20%5B39.45713%2C%20-76.65094%5D%2C%20%5B39.255409%2C%20-76.57048499999999%5D%2C%20%5B41.423790000000004%2C%20-73.62875%5D%2C%20%5B45.03515%2C%20-93.08397%5D%2C%20%5B35.28395%2C%20-81.18881999999999%5D%2C%20%5B37.243860999999995%2C%20-119.54243799999999%5D%2C%20%5B37.50085%2C%20-121.95823100000001%5D%2C%20%5B29.99468%2C%20-90.11943000000001%5D%2C%20%5B33.90103%2C%20-84.24408000000001%5D%2C%20%5B29.157189000000002%2C%20-82.12035999999999%5D%2C%20%5B33.70966%2C%20-84.245902%5D%2C%20%5B37.74364%2C%20-122.19918999999999%5D%2C%20%5B46.106790000000004%2C%20-122.87857%5D%2C%20%5B39.734383%2C%20-104.330946%5D%2C%20%5B33.66865%2C%20-112.12596%5D%2C%20%5B42.980073%2C%20-85.675898%5D%2C%20%5B40.606871999999996%2C%20-74.044013%5D%2C%20%5B32.39783%2C%20-93.781914%5D%2C%20%5B37.58423%2C%20-77.49676%5D%2C%20%5B39.711209999999994%2C%20-104.9989%5D%2C%20%5B36.841181%2C%20-119.78518999999999%5D%2C%20%5B26.572503%2C%20-80.06931%5D%2C%20%5B33.952418%2C%20-80.966272%5D%2C%20%5B37.667417%2C%20-122.39513400000001%5D%2C%20%5B40.830259999999996%2C%20-73.93496%5D%2C%20%5B26.068443%2C%20-80.356825%5D%2C%20%5B41.5964%2C%20-72.62103%5D%2C%20%5B44.78221%2C%20-93.28836%5D%2C%20%5B37.521576%2C%20-113.209884%5D%2C%20%5B39.124963%2C%20-104.86477%5D%2C%20%5B35.830093%2C%20-109.604853%5D%2C%20%5B41.34753%2C%20-72.86785%5D%2C%20%5B34.64544%2C%20-86.47535%5D%2C%20%5B44.906209999999994%2C%20-94.05417%5D%2C%20%5B33.854225%2C%20-117.79065%5D%2C%20%5B44.919290999999994%2C%20-93.45104%5D%2C%20%5B41.71078%2C%20-72.7605%5D%2C%20%5B40.579612%2C%20-75.62630899999999%5D%2C%20%5B30.466390999999998%2C%20-88.419147%5D%2C%20%5B35.266855%2C%20-112.726051%5D%2C%20%5B39.70462%2C%20-86.28896999999999%5D%2C%20%5B38.916074%2C%20-111.732813%5D%2C%20%5B34.03842%2C%20-81.0978%5D%2C%20%5B35.96522%2C%20-83.93179%5D%2C%20%5B47.10406%2C%20-122.5883%5D%2C%20%5B43.077259999999995%2C%20-86.08507%5D%2C%20%5B32.164838%2C%20-111.094972%5D%2C%20%5B45.03289%2C%20-117.9297%5D%2C%20%5B40.007763%2C%20-81.649784%5D%2C%20%5B29.784940000000002%2C%20-95.55834%5D%2C%20%5B29.707659999999997%2C%20-95.22818000000001%5D%2C%20%5B45.500679999999996%2C%20-122.67187%5D%2C%20%5B41.99989%2C%20-77.13554%5D%2C%20%5B35.789277%2C%20-78.675049%5D%2C%20%5B25.92478%2C%20-80.154122%5D%2C%20%5B42.170715%2C%20-71.515015%5D%2C%20%5B34.03025%2C%20-118.03243%5D%2C%20%5B33.77025%2C%20-111.9259%5D%2C%20%5B37.304691%2C%20-104.290217%5D%2C%20%5B34.117489%2C%20-117.84631999999999%5D%2C%20%5B34.1368%2C%20-117.5629%5D%2C%20%5B33.66171%2C%20-84.02468%5D%2C%20%5B28.010740000000002%2C%20-82.39343000000001%5D%2C%20%5B40.587720000000004%2C%20-111.9348%5D%2C%20%5B27.970390000000002%2C%20-82.41414%5D%2C%20%5B45.753603999999996%2C%20-119.15083200000001%5D%2C%20%5B35.323%2C%20-97.59629%5D%2C%20%5B47.81046%2C%20-122.298369%5D%2C%20%5B30.214786%2C%20-81.760735%5D%2C%20%5B33.749495%2C%20-118.01074799999999%5D%2C%20%5B33.879014%2C%20-118.10383200000001%5D%2C%20%5B37.78609%2C%20-122.39081399999999%5D%2C%20%5B35.924514%2C%20-78.57599599999999%5D%2C%20%5B40.81888%2C%20-73.0625%5D%2C%20%5B35.253170000000004%2C%20-82.21843%5D%2C%20%5B34.266090000000005%2C%20-118.47207%5D%2C%20%5B34.06234%2C%20-118.00018%5D%2C%20%5B42.383340000000004%2C%20-83.21757%5D%2C%20%5B35.29503%2C%20-80.74481%5D%2C%20%5B35.23516%2C%20-80.83211%5D%2C%20%5B32.81967%2C%20-117.11598500000001%5D%2C%20%5B37.729293%2C%20-122.138475%5D%2C%20%5B40.595427%2C%20-75.353522%5D%2C%20%5B47.32975%2C%20-122.24473%5D%2C%20%5B35.28371%2C%20-80.6773%5D%2C%20%5B44.94543%2C%20-122.99015%5D%2C%20%5B33.989131%2C%20-118.28961799999999%5D%2C%20%5B33.92458%2C%20-118.10401%5D%2C%20%5B44.959303999999996%2C%20-123.284709%5D%2C%20%5B45.390901%2C%20-122.576539%5D%2C%20%5B39.96128%2C%20-76.73163000000001%5D%2C%20%5B34.04184%2C%20-118.56786399999999%5D%2C%20%5B25.833479999999998%2C%20-80.32180799999999%5D%2C%20%5B32.930609999999994%2C%20-80.68945%5D%2C%20%5B37.794009%2C%20-120.959902%5D%2C%20%5B33.882178%2C%20-117.513428%5D%2C%20%5B36.76771%2C%20-77.82377%5D%2C%20%5B36.845858%2C%20-76.17528100000001%5D%2C%20%5B37.291340000000005%2C%20-121.93673000000001%5D%2C%20%5B40.790890000000005%2C%20-73.7929%5D%2C%20%5B34.061465999999996%2C%20-117.789162%5D%2C%20%5B30.393808%2C%20-84.321793%5D%2C%20%5B44.52636%2C%20-93.0092%5D%2C%20%5B38.662583000000005%2C%20-76.60857299999999%5D%2C%20%5B34.07189%2C%20-117.8707%5D%2C%20%5B28.49398%2C%20-81.45909%5D%2C%20%5B41.173623%2C%20-112.02601000000001%5D%2C%20%5B37.642036%2C%20-104.74697900000001%5D%2C%20%5B34.02645%2C%20-81.46639%5D%2C%20%5B39.672391999999995%2C%20-77.568465%5D%2C%20%5B39.11169%2C%20-94.8119%5D%2C%20%5B28.81152%2C%20-81.30279499999999%5D%2C%20%5B27.70761%2C%20-82.38772%5D%2C%20%5B28.308467999999998%2C%20-82.694676%5D%2C%20%5B34.07062%2C%20-117.95715%5D%2C%20%5B31.851177000000003%2C%20-81.461117%5D%2C%20%5B45.507258%2C%20-122.718953%5D%2C%20%5B42.43308%2C%20-83.42739%5D%2C%20%5B40.77884%2C%20-73.82647%5D%2C%20%5B33.925224%2C%20-118.328775%5D%2C%20%5B44.756485999999995%2C%20-122.452146%5D%2C%20%5B35.644335999999996%2C%20-78.98516500000001%5D%2C%20%5B26.62303%2C%20-80.06732%5D%2C%20%5B32.122238%2C%20-110.96784299999999%5D%2C%20%5B25.85765%2C%20-80.32282%5D%2C%20%5B34.06375%2C%20-117.28355%5D%2C%20%5B28.42127%2C%20-81.43621999999999%5D%2C%20%5B42.11775%2C%20-87.77868000000001%5D%2C%20%5B37.23155%2C%20-80.23883000000001%5D%2C%20%5B25.947289%2C%20-80.152018%5D%2C%20%5B26.238690000000002%2C%20-80.29711%5D%2C%20%5B32.9343%2C%20-97.25367%5D%2C%20%5B33.842042%2C%20-118.28625100000001%5D%2C%20%5B45.574490000000004%2C%20-122.54641000000001%5D%2C%20%5B33.136781%2C%20-117.171025%5D%2C%20%5B28.666578%2C%20-81.38830899999999%5D%2C%20%5B45.43235%2C%20-122.37248999999998%5D%2C%20%5B37.79963%2C%20-122.2223%5D%2C%20%5B41.83242%2C%20-71.41703000000001%5D%2C%20%5B37.649349%2C%20-77.602204%5D%2C%20%5B33.725806%2C%20-117.803903%5D%2C%20%5B42.474399%2C%20-83.156429%5D%2C%20%5B43.841985%2C%20-123.048758%5D%2C%20%5B36.748043%2C%20-79.93810699999999%5D%2C%20%5B37.544881%2C%20-122.28811999999999%5D%2C%20%5B33.38608%2C%20-111.95675%5D%2C%20%5B41.731578000000006%2C%20-72.62019699999999%5D%2C%20%5B32.72289%2C%20-117.16254099999999%5D%2C%20%5B26.934624%2C%20-80.150359%5D%2C%20%5B33.885709000000006%2C%20-118.19011299999998%5D%2C%20%5B44.06923%2C%20-118.95928700000002%5D%2C%20%5B28.09921%2C%20-80.6218%5D%2C%20%5B41.247222%2C%20-81.49761099999999%5D%2C%20%5B45.34624%2C%20-118.14246000000001%5D%2C%20%5B39.55087%2C%20-77.67968%5D%2C%20%5B36.073873%2C%20-86.623513%5D%2C%20%5B28.17158%2C%20-82.21221%5D%2C%20%5B47.59997%2C%20-95.01377%5D%2C%20%5B36.96673%2C%20-76.294566%5D%2C%20%5B34.022411%2C%20-118.19836200000002%5D%2C%20%5B38.55392%2C%20-121.37605%5D%2C%20%5B27.394707%2C%20-82.45026999999999%5D%2C%20%5B41.858109999999996%2C%20-71.40483%5D%2C%20%5B30.385009999999998%2C%20-86.38043%5D%2C%20%5B39.17027%2C%20-94.55814000000001%5D%2C%20%5B30.528848999999997%2C%20-82.90500899999999%5D%2C%20%5B40.888000000000005%2C%20-98.37843000000001%5D%2C%20%5B37.258511999999996%2C%20-122.12193899999998%5D%2C%20%5B33.951986%2C%20-78.723681%5D%2C%20%5B36.86873%2C%20-104.4378%5D%2C%20%5B34.11972%2C%20-117.7578%5D%2C%20%5B28.573551000000002%2C%20-81.37567%5D%2C%20%5B34.177157%2C%20-118.30828100000001%5D%2C%20%5B37.54861%2C%20-122.29183%5D%2C%20%5B29.514845%2C%20-98.55320999999999%5D%2C%20%5B40.05056%2C%20-82.90271%5D%2C%20%5B34.0481%2C%20-117.307%5D%2C%20%5B37.569%2C%20-77.47877%5D%2C%20%5B38.247785%2C%20-122.629727%5D%2C%20%5B40.772184%2C%20-74.031384%5D%2C%20%5B25.927187%2C%20-80.224131%5D%2C%20%5B36.17405%2C%20-115.06225%5D%2C%20%5B29.82149%2C%20-81.37706%5D%2C%20%5B38.359970000000004%2C%20-81.70875%5D%2C%20%5B38.805867%2C%20-77.158237%5D%2C%20%5B40.14295%2C%20-82.98924%5D%2C%20%5B36.80809%2C%20-119.88663999999999%5D%2C%20%5B37.275420000000004%2C%20-81.12374%5D%2C%20%5B35.65487%2C%20-78.83426999999999%5D%2C%20%5B26.207789000000002%2C%20-80.139566%5D%2C%20%5B44.86528%2C%20-120.04301000000001%5D%2C%20%5B34.120546999999995%2C%20-117.736325%5D%2C%20%5B39.721759999999996%2C%20-105.00898000000001%5D%2C%20%5B40.833420000000004%2C%20-73.05648000000001%5D%2C%20%5B25.889187%2C%20-80.21077199999999%5D%2C%20%5B33.30202%2C%20-84.59508000000001%5D%2C%20%5B35.803688%2C%20-78.700777%5D%2C%20%5B36.156940000000006%2C%20-86.8045%5D%2C%20%5B35.154583%2C%20-119.455091%5D%2C%20%5B38.878199%2C%20-77.03733199999999%5D%2C%20%5B29.850986%2C%20-95.515416%5D%2C%20%5B32.96464%2C%20-96.91727%5D%2C%20%5B35.38385%2C%20-118.55518500000001%5D%2C%20%5B32.48673%2C%20-83.72998%5D%2C%20%5B34.0113%2C%20-118.16028700000001%5D%2C%20%5B25.65616%2C%20-80.416814%5D%2C%20%5B33.952149%2C%20-118.2959%5D%2C%20%5B35.08773%2C%20-80.93636%5D%2C%20%5B33.876529999999995%2C%20-118.0927%5D%2C%20%5B30.372448%2C%20-97.665838%5D%2C%20%5B37.375863%2C%20-77.976626%5D%2C%20%5B39.90789%2C%20-74.98055%5D%2C%20%5B33.765694%2C%20-117.972351%5D%2C%20%5B45.51549%2C%20-122.69966000000001%5D%2C%20%5B34.212979%2C%20-118.22791000000001%5D%2C%20%5B41.63495%2C%20-85.0464%5D%2C%20%5B37.72126%2C%20-121.65607%5D%2C%20%5B37.34275%2C%20-113.27406%5D%2C%20%5B34.210287%2C%20-79.828448%5D%2C%20%5B32.256656%2C%20-95.308002%5D%2C%20%5B39.596467%2C%20-85.508978%5D%2C%20%5B40.66141%2C%20-74.18448000000001%5D%2C%20%5B44.76249%2C%20-93.0337%5D%2C%20%5B41.176744%2C%20-76.864419%5D%2C%20%5B39.78365%2C%20-104.77221999999999%5D%2C%20%5B38.99819%2C%20-121.40355%5D%2C%20%5B40.645527%2C%20-111.66691000000002%5D%2C%20%5B34.4925%2C%20-118.19505%5D%2C%20%5B34.26493%2C%20-112.72724699999999%5D%2C%20%5B40.14378%2C%20-104.98053999999999%5D%2C%20%5B35.144993%2C%20-81.185311%5D%2C%20%5B41.86054%2C%20-87.97301%5D%2C%20%5B39.108517%2C%20-81.54655799999999%5D%2C%20%5B33.665942%2C%20-117.30323%5D%2C%20%5B35.55803%2C%20-97.63831%5D%2C%20%5B34.027190000000004%2C%20-118.20957%5D%2C%20%5B47.04094%2C%20-123.06825%5D%2C%20%5B39.288540000000005%2C%20-76.74088%5D%2C%20%5B40.834263%2C%20-73.82616%5D%2C%20%5B40.356491%2C%20-111.576714%5D%2C%20%5B36.1564%2C%20-86.787352%5D%2C%20%5B44.95552%2C%20-93.27055%5D%2C%20%5B37.982%2C%20-120.29810800000001%5D%2C%20%5B30.02119%2C%20-90.25593%5D%2C%20%5B41.8153%2C%20-87.63048%5D%2C%20%5B42.87587%2C%20-87.93726%5D%2C%20%5B35.82633%2C%20-78.8059%5D%2C%20%5B29.93771%2C%20-90.06214%5D%2C%20%5B38.023340000000005%2C%20-122.10671%5D%2C%20%5B41.92094%2C%20-87.67535%5D%2C%20%5B35.080748%2C%20-120.586724%5D%2C%20%5B40.845079999999996%2C%20-73.9192%5D%2C%20%5B38.645951000000004%2C%20-77.33726%5D%2C%20%5B44.886199%2C%20-93.35028199999999%5D%2C%20%5B39.153645000000004%2C%20-77.22214%5D%2C%20%5B43.66323%2C%20-93.32118%5D%2C%20%5B34.0372%2C%20-81.11086999999999%5D%2C%20%5B44.978038%2C%20-93.287454%5D%2C%20%5B39.698013%2C%20-86.148723%5D%2C%20%5B40.541315999999995%2C%20-74.293593%5D%2C%20%5B35.147859999999994%2C%20-90.05436999999999%5D%2C%20%5B33.36334%2C%20-112.066484%5D%2C%20%5B39.414621000000004%2C%20-76.660226%5D%2C%20%5B39.442018%2C%20-76.362148%5D%2C%20%5B47.97354%2C%20-122.13531%5D%2C%20%5B33.883026%2C%20-117.541319%5D%2C%20%5B33.523659%2C%20-86.809627%5D%2C%20%5B35.418991%2C%20-119.065528%5D%2C%20%5B39.82731%2C%20-104.98285%5D%2C%20%5B39.03047%2C%20-76.85369%5D%2C%20%5B38.678670000000004%2C%20-121.24436000000001%5D%2C%20%5B25.97053%2C%20-80.16575999999999%5D%2C%20%5B33.804140000000004%2C%20-84.41060999999999%5D%2C%20%5B35.220009999999995%2C%20-112.27911%5D%2C%20%5B33.504213%2C%20-117.152763%5D%2C%20%5B36.3243%2C%20-119.60609%5D%2C%20%5B33.698769%2C%20-117.94232%5D%2C%20%5B37.704390000000004%2C%20-121.73449%5D%2C%20%5B36.720490000000005%2C%20-119.78773000000001%5D%2C%20%5B37.5813%2C%20-122.32546%5D%2C%20%5B39.068690000000004%2C%20-76.64033%5D%2C%20%5B41.585640000000005%2C%20-81.52993000000001%5D%2C%20%5B41.12972%2C%20-81.48243000000001%5D%2C%20%5B30.523351%2C%20-84.353466%5D%2C%20%5B40.642532%2C%20-74.019683%5D%2C%20%5B40.085842%2C%20-120.91890900000001%5D%2C%20%5B41.663643%2C%20-91.283179%5D%2C%20%5B26.67708%2C%20-80.069852%5D%2C%20%5B35.272698999999996%2C%20-80.835533%5D%2C%20%5B32.500299%2C%20-83.605796%5D%2C%20%5B37.803888%2C%20-122.30197199999999%5D%2C%20%5B38.66144%2C%20-121.35935%5D%2C%20%5B38.705946999999995%2C%20-121.327045%5D%2C%20%5B39.225570000000005%2C%20-84.39596%5D%2C%20%5B40.79271%2C%20-73.46167%5D%2C%20%5B37.86688%2C%20-122.3039%5D%2C%20%5B38.487201%2C%20-122.406186%5D%2C%20%5B38.030188%2C%20-77.516368%5D%2C%20%5B33.71443%2C%20-84.26864%5D%2C%20%5B25.749067%2C%20-80.212479%5D%2C%20%5B27.76298%2C%20-82.66168%5D%2C%20%5B33.893869%2C%20-117.557599%5D%2C%20%5B41.179235999999996%2C%20-73.147065%5D%2C%20%5B33.500919%2C%20-117.15120900000001%5D%2C%20%5B25.732181%2C%20-80.379671%5D%2C%20%5B31.996512%2C%20-110.62005%5D%2C%20%5B33.191212%2C%20-117.12241999999999%5D%2C%20%5B32.608319%2C%20-117.090523%5D%2C%20%5B27.438544%2C%20-82.575437%5D%2C%20%5B37.8986%2C%20-122.07078999999999%5D%2C%20%5B38.55019%2C%20-90.4937%5D%2C%20%5B38.868739%2C%20-77.308854%5D%2C%20%5B34.087198%2C%20-118.234118%5D%2C%20%5B47.58755%2C%20-122.32023000000001%5D%2C%20%5B34.032745%2C%20-117.13736599999999%5D%2C%20%5B39.9819%2C%20-78.94803%5D%2C%20%5B41.85314%2C%20-72.43254%5D%2C%20%5B44.09168%2C%20-123.09913%5D%2C%20%5B41.87065%2C%20-87.76884%5D%2C%20%5B33.779538%2C%20-118.270257%5D%2C%20%5B33.92523%2C%20-117.42376999999999%5D%2C%20%5B30.439715999999997%2C%20-91.018638%5D%2C%20%5B33.103629999999995%2C%20-117.09195%5D%2C%20%5B39.77747%2C%20-86.141127%5D%2C%20%5B43.61675%2C%20-122.1355%5D%2C%20%5B37.043105%2C%20-121.57999%5D%2C%20%5B37.65963%2C%20-122.46336000000001%5D%2C%20%5B35.396778999999995%2C%20-118.925896%5D%2C%20%5B41.40766%2C%20-81.63731%5D%2C%20%5B30.439959%2C%20-91.100847%5D%2C%20%5B35.12014%2C%20-85.23703%5D%2C%20%5B45.623999%2C%20-123.375228%5D%2C%20%5B41.72808%2C%20-72.75726999999999%5D%2C%20%5B40.73948%2C%20-113.85576%5D%2C%20%5B37.961490000000005%2C%20-122.50766999999999%5D%2C%20%5B38.782392%2C%20-77.17918%5D%2C%20%5B41.505140000000004%2C%20-73.67985%5D%2C%20%5B25.820099%2C%20-80.24470500000001%5D%2C%20%5B36.746766%2C%20-121.661598%5D%2C%20%5B39.885211%2C%20-104.98766%5D%2C%20%5B40.636252%2C%20-111.904969%5D%2C%20%5B38.797309999999996%2C%20-104.74534%5D%2C%20%5B47.590249%2C%20-122.28836499999998%5D%2C%20%5B34.07077%2C%20-117.7631%5D%2C%20%5B35.412244%2C%20-119.05881699999999%5D%2C%20%5B34.145734999999995%2C%20-117.296194%5D%2C%20%5B34.777276%2C%20-82.460706%5D%2C%20%5B34.203915%2C%20-117.414952%5D%2C%20%5B26.11477%2C%20-80.16908000000001%5D%2C%20%5B38.223119%2C%20-122.257994%5D%2C%20%5B42.814741999999995%2C%20-87.95307%5D%2C%20%5B39.063809%2C%20-84.27719499999999%5D%2C%20%5B35.200441999999995%2C%20-80.88159399999999%5D%2C%20%5B38.643068%2C%20-121.12116599999999%5D%2C%20%5B34.14522%2C%20-117.28291000000002%5D%2C%20%5B33.958870000000005%2C%20-81.09429%5D%2C%20%5B39.79906%2C%20-86.03482%5D%2C%20%5B38.90313%2C%20-76.85035%5D%2C%20%5B44.10822%2C%20-92.43139000000001%5D%2C%20%5B34.135357%2C%20-118.000743%5D%2C%20%5B25.733332%2C%20-80.32918199999999%5D%2C%20%5B41.47097%2C%20-87.365%5D%2C%20%5B42.04122%2C%20-87.685098%5D%2C%20%5B34.141144%2C%20-118.277854%5D%2C%20%5B41.68468%2C%20-83.56822%5D%2C%20%5B35.608909999999995%2C%20-97.58577%5D%2C%20%5B45.59856%2C%20-122.68425%5D%2C%20%5B42.997292%2C%20-85.66464599999999%5D%2C%20%5B37.015589%2C%20-76.453717%5D%2C%20%5B34.07543%2C%20-117.54505%5D%2C%20%5B37.402215999999996%2C%20-122.030832%5D%2C%20%5B35.50162%2C%20-80.86714%5D%2C%20%5B35.22375%2C%20-80.85378%5D%2C%20%5B45.50057%2C%20-122.67326100000001%5D%2C%20%5B34.396986%2C%20-111.46868300000001%5D%2C%20%5B39.84154%2C%20-75.40281999999999%5D%2C%20%5B39.05182%2C%20-84.62276%5D%2C%20%5B34.020302%2C%20-118.192255%5D%2C%20%5B30.782196999999996%2C%20-86.56044200000001%5D%2C%20%5B37.653620000000004%2C%20-104.7895%5D%2C%20%5B34.047540000000005%2C%20-118.267058%5D%2C%20%5B37.238126%2C%20-121.76195700000001%5D%2C%20%5B39.361371999999996%2C%20-76.477589%5D%2C%20%5B34.117697%2C%20-117.84633000000001%5D%2C%20%5B48.73963%2C%20-122.46992%5D%2C%20%5B34.085658%2C%20-117.68950500000001%5D%2C%20%5B42.998259999999995%2C%20-70.93289%5D%2C%20%5B33.977135%2C%20-118.386517%5D%2C%20%5B37.653017999999996%2C%20-122.11034699999999%5D%2C%20%5B41.600634%2C%20-81.50404%5D%2C%20%5B34.092240000000004%2C%20-118.20629%5D%2C%20%5B33.75264%2C%20-117.83181%5D%2C%20%5B32.84211%2C%20-96.59082%5D%2C%20%5B40.6605%2C%20-75.04381%5D%2C%20%5B27.982129999999998%2C%20-82.32655%5D%2C%20%5B35.789359999999995%2C%20-78.74707%5D%2C%20%5B38.425658%2C%20-77.42094300000001%5D%2C%20%5B26.083828%2C%20-80.168706%5D%2C%20%5B29.777990000000003%2C%20-95.43449%5D%2C%20%5B42.93333%2C%20-78.90254%5D%2C%20%5B34.064890000000005%2C%20-118.25148999999999%5D%2C%20%5B40.2718%2C%20-111.71576%5D%2C%20%5B36.582632000000004%2C%20-121.895821%5D%2C%20%5B41.875820000000004%2C%20-87.68033%5D%2C%20%5B40.764416%2C%20-111.975563%5D%2C%20%5B41.47423%2C%20-81.71099%5D%2C%20%5B45.660332000000004%2C%20-91.792091%5D%2C%20%5B37.810654%2C%20-122.244295%5D%2C%20%5B39.592009999999995%2C%20-104.88337%5D%2C%20%5B39.004324%2C%20-84.644694%5D%2C%20%5B29.073769%2C%20-82.2629%5D%2C%20%5B26.67383%2C%20-81.81701%5D%2C%20%5B37.34623%2C%20-79.99043499999999%5D%2C%20%5B45.069379999999995%2C%20-93.27892%5D%2C%20%5B42.370605%2C%20-123.50426000000002%5D%2C%20%5B35.258070000000004%2C%20-80.78425%5D%2C%20%5B35.774992%2C%20-80.309382%5D%2C%20%5B34.059258%2C%20-118.252587%5D%2C%20%5B42.62185%2C%20-71.17713%5D%2C%20%5B39.72858%2C%20-105.17438999999999%5D%2C%20%5B45.69556%2C%20-121.34788999999999%5D%2C%20%5B44.95965%2C%20-93.20473%5D%2C%20%5B38.553615%2C%20-121.47423300000001%5D%2C%20%5B45.60282%2C%20-121.13871%5D%2C%20%5B43.911343%2C%20-123.01337%5D%2C%20%5B36.201109%2C%20-86.75833%5D%2C%20%5B40.721744%2C%20-111.54472%5D%2C%20%5B25.869295%2C%20-80.20834%5D%2C%20%5B37.775944%2C%20-122.40484199999999%5D%2C%20%5B32.633359999999996%2C%20-117.04626%5D%2C%20%5B40.254496%2C%20-76.797684%5D%2C%20%5B37.94785%2C%20-121.74399%5D%2C%20%5B28.758019%2C%20-81.11820300000001%5D%2C%20%5B35.142272999999996%2C%20-83.297729%5D%2C%20%5B34.014509999999994%2C%20-117.81936999999999%5D%2C%20%5B36.060081%2C%20-79.132145%5D%2C%20%5B42.28873%2C%20-122.8348%5D%2C%20%5B44.05437%2C%20-123.350742%5D%2C%20%5B32.742505%2C%20-97.341387%5D%2C%20%5B38.212884%2C%20-85.667771%5D%2C%20%5B33.998978%2C%20-117.37085400000001%5D%2C%20%5B36.059778%2C%20-79.61331700000001%5D%2C%20%5B39.16845%2C%20-94.62477%5D%2C%20%5B35.872646%2C%20-78.831506%5D%2C%20%5B26.124285999999998%2C%20-80.217434%5D%2C%20%5B40.076528%2C%20-75.144161%5D%2C%20%5B36.734419%2C%20-121.656213%5D%2C%20%5B41.50115%2C%20-81.62694%5D%2C%20%5B33.63239%2C%20-84.40736%5D%2C%20%5B43.2551%2C%20-83.07930999999999%5D%2C%20%5B44.24732%2C%20-93.28369%5D%2C%20%5B44.14979%2C%20-122.58035%5D%2C%20%5B33.945445%2C%20-118.36823000000001%5D%2C%20%5B30.423965000000003%2C%20-91.074987%5D%2C%20%5B38.678409%2C%20-120.85931299999999%5D%2C%20%5B33.9512%2C%20-80.98607%5D%2C%20%5B44.91245%2C%20-93.27464%5D%2C%20%5B35.240524%2C%20-82.20493%5D%2C%20%5B38.062132%2C%20-122.533588%5D%2C%20%5B32.762122999999995%2C%20-117.20478100000001%5D%2C%20%5B29.944809999999997%2C%20-90.07781%5D%2C%20%5B29.335690000000003%2C%20-98.62291%5D%2C%20%5B40.60718%2C%20-111.90541999999999%5D%2C%20%5B34.015165%2C%20-117.086329%5D%2C%20%5B37.797979999999995%2C%20-122.18471000000001%5D%2C%20%5B33.964275%2C%20-118.12021100000001%5D%2C%20%5B33.423924%2C%20-117.152033%5D%2C%20%5B37.3383%2C%20-121.85505%5D%2C%20%5B36.06955%2C%20-80.26419%5D%2C%20%5B34.31159%2C%20-117.47816999999999%5D%2C%20%5B39.7802%2C%20-104.93646000000001%5D%2C%20%5B45.127834%2C%20-117.96386299999999%5D%2C%20%5B40.714420000000004%2C%20-73.38159%5D%2C%20%5B37.49905%2C%20-122.1286%5D%2C%20%5B38.529579999999996%2C%20-90.756536%5D%2C%20%5B40.70088%2C%20-73.994801%5D%2C%20%5B28.13634%2C%20-82.54784699999999%5D%2C%20%5B38.359703%2C%20-78.68023199999999%5D%2C%20%5B35.55708%2C%20-82.53809%5D%2C%20%5B34.024537%2C%20-117.740715%5D%2C%20%5B32.250310999999996%2C%20-110.97316000000001%5D%2C%20%5B32.480908%2C%20-86.402906%5D%2C%20%5B34.087262%2C%20-117.64698200000001%5D%2C%20%5B34.710074%2C%20-82.50376%5D%2C%20%5B25.641617%2C%20-80.33507900000001%5D%2C%20%5B34.849899%2C%20-117.08592%5D%2C%20%5B39.360698%2C%20-76.477686%5D%2C%20%5B35.756059%2C%20-78.59989399999999%5D%2C%20%5B40.727008000000005%2C%20-74.22592900000001%5D%2C%20%5B36.644593%2C%20-121.611938%5D%2C%20%5B44.30516%2C%20-120.7543%5D%2C%20%5B37.851558000000004%2C%20-121.28289299999999%5D%2C%20%5B29.797003999999998%2C%20-95.31687%5D%2C%20%5B35.251833000000005%2C%20-80.810226%5D%2C%20%5B40.70241%2C%20-74.24714%5D%2C%20%5B38.054429999999996%2C%20-121.371435%5D%2C%20%5B27.856196%2C%20-82.326554%5D%2C%20%5B37.808321%2C%20-122.36702%5D%2C%20%5B42.35042%2C%20-122.87643%5D%2C%20%5B33.386340000000004%2C%20-111.80013000000001%5D%2C%20%5B47.66462%2C%20-122.18693%5D%2C%20%5B29.600270000000002%2C%20-95.26974%5D%2C%20%5B38.682959999999994%2C%20-90.23569%5D%2C%20%5B37.62384%2C%20-122.42795%5D%2C%20%5B40.17576%2C%20-75.1234%5D%2C%20%5B35.27148%2C%20-80.83705%5D%2C%20%5B39.42647%2C%20-104.90378999999999%5D%2C%20%5B38.422333%2C%20-122.71515%5D%2C%20%5B32.683906%2C%20-109.707022%5D%2C%20%5B41.3917%2C%20-74.32601%5D%2C%20%5B39.15267%2C%20-84.5395%5D%2C%20%5B44.138999999999996%2C%20-123.19998999999999%5D%2C%20%5B40.38095%2C%20-86.78608%5D%2C%20%5B34.06836%2C%20-118.03978000000001%5D%2C%20%5B40.060308%2C%20-76.535273%5D%2C%20%5B38.721241%2C%20-120.83345700000001%5D%2C%20%5B39.71447%2C%20-86.11717%5D%2C%20%5B36.170837%2C%20-86.76417%5D%2C%20%5B36.08208%2C%20-87.34057%5D%2C%20%5B37.549890000000005%2C%20-122.02543999999999%5D%2C%20%5B41.22375%2C%20-96.03072%5D%2C%20%5B30.37745%2C%20-97.688324%5D%2C%20%5B30.112484000000002%2C%20-97.80659%5D%2C%20%5B34.263744%2C%20-119.00901100000002%5D%2C%20%5B41.112551%2C%20-111.200189%5D%2C%20%5B34.096599%2C%20-118.20478100000001%5D%2C%20%5B39.77169%2C%20-76.68047800000001%5D%2C%20%5B40.892583%2C%20-74.671593%5D%2C%20%5B33.975770000000004%2C%20-118.38524%5D%2C%20%5B33.90504%2C%20-118.18406%5D%2C%20%5B37.600688%2C%20-122.062228%5D%2C%20%5B39.09998%2C%20-84.52119%5D%2C%20%5B39.83194%2C%20-105.01068000000001%5D%2C%20%5B41.810109999999995%2C%20-87.97589%5D%2C%20%5B40.652304%2C%20-111.902129%5D%2C%20%5B37.686687%2C%20-122.121043%5D%2C%20%5B36.955448%2C%20-121.728102%5D%2C%20%5B28.54955%2C%20-81.382266%5D%2C%20%5B44.888767%2C%20-93.347633%5D%2C%20%5B47.547087%2C%20-122.329599%5D%2C%20%5B43.14719%2C%20-87.91521%5D%2C%20%5B25.700673000000002%2C%20-80.381158%5D%2C%20%5B40.7506%2C%20-74.11613%5D%2C%20%5B40.63066%2C%20-111.87783%5D%2C%20%5B42.368629999999996%2C%20-76.55208%5D%2C%20%5B32.66608%2C%20-96.91324%5D%2C%20%5B35.238170000000004%2C%20-80.79975%5D%2C%20%5B33.899725%2C%20-84.269246%5D%2C%20%5B25.700708%2C%20-80.378998%5D%2C%20%5B42.574259999999995%2C%20-70.89482%5D%2C%20%5B33.622935%2C%20-117.424801%5D%2C%20%5B40.74309%2C%20-73.83948000000001%5D%2C%20%5B39.64181%2C%20-104.8807%5D%2C%20%5B29.863852%2C%20-95.41269799999999%5D%2C%20%5B41.137947%2C%20-111.87188300000001%5D%2C%20%5B28.185367%2C%20-82.368803%5D%2C%20%5B36.16075%2C%20-95.861956%5D%2C%20%5B27.26953%2C%20-82.44676%5D%2C%20%5B34.032319%2C%20-118.13793500000001%5D%2C%20%5B26.08275%2C%20-80.1685%5D%2C%20%5B40.065505%2C%20-76.325283%5D%2C%20%5B34.89063%2C%20-82.46885999999999%5D%2C%20%5B44.33867%2C%20-91.28788%5D%2C%20%5B39.992775%2C%20-75.200879%5D%2C%20%5B34.047885%2C%20-118.266682%5D%2C%20%5B33.941012%2C%20-118.096595%5D%2C%20%5B45.03552%2C%20-93.77108%5D%2C%20%5B33.913391%2C%20-117.28513400000001%5D%2C%20%5B35.15164%2C%20-80.84163000000001%5D%2C%20%5B29.9969%2C%20-90.14454%5D%2C%20%5B35.105247%2C%20-119.419937%5D%2C%20%5B32.747552%2C%20-117.01911000000001%5D%2C%20%5B39.005824%2C%20-76.60228599999999%5D%2C%20%5B34.07414%2C%20-117.54468%5D%2C%20%5B39.25393%2C%20-76.82257%5D%2C%20%5B32.856255%2C%20-117.116628%5D%2C%20%5B34.843309999999995%2C%20-82.36251%5D%2C%20%5B35.236536%2C%20-80.920283%5D%2C%20%5B25.924654999999998%2C%20-80.315304%5D%2C%20%5B33.83728%2C%20-117.53308%5D%2C%20%5B33.70207%2C%20-117.94981999999999%5D%2C%20%5B34.467426%2C%20-117.34835%5D%2C%20%5B29.686329999999998%2C%20-95.45908%5D%2C%20%5B36.06609%2C%20-80.23929%5D%2C%20%5B33.790575%2C%20-118.099209%5D%2C%20%5B25.769745%2C%20-80.322028%5D%2C%20%5B34.12104%2C%20-117.88325%5D%2C%20%5B27.254065999999998%2C%20-81.31137199999999%5D%2C%20%5B41.115441%2C%20-74.108068%5D%2C%20%5B39.013255%2C%20-77.039576%5D%2C%20%5B25.56628%2C%20-80.3815%5D%2C%20%5B30.455191999999997%2C%20-81.650541%5D%2C%20%5B44.96468%2C%20-93.28338000000001%5D%2C%20%5B33.901609%2C%20-117.46739699999999%5D%2C%20%5B42.10613%2C%20-87.86653000000001%5D%2C%20%5B34.02514%2C%20-118.20517%5D%2C%20%5B33.70507%2C%20-117.8551%5D%2C%20%5B42.32508%2C%20-87.86805%5D%2C%20%5B43.028847999999996%2C%20-87.96906%5D%2C%20%5B40.63341%2C%20-74.93743%5D%2C%20%5B39.121252%2C%20-94.56498%5D%2C%20%5B41.71474%2C%20-87.58476%5D%2C%20%5B29.78905%2C%20-95.37156999999999%5D%2C%20%5B38.79555%2C%20-77.17143%5D%2C%20%5B39.060961%2C%20-94.494322%5D%2C%20%5B30.163132%2C%20-97.78840100000001%5D%2C%20%5B35.220223%2C%20-111.791496%5D%2C%20%5B38.550117%2C%20-121.474057%5D%2C%20%5B46.187671%2C%20-123.85268500000001%5D%2C%20%5B33.984291999999996%2C%20-117.84295%5D%2C%20%5B28.372923999999998%2C%20-81.389996%5D%2C%20%5B38.69065%2C%20-121.41066000000001%5D%2C%20%5B26.46674%2C%20-80.08927%5D%2C%20%5B33.901878%2C%20-118.28689399999999%5D%2C%20%5B25.786565%2C%20-80.32124499999999%5D%2C%20%5B35.08769%2C%20-80.85037%5D%2C%20%5B40.328874%2C%20-111.63678700000001%5D%2C%20%5B40.73765%2C%20-74.07713000000001%5D%2C%20%5B43.815360999999996%2C%20-120.609073%5D%2C%20%5B44.18846%2C%20-93.98236999999999%5D%2C%20%5B36.75196%2C%20-119.79118000000001%5D%2C%20%5B27.841993%2C%20-82.787%5D%2C%20%5B32.761070000000004%2C%20-117.16301999999999%5D%2C%20%5B44.522490000000005%2C%20-93.29417600000001%5D%2C%20%5B45.370861%2C%20-122.709313%5D%2C%20%5B45.242482%2C%20-122.327699%5D%2C%20%5B45.361876%2C%20-121.99941000000001%5D%2C%20%5B33.81609%2C%20-84.36333%5D%2C%20%5B32.968522%2C%20-117.093218%5D%2C%20%5B32.177859999999995%2C%20-110.99471000000001%5D%2C%20%5B33.982546%2C%20-118.46101499999999%5D%2C%20%5B34.08186%2C%20-118.22367%5D%2C%20%5B39.207147%2C%20-76.54486999999999%5D%2C%20%5B39.84497%2C%20-104.9846%5D%2C%20%5B42.379940000000005%2C%20-83.14619%5D%2C%20%5B37.777744%2C%20-77.884687%5D%2C%20%5B40.15605%2C%20-79.77316%5D%2C%20%5B34.134287%2C%20-117.674834%5D%2C%20%5B32.82633%2C%20-96.78401%5D%2C%20%5B43.23222%2C%20-118.49325%5D%2C%20%5B39.281359%2C%20-77.32505%5D%2C%20%5B39.091464%2C%20-121.542429%5D%2C%20%5B45.127834%2C%20-117.96386299999999%5D%2C%20%5B34.006817%2C%20-117.964445%5D%2C%20%5B28.381166999999998%2C%20-81.425351%5D%2C%20%5B34.03696%2C%20-118.17358%5D%2C%20%5B32.485620000000004%2C%20-84.94091%5D%2C%20%5B33.765570000000004%2C%20-84.38545%5D%2C%20%5B40.142817%2C%20-79.494597%5D%2C%20%5B25.82284%2C%20-80.32151999999999%5D%2C%20%5B33.695278%2C%20-117.341677%5D%2C%20%5B32.75972%2C%20-97.05298%5D%2C%20%5B33.851347%2C%20-118.204952%5D%2C%20%5B37.37849%2C%20-122.0678%5D%2C%20%5B35.231577%2C%20-80.85942800000001%5D%2C%20%5B37.076429%2C%20-120.510131%5D%2C%20%5B37.82635%2C%20-122.288975%5D%2C%20%5B33.943974%2C%20-118.28261699999999%5D%2C%20%5B38.054874%2C%20-122.230558%5D%2C%20%5B40.11724%2C%20-82.97411%5D%2C%20%5B34.017866999999995%2C%20-118.052654%5D%2C%20%5B39.68135%2C%20-75.6623%5D%2C%20%5B37.992499%2C%20-121.23798000000001%5D%2C%20%5B35.583813%2C%20-118.497722%5D%2C%20%5B32.48903%2C%20-83.74242%5D%2C%20%5B45.049678%2C%20-93.03619%5D%2C%20%5B29.43927%2C%20-98.48100000000001%5D%2C%20%5B44.953179999999996%2C%20-93.09441%5D%2C%20%5B33.2119%2C%20-84.05615999999999%5D%2C%20%5B33.928495%2C%20-118.28190900000001%5D%2C%20%5B32.66988%2C%20-97.30604%5D%2C%20%5B37.481072%2C%20-122.202423%5D%2C%20%5B46.830693%2C%20-104.219259%5D%2C%20%5B33.854437%2C%20-117.79064%5D%2C%20%5B45.264903000000004%2C%20-108.91180200000001%5D%2C%20%5B35.737274%2C%20-83.02381700000001%5D%2C%20%5B40.5359%2C%20-74.30315999999999%5D%2C%20%5B39.20779%2C%20-94.63616999999999%5D%2C%20%5B38.112190000000005%2C%20-85.67042%5D%2C%20%5B37.643097%2C%20-121.88716200000002%5D%2C%20%5B43.00544%2C%20-83.67728000000001%5D%2C%20%5B41.814935999999996%2C%20-71.4028%5D%2C%20%5B35.377611%2C%20-118.907826%5D%2C%20%5B40.683027%2C%20-74.276386%5D%2C%20%5B33.858340000000005%2C%20-118.09628000000001%5D%2C%20%5B44.998704%2C%20-93.238191%5D%2C%20%5B41.87317%2C%20-87.73521%5D%2C%20%5B33.386732%2C%20-111.71375800000001%5D%2C%20%5B33.614162%2C%20-117.706779%5D%2C%20%5B45.11457%2C%20-123.20624%5D%2C%20%5B37.85453%2C%20-122.21781999999999%5D%2C%20%5B29.99468%2C%20-90.11943000000001%5D%2C%20%5B33.66876%2C%20-112.07275%5D%2C%20%5B34.004011%2C%20-117.83018899999999%5D%2C%20%5B47.541045000000004%2C%20-122.343084%5D%2C%20%5B47.675990000000006%2C%20-122.35533000000001%5D%2C%20%5B44.741553%2C%20-124.055747%5D%2C%20%5B38.992259999999995%2C%20-93.66975%5D%2C%20%5B36.156473999999996%2C%20-86.794538%5D%2C%20%5B44.54625%2C%20-120.0326%5D%2C%20%5B37.986205%2C%20-121.267468%5D%2C%20%5B28.568666999999998%2C%20-81.223849%5D%2C%20%5B34.434773%2C%20-119.749187%5D%2C%20%5B29.448576%2C%20-98.350153%5D%2C%20%5B25.69105%2C%20-80.163811%5D%2C%20%5B44.540945%2C%20-123.06197%5D%2C%20%5B26.169272%2C%20-81.730717%5D%2C%20%5B43.16128%2C%20-77.60758%5D%2C%20%5B38.643176000000004%2C%20-121.36576399999998%5D%2C%20%5B41.740332%2C%20-87.828623%5D%2C%20%5B29.791999999999998%2C%20-95.04700000000001%5D%2C%20%5B37.278622999999996%2C%20-121.864571%5D%2C%20%5B39.514979%2C%20-80.060817%5D%2C%20%5B35.267057%2C%20-80.74112%5D%2C%20%5B44.859012%2C%20-93.355175%5D%2C%20%5B42.957824%2C%20-85.67012700000001%5D%2C%20%5B34.231412%2C%20-118.267725%5D%2C%20%5B44.885414000000004%2C%20-93.39925%5D%2C%20%5B37.38661%2C%20-122.05893%5D%2C%20%5B40.741671000000004%2C%20-111.903573%5D%2C%20%5B42.610504999999996%2C%20-72.572282%5D%2C%20%5B41.849282%2C%20-87.95759%5D%2C%20%5B41.47006%2C%20-89.68511%5D%2C%20%5B32.67618%2C%20-97.0345%5D%2C%20%5B28.261458%2C%20-82.475718%5D%2C%20%5B27.38133%2C%20-82.55663%5D%2C%20%5B42.056118%2C%20-76.33250100000001%5D%2C%20%5B33.427653%2C%20-112.18744%5D%2C%20%5B42.85948%2C%20-83.7397%5D%2C%20%5B37.679352%2C%20-122.12683899999999%5D%2C%20%5B43.706127%2C%20-121.475749%5D%2C%20%5B34.963888%2C%20-81.968319%5D%2C%20%5B32.468235%2C%20-93.775757%5D%2C%20%5B29.703810999999998%2C%20-95.586905%5D%2C%20%5B35.77415%2C%20-78.636806%5D%2C%20%5B42.74288%2C%20-73.69744%5D%2C%20%5B25.670686%2C%20-80.383957%5D%2C%20%5B25.670506%2C%20-80.383953%5D%2C%20%5B37.931903000000005%2C%20-122.086745%5D%2C%20%5B33.6065%2C%20-117.69405%5D%2C%20%5B25.716995999999998%2C%20-80.332154%5D%2C%20%5B41.928539%2C%20-86.57119%5D%2C%20%5B25.78069%2C%20-80.3255%5D%2C%20%5B25.82284%2C%20-80.32151999999999%5D%2C%20%5B37.059331%2C%20-121.58469699999999%5D%2C%20%5B32.33748%2C%20-111.0468%5D%2C%20%5B33.46598%2C%20-112.17772%5D%2C%20%5B37.89566%2C%20-122.07003999999999%5D%2C%20%5B44.02856%2C%20-123.85798999999999%5D%2C%20%5B37.62106%2C%20-112.93224%5D%2C%20%5B37.752501%2C%20-122.402997%5D%2C%20%5B44.81948%2C%20-92.86284%5D%2C%20%5B33.87361%2C%20-118.24316%5D%2C%20%5B40.7762%2C%20-73.420682%5D%2C%20%5B37.635255%2C%20-121.00235900000001%5D%2C%20%5B47.581309999999995%2C%20-122.18822%5D%2C%20%5B33.638294%2C%20-117.280776%5D%2C%20%5B26.526277%2C%20-81.871111%5D%2C%20%5B36.204131%2C%20-115.20565%5D%2C%20%5B29.675921999999996%2C%20-95.499868%5D%2C%20%5B27.99898%2C%20-82.45384%5D%2C%20%5B34.05972%2C%20-118.01317399999999%5D%2C%20%5B33.7791%2C%20-117.888768%5D%2C%20%5B38.663628%2C%20-121.30855%5D%2C%20%5B36.752853%2C%20-119.707353%5D%2C%20%5B33.685959000000004%2C%20-117.86391299999998%5D%2C%20%5B44.951838%2C%20-93.159223%5D%2C%20%5B32.766529999999996%2C%20-96.90511%5D%2C%20%5B37.630611%2C%20-120.997859%5D%2C%20%5B41.885090000000005%2C%20-88.19448%5D%2C%20%5B38.22316%2C%20-122.25778999999999%5D%2C%20%5B29.806427000000003%2C%20-95.44534300000001%5D%2C%20%5B40.755764%2C%20-73.838321%5D%2C%20%5B42.3468%2C%20-71.03945999999999%5D%2C%20%5B30.035324%2C%20-81.89755%5D%2C%20%5B42.99459%2C%20-83.74710999999999%5D%2C%20%5B37.511362%2C%20-121.937633%5D%2C%20%5B32.806626%2C%20-96.921338%5D%2C%20%5B30.39155%2C%20-91.090944%5D%2C%20%5B33.678000000000004%2C%20-84.41256%5D%2C%20%5B33.743858%2C%20-84.38736800000001%5D%2C%20%5B33.84636%2C%20-117.86200000000001%5D%2C%20%5B40.7276%2C%20-74.02104%5D%2C%20%5B30.4986%2C%20-84.264847%5D%2C%20%5B25.491547%2C%20-80.509957%5D%2C%20%5B34.794414%2C%20-118.848302%5D%2C%20%5B43.43359%2C%20-123.31498%5D%2C%20%5B47.463893%2C%20-122.24558700000001%5D%2C%20%5B25.73301%2C%20-80.31935%5D%2C%20%5B38.680846%2C%20-121.330476%5D%2C%20%5B33.878677%2C%20-79.157591%5D%2C%20%5B26.10847%2C%20-80.35457%5D%2C%20%5B33.75119%2C%20-84.4963%5D%2C%20%5B40.744808%2C%20-74.213571%5D%2C%20%5B42.385040000000004%2C%20-83.15213%5D%2C%20%5B42.4445%2C%20-83.43174%5D%2C%20%5B40.024532%2C%20-75.226747%5D%2C%20%5B36.09468%2C%20-79.83032%5D%2C%20%5B29.93122%2C%20-90.13162%5D%2C%20%5B38.59802%2C%20-90.44989%5D%2C%20%5B38.982255%2C%20-119.940358%5D%2C%20%5B30.435845%2C%20-84.37400699999999%5D%2C%20%5B29.977451000000002%2C%20-90.11219100000001%5D%2C%20%5B40.07132%2C%20-80.73243000000001%5D%2C%20%5B29.977451000000002%2C%20-81.630617%5D%2C%20%5B34.987536%2C%20-85.273706%5D%2C%20%5B33.928169%2C%20-118.23916399999999%5D%2C%20%5B41.30685%2C%20-112.00608999999999%5D%2C%20%5B37.372087%2C%20-121.850427%5D%2C%20%5B39.128252%2C%20-121.58319499999999%5D%2C%20%5B33.887381%2C%20-118.330592%5D%2C%20%5B25.903558%2C%20-80.17497900000001%5D%2C%20%5B38.79789%2C%20-77.51833%5D%2C%20%5B38.496395%2C%20-121.446463%5D%2C%20%5B46.76919%2C%20-92.11853%5D%2C%20%5B34.10375%2C%20-117.98352%5D%2C%20%5B28.55428%2C%20-80.84673000000001%5D%2C%20%5B29.72523%2C%20-95.46021999999999%5D%2C%20%5B29.959514000000002%2C%20-90.11652%5D%2C%20%5B45.745925%2C%20-123.96134099999999%5D%2C%20%5B40.06106%2C%20-75.135121%5D%2C%20%5B35.411275%2C%20-119.062219%5D%2C%20%5B47.676790000000004%2C%20-117.30401%5D%2C%20%5B33.850553999999995%2C%20-117.53464299999999%5D%2C%20%5B41.683949%2C%20-77.06557%5D%2C%20%5B38.500479999999996%2C%20-121.431228%5D%2C%20%5B35.267387%2C%20-118.82488400000001%5D%2C%20%5B26.030629%2C%20-80.35384%5D%2C%20%5B34.31845%2C%20-117.48042%5D%2C%20%5B38.92244%2C%20-77.0297%5D%2C%20%5B42.020414%2C%20-119.48178300000001%5D%2C%20%5B42.41035%2C%20-123.13252%5D%2C%20%5B39.17383%2C%20-76.88131%5D%2C%20%5B45.506559%2C%20-122.77036299999999%5D%2C%20%5B35.2024%2C%20-80.72606999999999%5D%2C%20%5B43.132176%2C%20-71.489453%5D%2C%20%5B41.08916%2C%20-112.04534%5D%2C%20%5B37.557559000000005%2C%20-120.82883799999999%5D%2C%20%5B29.77645%2C%20-95.39705%5D%2C%20%5B37.31649%2C%20-121.9673%5D%2C%20%5B34.749133%2C%20-80.77855600000001%5D%2C%20%5B39.073203%2C%20-78.408043%5D%2C%20%5B27.041390000000003%2C%20-82.2997%5D%2C%20%5B33.427351%2C%20-117.149115%5D%2C%20%5B37.663302%2C%20-121.02770100000001%5D%2C%20%5B33.470659999999995%2C%20-86.76102%5D%2C%20%5B45.00614%2C%20-93.20778%5D%2C%20%5B33.912459999999996%2C%20-117.28458%5D%2C%20%5B33.8069%2C%20-117.83175%5D%2C%20%5B42.643390000000004%2C%20-73.60847%5D%2C%20%5B33.975359999999995%2C%20-117.87938999999999%5D%2C%20%5B45.013614000000004%2C%20-123.931649%5D%2C%20%5B40.731790000000004%2C%20-111.94967%5D%2C%20%5B28.5775%2C%20-81.47609%5D%2C%20%5B40.736816999999995%2C%20-73.723265%5D%2C%20%5B42.419%2C%20-82.93413000000001%5D%2C%20%5B28.449909%2C%20-81.48013900000001%5D%2C%20%5B38.955996999999996%2C%20-77.538963%5D%2C%20%5B45.67869%2C%20-118.8541%5D%2C%20%5B30.191684000000002%2C%20-81.726146%5D%2C%20%5B40.846090000000004%2C%20-111.91458999999999%5D%2C%20%5B34.097518%2C%20-117.541521%5D%2C%20%5B42.362012%2C%20-74.496509%5D%2C%20%5B36.38353%2C%20-97.06804%5D%2C%20%5B34.06565%2C%20-117.49351999999999%5D%2C%20%5B42.43308%2C%20-83.42739%5D%2C%20%5B38.640086%2C%20-121.19601599999999%5D%2C%20%5B29.78375%2C%20-95.484698%5D%2C%20%5B28.51952%2C%20-82.23723000000001%5D%2C%20%5B35.21017%2C%20-80.90816%5D%2C%20%5B26.394340000000003%2C%20-80.09718000000001%5D%2C%20%5B41.66968%2C%20-72.83388000000001%5D%2C%20%5B41.63159%2C%20-72.87469%5D%2C%20%5B40.728176%2C%20-73.928263%5D%2C%20%5B45.77262%2C%20-119.26148%5D%2C%20%5B35.32298%2C%20-84.78721%5D%2C%20%5B30.477736%2C%20-91.109316%5D%2C%20%5B38.582452%2C%20-121.501403%5D%2C%20%5B34.605265%2C%20-118.14753600000002%5D%2C%20%5B40.177913000000004%2C%20-74.100927%5D%2C%20%5B25.686588%2C%20-80.380143%5D%2C%20%5B35.225706%2C%20-80.908852%5D%2C%20%5B40.845240000000004%2C%20-73.92778%5D%2C%20%5B44.77347%2C%20-93.21721%5D%2C%20%5B28.156945%2C%20-82.391998%5D%2C%20%5B33.88284%2C%20-118.34995%5D%2C%20%5B35.08729%2C%20-80.81248000000001%5D%2C%20%5B34.12117%2C%20-117.83276000000001%5D%2C%20%5B27.797128000000004%2C%20-82.355163%5D%2C%20%5B32.75314%2C%20-97.31959%5D%2C%20%5B40.993179999999995%2C%20-73.67809%5D%2C%20%5B39.022449%2C%20-77.103065%5D%2C%20%5B33.65615%2C%20-117.74444%5D%2C%20%5B33.38563%2C%20-111.95325%5D%2C%20%5B39.361340000000006%2C%20-104.867%5D%2C%20%5B42.322359999999996%2C%20-83.21544%5D%2C%20%5B33.8479%2C%20-117.81794%5D%2C%20%5B41.297589%2C%20-73.937667%5D%2C%20%5B34.125657000000004%2C%20-118.228351%5D%2C%20%5B25.90354%2C%20-80.21027%5D%2C%20%5B43.04813%2C%20-76.17081999999999%5D%2C%20%5B38.57985%2C%20-121.5054%5D%2C%20%5B40.720857%2C%20-80.311635%5D%2C%20%5B35.20259%2C%20-80.73074%5D%2C%20%5B29.51955%2C%20-98.5731%5D%2C%20%5B34.134571%2C%20-118.06979199999999%5D%2C%20%5B33.41109%2C%20-111.98246999999999%5D%2C%20%5B28.625529999999998%2C%20-81.451912%5D%2C%20%5B30.23688%2C%20-93.22284%5D%2C%20%5B34.124856%2C%20-117.69201000000001%5D%2C%20%5B33.91878%2C%20-84.29284%5D%2C%20%5B34.02469%2C%20-117.75713999999999%5D%2C%20%5B45.335527%2C%20-122.76956200000001%5D%2C%20%5B43.157354%2C%20-77.617861%5D%2C%20%5B25.639167%2C%20-80.336205%5D%2C%20%5B36.089659999999995%2C%20-86.68845999999999%5D%2C%20%5B37.882608000000005%2C%20-122.05167800000001%5D%2C%20%5B48.221728999999996%2C%20-122.221949%5D%2C%20%5B27.442429999999998%2C%20-82.46374%5D%2C%20%5B44.655054%2C%20-119.14464299999999%5D%2C%20%5B39.775646%2C%20-79.038552%5D%2C%20%5B37.429877000000005%2C%20-121.88581599999999%5D%2C%20%5B35.27646%2C%20-80.80358000000001%5D%2C%20%5B30.021690000000003%2C%20-90.15391%5D%2C%20%5B36.646974%2C%20-121.81591499999999%5D%2C%20%5B42.384702000000004%2C%20-83.172916%5D%2C%20%5B40.524390000000004%2C%20-74.345566%5D%2C%20%5B26.490622%2C%20-81.843906%5D%2C%20%5B44.05274%2C%20-121.30718999999999%5D%2C%20%5B35.354195000000004%2C%20-119.03941%5D%2C%20%5B35.415107%2C%20-119.02122299999999%5D%2C%20%5B39.20616%2C%20-76.62718000000001%5D%2C%20%5B35.83468%2C%20-78.26137%5D%2C%20%5B39.930281%2C%20-86.145717%5D%2C%20%5B42.950502%2C%20-78.702567%5D%2C%20%5B40.93335%2C%20-73.86932%5D%2C%20%5B37.867281%2C%20-122.202593%5D%2C%20%5B29.9789%2C%20-95.27807%5D%2C%20%5B25.869564%2C%20-80.323174%5D%2C%20%5B34.1387%2C%20-118.71743000000001%5D%2C%20%5B28.650964000000002%2C%20-82.44695%5D%2C%20%5B34.165503%2C%20-118.492347%5D%2C%20%5B25.920737%2C%20-80.325127%5D%2C%20%5B32.76607%2C%20-96.91421700000001%5D%2C%20%5B44.33202%2C%20-121.59056000000001%5D%2C%20%5B36.052422%2C%20-90.407759%5D%2C%20%5B36.84203%2C%20-76.21668000000001%5D%2C%20%5B41.1189%2C%20-111.90852%5D%2C%20%5B39.74427%2C%20-75.56075%5D%2C%20%5B35.693638%2C%20-119.23066200000001%5D%2C%20%5B34.156271999999994%2C%20-118.264356%5D%2C%20%5B34.027634%2C%20-118.23905400000001%5D%2C%20%5B36.10035%2C%20-80.19816999999999%5D%2C%20%5B39.38389%2C%20-76.60701%5D%2C%20%5B31.963047999999997%2C%20-83.752149%5D%2C%20%5B29.6867%2C%20-95.53184%5D%2C%20%5B35.236847%2C%20-80.737803%5D%2C%20%5B26.3124%2C%20-80.11719000000001%5D%2C%20%5B33.63967%2C%20-112.1344%5D%2C%20%5B42.332570000000004%2C%20-88.02861999999999%5D%2C%20%5B36.07894%2C%20-86.72613%5D%2C%20%5B40.531936%2C%20-74.279263%5D%2C%20%5B42.043022%2C%20-80.278823%5D%2C%20%5B37.626781%2C%20-120.99661%5D%2C%20%5B37.535556%2C%20-122.075%5D%2C%20%5B32.7729%2C%20-96.81064%5D%2C%20%5B30.642836%2C%20-87.180603%5D%2C%20%5B36.09912%2C%20-79.89180999999999%5D%2C%20%5B42.64228%2C%20-91.9087%5D%2C%20%5B40.731008%2C%20-73.915763%5D%2C%20%5B38.40185%2C%20-122.72944199999999%5D%2C%20%5B38.95947%2C%20-76.66245%5D%2C%20%5B29.951590000000003%2C%20-95.41762%5D%2C%20%5B34.085464%2C%20-117.689401%5D%2C%20%5B33.95966%2C%20-81.22747%5D%2C%20%5B46.33142%2C%20-93.84600999999999%5D%2C%20%5B35.146435%2C%20-80.896012%5D%2C%20%5B39.23128%2C%20-104.87756%5D%2C%20%5B40.276483%2C%20-74.29411%5D%2C%20%5B38.673214%2C%20-121.639945%5D%2C%20%5B39.788563%2C%20-123.248201%5D%2C%20%5B39.096309999999995%2C%20-94.56716999999999%5D%2C%20%5B40.806466%2C%20-73.23259200000001%5D%2C%20%5B35.01918%2C%20-85.27155%5D%2C%20%5B39.54482%2C%20-75.04881%5D%2C%20%5B40.2373%2C%20-77.12495%5D%2C%20%5B38.86612%2C%20-77.196201%5D%2C%20%5B40.7014%2C%20-73.98862%5D%2C%20%5B25.927298999999998%2C%20-80.18821700000001%5D%2C%20%5B42.64662%2C%20-83.23843000000001%5D%2C%20%5B29.44592%2C%20-95.07405%5D%2C%20%5B37.84857%2C%20-122.23405%5D%2C%20%5B34.15575%2C%20-118.30731000000002%5D%2C%20%5B43.920809999999996%2C%20-92.40859%5D%2C%20%5B38.74779%2C%20-121.26845%5D%2C%20%5B38.692397%2C%20-90.664817%5D%2C%20%5B43.657801%2C%20-123.76701000000001%5D%2C%20%5B41.89739%2C%20-87.65938%5D%2C%20%5B36.255043%2C%20-117.993024%5D%2C%20%5B34.006741999999996%2C%20-117.826647%5D%2C%20%5B26.09378%2C%20-80.16883%5D%2C%20%5B33.1267%2C%20-117.213672%5D%2C%20%5B41.704229999999995%2C%20-87.52575999999999%5D%2C%20%5B40.581567%2C%20-104.83151%5D%2C%20%5B28.385697999999998%2C%20-81.506108%5D%2C%20%5B33.846607%2C%20-118.205578%5D%2C%20%5B26.02788%2C%20-80.16575%5D%2C%20%5B41.84527%2C%20-71.06334%5D%2C%20%5B33.783735%2C%20-118.091473%5D%2C%20%5B38.82367%2C%20-94.51811%5D%2C%20%5B35.096667%2C%20-118.980278%5D%2C%20%5B33.92185%2C%20-118.20341%5D%2C%20%5B43.325070000000004%2C%20-73.56904%5D%2C%20%5B29.658217999999998%2C%20-95.580124%5D%2C%20%5B28.267215999999998%2C%20-82.707402%5D%2C%20%5B34.12097%2C%20-117.832778%5D%2C%20%5B34.119908%2C%20-117.71665300000001%5D%2C%20%5B39.760682%2C%20-121.915322%5D%2C%20%5B34.07248%2C%20-117.93213%5D%2C%20%5B30.311021000000004%2C%20-81.523751%5D%2C%20%5B40.00975%2C%20-75.187221%5D%2C%20%5B32.87101%2C%20-96.89858000000001%5D%2C%20%5B45.56272%2C%20-122.5942%5D%2C%20%5B33.163880999999996%2C%20-117.211922%5D%2C%20%5B43.253291%2C%20-123.359738%5D%2C%20%5B32.884429%2C%20-86.621736%5D%2C%20%5B41.06926%2C%20-73.95024000000001%5D%2C%20%5B39.29353%2C%20-83.14603100000001%5D%2C%20%5B25.941805%2C%20-80.190009%5D%2C%20%5B34.047340000000005%2C%20-118.577919%5D%2C%20%5B33.462340000000005%2C%20-112.161612%5D%2C%20%5B34.048303999999995%2C%20-117.55008000000001%5D%2C%20%5B41.125370000000004%2C%20-105.31031000000002%5D%2C%20%5B42.995509999999996%2C%20-82.43436%5D%2C%20%5B34.13404%2C%20-117.67607%5D%2C%20%5B32.262254%2C%20-86.160173%5D%2C%20%5B30.265756%2C%20-81.765886%5D%2C%20%5B43.515311%2C%20-95.1747%5D%2C%20%5B28.337635%2C%20-81.406705%5D%2C%20%5B41.5781%2C%20-87.64711%5D%2C%20%5B38.845671%2C%20-77.43626400000001%5D%2C%20%5B38.217526%2C%20-122.604064%5D%2C%20%5B37.629979999999996%2C%20-77.53545%5D%2C%20%5B25.90939%2C%20-80.20987%5D%2C%20%5B35.19591%2C%20-80.82725%5D%2C%20%5B36.083286%2C%20-96.00676999999999%5D%2C%20%5B26.466611%2C%20-80.088948%5D%2C%20%5B46.883390000000006%2C%20-92.35273000000001%5D%2C%20%5B47.056342%2C%20-93.906723%5D%2C%20%5B33.88409%2C%20-118.02901000000001%5D%2C%20%5B42.53772%2C%20-83.11634000000001%5D%2C%20%5B32.78953%2C%20-117.1489%5D%2C%20%5B33.786059%2C%20-117.88421699999999%5D%2C%20%5B32.740629999999996%2C%20-117.11627%5D%2C%20%5B35.26317%2C%20-80.761708%5D%2C%20%5B39.92508%2C%20-75.04791999999999%5D%2C%20%5B33.8599%2C%20-118.30688%5D%2C%20%5B41.12295%2C%20-73.33556%5D%2C%20%5B29.569221000000002%2C%20-82.471102%5D%2C%20%5B34.110009999999996%2C%20-118.33386000000002%5D%2C%20%5B47.711628000000005%2C%20-122.329025%5D%2C%20%5B35.325340000000004%2C%20-80.86685%5D%2C%20%5B44.75983%2C%20-122.32073000000001%5D%2C%20%5B36.153290999999996%2C%20-86.764236%5D%2C%20%5B36.917656%2C%20-113.871949%5D%2C%20%5B36.87235%2C%20-76.19564%5D%2C%20%5B33.774522%2C%20-118.07491499999999%5D%2C%20%5B33.663732%2C%20-111.99956%5D%2C%20%5B33.46257%2C%20-112.12931%5D%2C%20%5B36.904104%2C%20-121.727566%5D%2C%20%5B40.0282%2C%20-75.62826%5D%2C%20%5B38.94512%2C%20-85.8434%5D%2C%20%5B33.685264000000004%2C%20-117.896546%5D%2C%20%5B37.777012%2C%20-121.18248%5D%2C%20%5B26.0871%2C%20-80.20716999999999%5D%2C%20%5B35.74762%2C%20-78.83545%5D%2C%20%5B36.15361%2C%20-86.84664000000001%5D%2C%20%5B38.739551%2C%20-77.048304%5D%2C%20%5B44.45315%2C%20-90.085121%5D%2C%20%5B32.705408%2C%20-96.82799200000001%5D%2C%20%5B37.950653%2C%20-121.286014%5D%2C%20%5B44.339929999999995%2C%20-93.29303%5D%2C%20%5B40.602290999999994%2C%20-74.057765%5D%2C%20%5B32.55208%2C%20-93.63495%5D%2C%20%5B38.602214000000004%2C%20-77.134025%5D%2C%20%5B37.41688%2C%20-122.21175%5D%2C%20%5B40.732917%2C%20-74.119951%5D%2C%20%5B33.876503%2C%20-118.09580600000001%5D%2C%20%5B34.435279%2C%20-80.12526700000001%5D%2C%20%5B37.205975%2C%20-82.289264%5D%2C%20%5B37.691221999999996%2C%20-122.13888%5D%2C%20%5B32.322741%2C%20-110.92892900000001%5D%2C%20%5B34.593590999999996%2C%20-117.416926%5D%2C%20%5B26.18241%2C%20-80.15254%5D%2C%20%5B41.855104%2C%20-87.96303499999999%5D%2C%20%5B34.0065%2C%20-118.15531999999999%5D%2C%20%5B39.806313%2C%20-75.350034%5D%2C%20%5B28.25965%2C%20-81.54318%5D%2C%20%5B33.81794%2C%20-117.91821000000002%5D%2C%20%5B33.99527%2C%20-117.36198%5D%2C%20%5B43.19703%2C%20-77.59243000000001%5D%2C%20%5B37.1049%2C%20-120.22352%5D%2C%20%5B34.11903%2C%20-118.15305%5D%2C%20%5B32.79101%2C%20-97.24844%5D%2C%20%5B42.47568%2C%20-83.42938000000001%5D%2C%20%5B46.861377000000005%2C%20-101.570287%5D%2C%20%5B30.426908%2C%20-91.168465%5D%2C%20%5B35.05104%2C%20-80.76953%5D%2C%20%5B34.882222%2C%20-118.90055600000001%5D%2C%20%5B41.98121%2C%20-91.66738000000001%5D%2C%20%5B36.945565%2C%20-120.055998%5D%2C%20%5B40.266948%2C%20-75.199162%5D%2C%20%5B34.188571%2C%20-114.573652%5D%2C%20%5B35.015862%2C%20-85.20880799999999%5D%2C%20%5B40.708433%2C%20-74.14965699999999%5D%2C%20%5B29.8346%2C%20-95.38534%5D%2C%20%5B34.02752%2C%20-118.43013%5D%2C%20%5B46.77609%2C%20-92.11050999999999%5D%2C%20%5B33.80321%2C%20-84.3855%5D%2C%20%5B39.24666%2C%20-76.57621%5D%2C%20%5B45.037583000000005%2C%20-93.091868%5D%2C%20%5B41.284207%2C%20-72.932277%5D%2C%20%5B44.86083%2C%20-122.88135%5D%2C%20%5B29.065269%2C%20-82.01163199999999%5D%2C%20%5B34.061147999999996%2C%20-118.17224099999999%5D%2C%20%5B29.507399%2C%20-81.195927%5D%2C%20%5B43.637244%2C%20-95.395324%5D%2C%20%5B41.584196999999996%2C%20-97.465221%5D%2C%20%5B27.89084%2C%20-82.49388%5D%2C%20%5B32.29298%2C%20-95.305444%5D%2C%20%5B32.780251%2C%20-117.093594%5D%2C%20%5B43.049506%2C%20-83.492553%5D%2C%20%5B38.995795%2C%20-76.985008%5D%2C%20%5B37.85515%2C%20-122.02963000000001%5D%2C%20%5B40.936085999999996%2C%20-124.115771%5D%2C%20%5B41.653729999999996%2C%20-83.55268000000001%5D%2C%20%5B44.979856%2C%20-121.477333%5D%2C%20%5B38.481708000000005%2C%20-121.37179499999999%5D%2C%20%5B27.368709999999997%2C%20-80.41131%5D%2C%20%5B42.314565%2C%20-120.805626%5D%2C%20%5B35.798302%2C%20-78.49136%5D%2C%20%5B43.130553000000006%2C%20-75.223163%5D%2C%20%5B25.963134%2C%20-80.162047%5D%2C%20%5B41.85907%2C%20-88.08699%5D%2C%20%5B38.639495000000004%2C%20-122.594567%5D%2C%20%5B44.916503000000006%2C%20-93.274618%5D%2C%20%5B41.49473%2C%20-71.4566%5D%2C%20%5B38.391664%2C%20-122.529398%5D%2C%20%5B40.713963%2C%20-73.926334%5D%2C%20%5B36.516870000000004%2C%20-119.39488999999999%5D%2C%20%5B38.555092%2C%20-121.742713%5D%2C%20%5B33.591481%2C%20-80.351547%5D%2C%20%5B42.3169%2C%20-83.21521%5D%2C%20%5B40.755562%2C%20-74.00140400000001%5D%2C%20%5B40.85325%2C%20-73.82625%5D%2C%20%5B27.977990000000002%2C%20-82.38903%5D%2C%20%5B34.995825%2C%20-85.30617%5D%2C%20%5B33.95328%2C%20-118.08998000000001%5D%2C%20%5B47.617309999999996%2C%20-122.18637%5D%2C%20%5B35.133186%2C%20-119.46282%5D%2C%20%5B28.472559999999998%2C%20-81.396535%5D%2C%20%5B30.725977%2C%20-86.561366%5D%2C%20%5B41.779751%2C%20-112.270927%5D%2C%20%5B37.851353%2C%20-122.299549%5D%2C%20%5B33.451636%2C%20-117.135108%5D%2C%20%5B34.01025%2C%20-117.42901100000002%5D%2C%20%5B38.87077%2C%20-77.15207%5D%2C%20%5B33.871482%2C%20-117.68551399999998%5D%2C%20%5B41.347172%2C%20-72.400818%5D%2C%20%5B38.965990999999995%2C%20-94.723629%5D%2C%20%5B36.604422%2C%20-119.484375%5D%2C%20%5B34.26878%2C%20-118.95583%5D%2C%20%5B41.454143%2C%20-71.96592700000001%5D%2C%20%5B40.76214%2C%20-73.09444%5D%2C%20%5B30.456115000000004%2C%20-97.666514%5D%2C%20%5B33.48512%2C%20-112.264%5D%2C%20%5B40.364175%2C%20-122.268142%5D%2C%20%5B40.21695%2C%20-74.12776%5D%2C%20%5B35.04765%2C%20-81.98406999999999%5D%2C%20%5B32.84383%2C%20-96.63455%5D%2C%20%5B34.034445%2C%20-117.76118400000001%5D%2C%20%5B45.50732%2C%20-122.67013999999999%5D%2C%20%5B40.273145%2C%20-75.24098000000001%5D%2C%20%5B30.424307000000002%2C%20-91.00753399999999%5D%2C%20%5B33.897009999999995%2C%20-118.10479%5D%2C%20%5B30.2333%2C%20-85.57885999999999%5D%2C%20%5B34.162326%2C%20-118.381677%5D%2C%20%5B37.72135%2C%20-122.44821999999999%5D%2C%20%5B40.68951%2C%20-73.63593%5D%2C%20%5B41.83242%2C%20-71.41703000000001%5D%2C%20%5B30.388714%2C%20-86.435089%5D%2C%20%5B34.276002000000005%2C%20-118.536483%5D%2C%20%5B37.65865%2C%20-122.40541999999999%5D%2C%20%5B28.585479%2C%20-81.410299%5D%2C%20%5B39.10613%2C%20-94.74231999999999%5D%2C%20%5B34.42224%2C%20-119.29001000000001%5D%2C%20%5B34.74299%2C%20-92.39105%5D%2C%20%5B41.117%2C%20-104.86885%5D%2C%20%5B47.1601%2C%20-122.46776000000001%5D%2C%20%5B37.77129%2C%20-122.40853%5D%2C%20%5B37.340276%2C%20-120.540352%5D%2C%20%5B45.633359000000006%2C%20-123.361051%5D%2C%20%5B40.710679999999996%2C%20-74.00272%5D%2C%20%5B33.75269%2C%20-84.71127%5D%2C%20%5B40.026286%2C%20-76.306947%5D%2C%20%5B30.377890999999998%2C%20-91.016917%5D%2C%20%5B41.62511%2C%20-71.48669%5D%2C%20%5B36.14052%2C%20-86.72365%5D%2C%20%5B35.169418%2C%20-90.018364%5D%2C%20%5B25.857666000000002%2C%20-80.32286500000001%5D%2C%20%5B37.332986%2C%20-121.93816799999999%5D%2C%20%5B33.519169%2C%20-117.16096%5D%2C%20%5B37.728562%2C%20-121.10785600000001%5D%2C%20%5B34.173082%2C%20-118.30641100000001%5D%2C%20%5B44.81112%2C%20-93.04094%5D%2C%20%5B42.67962%2C%20-70.97573%5D%2C%20%5B33.92017%2C%20-84.320636%5D%2C%20%5B34.01913%2C%20-117.82666599999999%5D%2C%20%5B34.281389000000004%2C%20-118.69805600000001%5D%2C%20%5B36.064577%2C%20-79.520228%5D%2C%20%5B41.48653%2C%20-112.01574%5D%2C%20%5B45.476459999999996%2C%20-122.82616000000002%5D%2C%20%5B42.363919%2C%20-87.96351%5D%2C%20%5B34.720729999999996%2C%20-112.00266%5D%2C%20%5B33.8567%2C%20-84.36943000000001%5D%2C%20%5B35.059984%2C%20-85.067697%5D%2C%20%5B40.79566%2C%20-73.82557%5D%2C%20%5B38.04285%2C%20-78.72161%5D%2C%20%5B34.036256%2C%20-118.321176%5D%2C%20%5B33.850147%2C%20-117.87591599999999%5D%2C%20%5B42.13006%2C%20-72.06761%5D%2C%20%5B36.993683000000004%2C%20-121.49819199999999%5D%2C%20%5B33.78989%2C%20-84.49068%5D%2C%20%5B36.998289%2C%20-122.00917%5D%2C%20%5B37.64691%2C%20-77.58298%5D%2C%20%5B40.58447%2C%20-73.92642%5D%2C%20%5B43.163276%2C%20-83.703836%5D%2C%20%5B42.1687%2C%20-71.51234000000001%5D%2C%20%5B39.26493%2C%20-76.5644%5D%2C%20%5B29.820511%2C%20-81.376841%5D%2C%20%5B32.742532000000004%2C%20-117.182349%5D%2C%20%5B40.94493%2C%20-73.84834000000001%5D%2C%20%5B30.375992%2C%20-82.233387%5D%2C%20%5B35.791016%2C%20-78.715262%5D%2C%20%5B42.40289%2C%20-71.06952%5D%2C%20%5B40.60718%2C%20-111.90541999999999%5D%2C%20%5B26.617390000000004%2C%20-80.089%5D%2C%20%5B34.273378%2C%20-118.5904%5D%2C%20%5B45.10593%2C%20-93.39317%5D%2C%20%5B33.77187%2C%20-84.39041%5D%2C%20%5B41.87162%2C%20-87.75895%5D%2C%20%5B38.086832%2C%20-121.25008400000002%5D%2C%20%5B26.006075%2C%20-80.167079%5D%2C%20%5B37.996773%2C%20-121.789698%5D%2C%20%5B44.94362%2C%20-93.34808000000001%5D%2C%20%5B39.2708%2C%20-94.51049%5D%2C%20%5B38.348758000000004%2C%20-81.63035699999999%5D%2C%20%5B32.913011%2C%20-117.116006%5D%2C%20%5B41.875370000000004%2C%20-87.64933%5D%2C%20%5B42.27459%2C%20-85.42505%5D%2C%20%5B41.209542%2C%20-73.72981%5D%2C%20%5B45.0337%2C%20-122.73361000000001%5D%2C%20%5B35.29076%2C%20-80.75718%5D%2C%20%5B35.3912%2C%20-118.978425%5D%2C%20%5B33.70585%2C%20-84.77730799999999%5D%2C%20%5B32.819790000000005%2C%20-96.92123000000001%5D%2C%20%5B40.6637%2C%20-75.38243%5D%2C%20%5B33.38563%2C%20-111.95325%5D%2C%20%5B35.434521999999994%2C%20-119.075928%5D%2C%20%5B30.420693%2C%20-91.177716%5D%2C%20%5B42.43723%2C%20-123.26893999999999%5D%2C%20%5B38.322403%2C%20-122.02571200000001%5D%2C%20%5B37.145234%2C%20-121.98428500000001%5D%2C%20%5B40.758301%2C%20-73.622957%5D%2C%20%5B29.207721000000003%2C%20-95.212422%5D%2C%20%5B39.089158000000005%2C%20-112.271174%5D%2C%20%5B34.0831%2C%20-83.99585%5D%2C%20%5B40.73803%2C%20-114.04333999999999%5D%2C%20%5B45.077601%2C%20-93.366483%5D%2C%20%5B39.31216%2C%20-76.74450999999999%5D%2C%20%5B42.4662%2C%20-88.017847%5D%2C%20%5B37.094617%2C%20-119.752431%5D%5D%2C%0A%20%20%20%20%20%20%20%20%20%20%20%20%20%20%20%20%7B%0A%20%20%20%20%20%20%20%20%20%20%20%20%20%20%20%20%20%20%20%20minOpacity%3A%200.5%2C%0A%20%20%20%20%20%20%20%20%20%20%20%20%20%20%20%20%20%20%20%20maxZoom%3A%2018%2C%0A%20%20%20%20%20%20%20%20%20%20%20%20%20%20%20%20%20%20%20%20max%3A%201.0%2C%0A%20%20%20%20%20%20%20%20%20%20%20%20%20%20%20%20%20%20%20%20radius%3A%2025%2C%0A%20%20%20%20%20%20%20%20%20%20%20%20%20%20%20%20%20%20%20%20blur%3A%2015%2C%0A%20%20%20%20%20%20%20%20%20%20%20%20%20%20%20%20%20%20%20%20gradient%3A%20null%0A%20%20%20%20%20%20%20%20%20%20%20%20%20%20%20%20%20%20%20%20%7D%29%0A%20%20%20%20%20%20%20%20%20%20%20%20%20%20%20%20.addTo%28map_2e286bb35cda4b0d99719f20254cb988%29%3B%0A%20%20%20%20%20%20%20%20%0A%3C/script%3E onload=\"this.contentDocument.open();this.contentDocument.write(    decodeURIComponent(this.getAttribute('data-html')));this.contentDocument.close();\" allowfullscreen webkitallowfullscreen mozallowfullscreen></iframe></div></div>"
            ],
            "text/plain": [
              "<folium.folium.Map at 0x7f8b6222f2d0>"
            ]
          },
          "execution_count": 115,
          "metadata": {},
          "output_type": "execute_result"
        }
      ]
    },
    {
      "cell_type": "markdown",
      "metadata": {
        "id": "TGUclMdE7zf5"
      },
      "source": [
        "#Ask and answer questions\n",
        "\n",
        "\n",
        "*   Are there more accidents in the warmer or colder area?\n",
        "\n",
        "*   Which 5 states have the highest number of accidents? How about per capita?\n",
        "\n",
        "\n",
        "*   Does New york show up in the data? If yes why is the count lower if this is the most populated city?\n",
        "\n",
        "*   Among the top 100 cities of accident occured which state do they belong to most frequently.\n",
        "\n",
        "*   What time of the day are accident more frequent. - ANSWERED\n",
        "\n",
        "*   Which days of the week have the most accidents\n",
        "\n",
        "*   Which months have more accident?\n",
        "\n",
        "*   What is the trend of accidents year over year (increasing/decreasing?)\n",
        "\n",
        "*   When is accidents per unit of traffic the highest.\n",
        "\n",
        "*   \n",
        "\n",
        "\n",
        "\n",
        "\n",
        "\n",
        "\n",
        "\n",
        "\n",
        "\n",
        "\n",
        "\n"
      ]
    },
    {
      "cell_type": "code",
      "metadata": {
        "id": "AFH6W1O87zMv"
      },
      "source": [
        ""
      ],
      "execution_count": null,
      "outputs": []
    },
    {
      "cell_type": "code",
      "metadata": {
        "id": "JGCxQsUr7yrY"
      },
      "source": [
        ""
      ],
      "execution_count": null,
      "outputs": []
    },
    {
      "cell_type": "markdown",
      "metadata": {
        "id": "z_UhqpBYz-I6"
      },
      "source": [
        "#Summary and conclusion"
      ]
    },
    {
      "cell_type": "markdown",
      "metadata": {
        "id": "0FHmD6KJCIKY"
      },
      "source": [
        "Insights:\n",
        "1. No data for New york.\n",
        "2. Less than 2% of the cities have more than 1000 yearly accidents (cell 37)\n",
        "3. Over 1167 cities have reported just one accident (need to investigate) (cell 45)\n",
        "4. The number of accident per cities increases/decreases exponentially."
      ]
    },
    {
      "cell_type": "markdown",
      "metadata": {
        "id": "jMl1Qlc8kgaP"
      },
      "source": [
        "Areas to analyse in future"
      ]
    },
    {
      "cell_type": "code",
      "metadata": {
        "id": "ZJRHTXhQkmQI"
      },
      "source": [
        "import jovian"
      ],
      "execution_count": null,
      "outputs": []
    },
    {
      "cell_type": "code",
      "metadata": {
        "colab": {
          "base_uri": "https://localhost:8080/",
          "height": 86
        },
        "id": "FBCV_WrDz91y",
        "outputId": "f97d9970-fc07-4feb-be55-6a0793c84923"
      },
      "source": [
        "jovian.commit()\n"
      ],
      "execution_count": null,
      "outputs": [
        {
          "name": "stdout",
          "output_type": "stream",
          "text": [
            "[jovian] Detected Colab notebook...\u001b[0m\n",
            "[jovian] Uploading colab notebook to Jovian...\u001b[0m\n",
            "Committed successfully! https://jovian.ai/iamsowmiya16/us-accidents-analysis\n"
          ]
        },
        {
          "data": {
            "application/vnd.google.colaboratory.intrinsic+json": {
              "type": "string"
            },
            "text/plain": [
              "'https://jovian.ai/iamsowmiya16/us-accidents-analysis'"
            ]
          },
          "execution_count": 116,
          "metadata": {},
          "output_type": "execute_result"
        }
      ]
    }
  ]
}